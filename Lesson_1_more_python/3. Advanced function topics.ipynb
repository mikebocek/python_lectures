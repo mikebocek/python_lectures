{
 "cells": [
  {
   "cell_type": "markdown",
   "metadata": {},
   "source": [
    "# Default arguments\n",
    "\n",
    "Up until now, all the functions we have written have forced the user to specify all of their arguments, like the function below:\n",
    "\n",
    "```python\n",
    "def test_function(variable_1, variable_2):\n",
    "    return None\n",
    "```\n",
    "\n",
    "Sometimes, we may want to simplify the user's life by not forcing them to specify all the options in the function."
   ]
  },
  {
   "cell_type": "code",
   "execution_count": null,
   "metadata": {
    "collapsed": true
   },
   "outputs": [],
   "source": []
  }
 ],
 "metadata": {
  "kernelspec": {
   "display_name": "Python [default]",
   "language": "python",
   "name": "python3"
  },
  "language_info": {
   "codemirror_mode": {
    "name": "ipython",
    "version": 3
   },
   "file_extension": ".py",
   "mimetype": "text/x-python",
   "name": "python",
   "nbconvert_exporter": "python",
   "pygments_lexer": "ipython3",
   "version": "3.5.2"
  }
 },
 "nbformat": 4,
 "nbformat_minor": 1
}

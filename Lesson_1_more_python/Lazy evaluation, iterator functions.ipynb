{
 "cells": [
  {
   "cell_type": "markdown",
   "metadata": {},
   "source": [
    "# Lazy evaluation \n",
    "\n"
   ]
  },
  {
   "cell_type": "code",
   "execution_count": null,
   "metadata": {
    "collapsed": true
   },
   "outputs": [],
   "source": []
  },
  {
   "cell_type": "markdown",
   "metadata": {},
   "source": [
    "# Built in iteration functions\n",
    "\n",
    "Python programs are constantly iterating through data, whether it's a list, a dictionary, a file, or some custom data type. There are certain patterns for working with iterators that are so common that Python provides built in functions to work with them. Let's see a few in action:\n",
    "\n",
    "## Counting while iterating with *enumerate()*\n",
    "\n",
    "Very often, we'll want to go through a list and know both the value at every index, as well as the index. When we type\n",
    "\n",
    "```python\n",
    "for item in list:\n",
    "    pass\n",
    "```\n",
    "\n",
    "this only gives us the value of the item in the list, but not the index that we find this item. One way to solve this would be to maintain and update a count variable, like below:\n",
    "\n",
    "```python\n",
    "index = 0\n",
    "for item in list:\n",
    "    # do something with item, index\n",
    "    index +=1\n",
    "```\n",
    "\n",
    "but this is tedious, and prone to bugs if you forget to update the index variable. A better way to do this is using the *enumerate()* function, which returns an (index, item) tuple for every item in the list. Let's see an example below:\n"
   ]
  },
  {
   "cell_type": "code",
   "execution_count": 2,
   "metadata": {
    "collapsed": false
   },
   "outputs": [
    {
     "name": "stdout",
     "output_type": "stream",
     "text": [
      "Item 0 is Eggs\n",
      "Item 1 is Milk\n",
      "Item 2 is Bread\n",
      "Item 3 is Cheese\n"
     ]
    }
   ],
   "source": [
    "grocery_list = ['Eggs', 'Milk', 'Bread', 'Cheese']\n",
    "\n",
    "for index, item in enumerate(grocery_list):\n",
    "    print(\"Item\", index, \"is\", item)"
   ]
  },
  {
   "cell_type": "markdown",
   "metadata": {},
   "source": [
    "like all other indicies in Python, the numbers returned from *enumerate()* begin at 0."
   ]
  },
  {
   "cell_type": "markdown",
   "metadata": {
    "collapsed": true
   },
   "source": [
    "## Reversing with *reversed()*\n",
    "\n",
    "For ordered collections (like a list or a tuple, but not a dictionary), the *reversed()* function will return the items in the collection, but reversed. Let's see it in action:"
   ]
  },
  {
   "cell_type": "code",
   "execution_count": 4,
   "metadata": {
    "collapsed": false
   },
   "outputs": [
    {
     "name": "stdout",
     "output_type": "stream",
     "text": [
      "Cheese\n",
      "Bread\n",
      "Milk\n",
      "Eggs\n"
     ]
    }
   ],
   "source": [
    "for food_item in reversed(grocery_list):\n",
    "    print(food_item)"
   ]
  },
  {
   "cell_type": "code",
   "execution_count": null,
   "metadata": {
    "collapsed": true
   },
   "outputs": [],
   "source": []
  }
 ],
 "metadata": {
  "anaconda-cloud": {},
  "kernelspec": {
   "display_name": "Python [default]",
   "language": "python",
   "name": "python3"
  },
  "language_info": {
   "codemirror_mode": {
    "name": "ipython",
    "version": 3
   },
   "file_extension": ".py",
   "mimetype": "text/x-python",
   "name": "python",
   "nbconvert_exporter": "python",
   "pygments_lexer": "ipython3",
   "version": "3.5.2"
  }
 },
 "nbformat": 4,
 "nbformat_minor": 1
}

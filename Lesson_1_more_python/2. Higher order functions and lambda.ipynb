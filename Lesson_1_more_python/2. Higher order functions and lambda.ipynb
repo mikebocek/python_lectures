{
 "cells": [
  {
   "cell_type": "code",
   "execution_count": 27,
   "metadata": {
    "collapsed": true
   },
   "outputs": [],
   "source": [
    "import unittest\n",
    "import util"
   ]
  },
  {
   "cell_type": "markdown",
   "metadata": {},
   "source": [
    "# Functions can call other functions\n",
    "\n",
    "So far, we've only ever encountered functions as a way to take a set of instructions, and seperate them out into an easily repeatable unit of code. Once we've created a function, we've only ever used it by calling it, like below: "
   ]
  },
  {
   "cell_type": "code",
   "execution_count": 1,
   "metadata": {
    "collapsed": false
   },
   "outputs": [
    {
     "name": "stdout",
     "output_type": "stream",
     "text": [
      "4\n",
      "6\n"
     ]
    }
   ],
   "source": [
    "def add_one(x):\n",
    "    return x + 1\n",
    "\n",
    "def double(x):\n",
    "    return x * 2\n",
    "\n",
    "print(add_one(3))\n",
    "print(double(3))"
   ]
  },
  {
   "cell_type": "markdown",
   "metadata": {},
   "source": [
    "As it turns out though, a function, once created, can be used like any other variable. This means that functions (without the parantheses () ) can be passed to other functions as arguments! Below, we've created a simple function that takes another function as an argument, and prints the answer out"
   ]
  },
  {
   "cell_type": "code",
   "execution_count": 2,
   "metadata": {
    "collapsed": false
   },
   "outputs": [
    {
     "name": "stdout",
     "output_type": "stream",
     "text": [
      "4\n",
      "6\n"
     ]
    }
   ],
   "source": [
    "def call_function_on_3(function):\n",
    "    answer = function(3)\n",
    "    return answer\n",
    "\n",
    "print(call_function_on_3(add_one))\n",
    "print(call_function_on_3(double))"
   ]
  },
  {
   "cell_type": "markdown",
   "metadata": {},
   "source": [
    "Note that when we pass a function to another function, we don't include any parantheses. This is because we don't want the function to execute in the line of code where we pass it. Instead, we want call_function_on_3 to call our other function inside of the body of call_function_on_3.\n",
    "\n",
    "Nifty! But a function that calls another function on the number three is not particularly useful. Let's try something with a little more power. In Python, we're often taking a list and then doing something with every element of the list. We used to write this sort of code by creating an empty list, and then using a *for* loop to grow a new list where each element is transformed by the function"
   ]
  },
  {
   "cell_type": "code",
   "execution_count": 3,
   "metadata": {
    "collapsed": false
   },
   "outputs": [
    {
     "data": {
      "text/plain": [
       "[0, 2, 4, 6, 8]"
      ]
     },
     "execution_count": 3,
     "metadata": {},
     "output_type": "execute_result"
    }
   ],
   "source": [
    "old_list = list(range(5))\n",
    "output = []\n",
    "for item in old_list:\n",
    "    output.append(double(item))\n",
    "output"
   ]
  },
  {
   "cell_type": "markdown",
   "metadata": {},
   "source": [
    "We learned a slightly more fancy way to do this same thing with list comprehensions"
   ]
  },
  {
   "cell_type": "code",
   "execution_count": 4,
   "metadata": {
    "collapsed": true
   },
   "outputs": [],
   "source": [
    "output = [double(item) for item in old_list]"
   ]
  },
  {
   "cell_type": "markdown",
   "metadata": {},
   "source": [
    "Let's write a function that takes a list and another function as arguments, and then outputs a new list where we've applied the function to each element of the old list"
   ]
  },
  {
   "cell_type": "code",
   "execution_count": 5,
   "metadata": {
    "collapsed": true
   },
   "outputs": [],
   "source": [
    "def apply_to_all(function_to_apply, old_list):\n",
    "    output = []\n",
    "    for old_item in old_list:\n",
    "        new_item = function_to_apply(old_item)\n",
    "        output.append(new_item)\n",
    "    return output"
   ]
  },
  {
   "cell_type": "code",
   "execution_count": 6,
   "metadata": {
    "collapsed": false
   },
   "outputs": [
    {
     "data": {
      "text/plain": [
       "[0, 2, 4, 6, 8]"
      ]
     },
     "execution_count": 6,
     "metadata": {},
     "output_type": "execute_result"
    }
   ],
   "source": [
    "apply_to_all(double, old_list)"
   ]
  },
  {
   "cell_type": "markdown",
   "metadata": {},
   "source": [
    "## The map() function\n",
    "\n",
    "Our apply_to_all function is pretty useful! In fact, it's so useful that python provides a built in version called map(). Unlike our function, however, map() is *lazy*, meaning that it produces a generator. If we don't need the perfomance boost of this generator, however, we can easily turn it into a list."
   ]
  },
  {
   "cell_type": "code",
   "execution_count": 7,
   "metadata": {
    "collapsed": false
   },
   "outputs": [
    {
     "data": {
      "text/plain": [
       "[0, 2, 4, 6, 8]"
      ]
     },
     "execution_count": 7,
     "metadata": {},
     "output_type": "execute_result"
    }
   ],
   "source": [
    "list(map(double, old_list))"
   ]
  },
  {
   "cell_type": "markdown",
   "metadata": {},
   "source": [
    "## The filter() function\n",
    "\n",
    "filter() is another useful higher order function that Python provides. Basically filter takes a list, and a function that outputs true or false values. Filter() selects only those items that return True from the function. Like map(), it's a function that returns a lazy generator."
   ]
  },
  {
   "cell_type": "code",
   "execution_count": 8,
   "metadata": {
    "collapsed": false
   },
   "outputs": [
    {
     "data": {
      "text/plain": [
       "[0, 2, 4]"
      ]
     },
     "execution_count": 8,
     "metadata": {},
     "output_type": "execute_result"
    }
   ],
   "source": [
    "def is_even(x):\n",
    "    return not x % 2\n",
    "\n",
    "list(filter(is_even, old_list))"
   ]
  },
  {
   "cell_type": "markdown",
   "metadata": {},
   "source": [
    "## Sorting with a key\n",
    "\n",
    "We met the sorted() function last chapter as a way to sort lists. By deafult, sorted() uses the normal comparison of whatever data type is contained in the list. Sometimes, however, we want to customize that way that elements of a list are compared when they're sorted.\n",
    "\n",
    "Normally, strings are compared using lexical order of the first letter, then the next, then the next. Let's say for some reason, though, we wanted to sort strings by the **last** character, then the next to last, and so on. One way of doing this would be to use map to reverse every string in the list, sort it, and then call map again."
   ]
  },
  {
   "cell_type": "code",
   "execution_count": 9,
   "metadata": {
    "collapsed": true
   },
   "outputs": [],
   "source": [
    "def sort_strings_reverse(strings):\n",
    "    reversed_strings = [s[::-1] for s in strings]\n",
    "    reversed_strings = sorted(reversed_strings)\n",
    "    return [s[::-1] for s in reversed_strings]"
   ]
  },
  {
   "cell_type": "code",
   "execution_count": 10,
   "metadata": {
    "collapsed": false
   },
   "outputs": [
    {
     "data": {
      "text/plain": [
       "['a', 'to', 'strings', 'is', 'This', 'sort', 'few']"
      ]
     },
     "execution_count": 10,
     "metadata": {},
     "output_type": "execute_result"
    }
   ],
   "source": [
    "sort_strings_reverse(['This', 'is', 'a', 'few', 'strings', 'to', 'sort'])"
   ]
  },
  {
   "cell_type": "markdown",
   "metadata": {},
   "source": [
    "This is a little tedious, though, and not every sort of transformation we might do on the strings would be so easy to reverse. Instead, sorted() optionally accepts a *key* argument with a function telling it how to sort the items in a list! Let's see how this would work for the example above "
   ]
  },
  {
   "cell_type": "code",
   "execution_count": 11,
   "metadata": {
    "collapsed": true
   },
   "outputs": [],
   "source": [
    "def reverse_string(s):\n",
    "    return s[::-1]"
   ]
  },
  {
   "cell_type": "code",
   "execution_count": 12,
   "metadata": {
    "collapsed": false
   },
   "outputs": [
    {
     "data": {
      "text/plain": [
       "['a', 'to', 'strings', 'is', 'This', 'sort', 'few']"
      ]
     },
     "execution_count": 12,
     "metadata": {},
     "output_type": "execute_result"
    }
   ],
   "source": [
    "sorted(['This', 'is', 'a', 'few', 'strings', 'to', 'sort'], key=reverse_string)"
   ]
  },
  {
   "cell_type": "markdown",
   "metadata": {
    "collapsed": true
   },
   "source": [
    "Another useful example might be if we're sorting a list of dictionaries, where they keys are different kinds of data. Let's say that we have a list of dictionaries that give information about a city and its temperature:"
   ]
  },
  {
   "cell_type": "code",
   "execution_count": 24,
   "metadata": {
    "collapsed": false
   },
   "outputs": [],
   "source": [
    "city_temps = [\n",
    "    {'city': 'Seattle',\n",
    "     'temp': 63\n",
    "    },\n",
    "    {'city': 'San Francisco',\n",
    "     'temp': 72\n",
    "    },\n",
    "    {'city': 'Los Angeles',\n",
    "     'temp': 90\n",
    "    },\n",
    "    {'city': 'Phoenix',\n",
    "     'temp': 30000000002\n",
    "    }\n",
    "]"
   ]
  },
  {
   "cell_type": "markdown",
   "metadata": {},
   "source": [
    "There's really two meaningful ways of sorting this data. We could either sort by the city name alphabetically, or by the temperature. Which one does sorted() do by default?"
   ]
  },
  {
   "cell_type": "code",
   "execution_count": 14,
   "metadata": {
    "collapsed": false
   },
   "outputs": [
    {
     "ename": "TypeError",
     "evalue": "unorderable types: dict() < dict()",
     "output_type": "error",
     "traceback": [
      "\u001b[0;31m---------------------------------------------------------------------------\u001b[0m",
      "\u001b[0;31mTypeError\u001b[0m                                 Traceback (most recent call last)",
      "\u001b[0;32m<ipython-input-14-21e64dd0b9d0>\u001b[0m in \u001b[0;36m<module>\u001b[0;34m()\u001b[0m\n\u001b[0;32m----> 1\u001b[0;31m \u001b[0msorted\u001b[0m\u001b[0;34m(\u001b[0m\u001b[0mcity_temps\u001b[0m\u001b[0;34m)\u001b[0m\u001b[0;34m\u001b[0m\u001b[0m\n\u001b[0m",
      "\u001b[0;31mTypeError\u001b[0m: unorderable types: dict() < dict()"
     ]
    }
   ],
   "source": [
    "sorted(city_temps)"
   ]
  },
  {
   "cell_type": "markdown",
   "metadata": {},
   "source": [
    "It doesn't do either, because in general there's no meaningful way to order two dictionaries! It might look like we're stuck, but sorted() provides an optional second *key* argument that we can use to specify how two objects should be compared. \n",
    "\n",
    "The key is a function that maps whatever the input is onto a data type that Python understands comparisons for, like strings or numbers. Let's start by defining a function to pull the city name out of a data point, using dictionary indexing."
   ]
  },
  {
   "cell_type": "code",
   "execution_count": 15,
   "metadata": {
    "collapsed": false
   },
   "outputs": [
    {
     "data": {
      "text/plain": [
       "'Seattle'"
      ]
     },
     "execution_count": 15,
     "metadata": {},
     "output_type": "execute_result"
    }
   ],
   "source": [
    "def get_city_name(data_point):\n",
    "    return data_point['city']\n",
    "\n",
    "get_city_name(city_temps[0])"
   ]
  },
  {
   "cell_type": "markdown",
   "metadata": {},
   "source": [
    "Using this function, we can now get a version of the list sorted according to the names of the cities."
   ]
  },
  {
   "cell_type": "code",
   "execution_count": 16,
   "metadata": {
    "collapsed": false
   },
   "outputs": [
    {
     "data": {
      "text/plain": [
       "[{'city': 'Los Angeles', 'temp': 90},\n",
       " {'city': 'Phoenix', 'temp': 30000000000},\n",
       " {'city': 'San Francisco', 'temp': 72},\n",
       " {'city': 'Seattle', 'temp': 63}]"
      ]
     },
     "execution_count": 16,
     "metadata": {},
     "output_type": "execute_result"
    }
   ],
   "source": [
    "sorted(city_temps, key=get_city_name)"
   ]
  },
  {
   "cell_type": "markdown",
   "metadata": {},
   "source": [
    "We can do something similar for the temperatures, extracting them as a number: "
   ]
  },
  {
   "cell_type": "code",
   "execution_count": 17,
   "metadata": {
    "collapsed": false
   },
   "outputs": [
    {
     "data": {
      "text/plain": [
       "[{'city': 'Seattle', 'temp': 63},\n",
       " {'city': 'San Francisco', 'temp': 72},\n",
       " {'city': 'Los Angeles', 'temp': 90},\n",
       " {'city': 'Phoenix', 'temp': 30000000000}]"
      ]
     },
     "execution_count": 17,
     "metadata": {},
     "output_type": "execute_result"
    }
   ],
   "source": [
    "def get_temperature(data_point):\n",
    "    return data_point['temp']\n",
    "\n",
    "sorted(city_temps, key=get_temperature)"
   ]
  },
  {
   "cell_type": "markdown",
   "metadata": {},
   "source": [
    "## The lambda keyword\n",
    "\n",
    "Often times, for functions like map(), filter() and sort(), we find ourselves writing very short one-use functions. While it's generally considered good style to give these functions real names, Python provides a keyword called *lambda* which allows us to quickly define one off functions. Since the use of a greek letter name is a little intimidating, let's just see how we might use lambda to more concisely sort this list by temperature "
   ]
  },
  {
   "cell_type": "code",
   "execution_count": 18,
   "metadata": {
    "collapsed": false
   },
   "outputs": [
    {
     "data": {
      "text/plain": [
       "[{'city': 'Seattle', 'temp': 63},\n",
       " {'city': 'San Francisco', 'temp': 72},\n",
       " {'city': 'Los Angeles', 'temp': 90},\n",
       " {'city': 'Phoenix', 'temp': 30000000000}]"
      ]
     },
     "execution_count": 18,
     "metadata": {},
     "output_type": "execute_result"
    }
   ],
   "source": [
    "sorted(city_temps, key= lambda x: x['temp'])"
   ]
  },
  {
   "cell_type": "markdown",
   "metadata": {},
   "source": [
    "Essentially, lambda is a short way to define functions with a single expression. You define one (at least usually one) variable on the left side of the colon :. On the right side of the colon :, you put a single expression that acts like a return statement. So the expression:\n",
    "\n",
    "```python\n",
    "lambda x : x + 1\n",
    "```\n",
    "\n",
    "is equivalent to using the following function by name.\n",
    "\n",
    "```python\n",
    "def add_one(x):\n",
    "    return x + 1\n",
    "```\n",
    "\n",
    "Lambdas are useful for one-off functions, but it's worth noting that they are extremely limited in what they can do (for example, lambdas cannot contain *if* statements or *for* loops, though they can contain list comprehensions.\n",
    "\n",
    "If you don't want to use lambda, you can always define a function to do the exact same thing. Many programmers would even consider this to be better style. However, lambdas are quite common in some Python code, and it is good to be familiar with the syntax even if you don't personally use it."
   ]
  },
  {
   "cell_type": "markdown",
   "metadata": {},
   "source": [
    "## Aside: Good coding style for accessing attributes of dictionaries\n",
    "\n",
    "In actual Python code, it's considered somewhat bad practice to write lamdbas for certain common operations, like accesing keys from a dictionary. Python programmers typically use the operator.itemgetter() function to replace lambdas like these, in order to make their code more readable and explicit. You can see it in action below:"
   ]
  },
  {
   "cell_type": "code",
   "execution_count": 22,
   "metadata": {
    "collapsed": false
   },
   "outputs": [
    {
     "data": {
      "text/plain": [
       "[{'city': 'Los Angeles', 'temp': 90},\n",
       " {'city': 'Phoenix', 'temp': 30000000000},\n",
       " {'city': 'San Francisco', 'temp': 72},\n",
       " {'city': 'Seattle', 'temp': 63}]"
      ]
     },
     "execution_count": 22,
     "metadata": {},
     "output_type": "execute_result"
    }
   ],
   "source": [
    "import operator\n",
    "\n",
    "sorted(city_temps, key=operator.itemgetter('city'))"
   ]
  },
  {
   "cell_type": "code",
   "execution_count": 23,
   "metadata": {
    "collapsed": false
   },
   "outputs": [
    {
     "data": {
      "text/plain": [
       "[{'city': 'Seattle', 'temp': 63},\n",
       " {'city': 'San Francisco', 'temp': 72},\n",
       " {'city': 'Los Angeles', 'temp': 90},\n",
       " {'city': 'Phoenix', 'temp': 30000000000}]"
      ]
     },
     "execution_count": 23,
     "metadata": {},
     "output_type": "execute_result"
    }
   ],
   "source": [
    "sorted(city_temps, key=operator.itemgetter('temp'))"
   ]
  },
  {
   "cell_type": "markdown",
   "metadata": {},
   "source": [
    "# Excercises \n",
    "\n",
    "## 1: Implement non-lazy filter() for lists\n",
    "\n",
    "Above, we implemented the map() function as apply_to_all(). Using a *for* loop, implement the filter() function below as select_items(), returning a list of only the items in collection that meet the criterion of the filter_function."
   ]
  },
  {
   "cell_type": "code",
   "execution_count": 38,
   "metadata": {
    "collapsed": true
   },
   "outputs": [],
   "source": [
    "def select_items(filter_function, collection):\n",
    "    return [i for i in collection if filter_function(i)] # Could also use a traditional for loop"
   ]
  },
  {
   "cell_type": "code",
   "execution_count": 39,
   "metadata": {
    "collapsed": false
   },
   "outputs": [
    {
     "name": "stderr",
     "output_type": "stream",
     "text": [
      "test_long_strings (__main__.FilterTest) ... ok\n",
      "test_numerical_filter (__main__.FilterTest) ... ok\n",
      "\n",
      "----------------------------------------------------------------------\n",
      "Ran 2 tests in 0.005s\n",
      "\n",
      "OK\n"
     ]
    }
   ],
   "source": [
    "class FilterTest(unittest.TestCase):\n",
    "    def test_numerical_filter(self):\n",
    "        data = [5, 6, 8, 20, 33, 6, 7]\n",
    "        self.assertEqual(select_items(lambda x: not (x % 2), data), [6, 8, 20, 6])\n",
    "    def test_long_strings(self):\n",
    "        data = ['these', 'are', 'a', 'few', 'strings', 'of', 'different', 'lengths']\n",
    "        self.assertEqual(select_items(lambda x: len(x) > 3, data), ['these', 'strings', 'different', 'lengths'])\n",
    "        \n",
    "util.run_tests(FilterTest)"
   ]
  },
  {
   "cell_type": "markdown",
   "metadata": {},
   "source": [
    "## 2: "
   ]
  },
  {
   "cell_type": "code",
   "execution_count": null,
   "metadata": {
    "collapsed": true
   },
   "outputs": [],
   "source": []
  },
  {
   "cell_type": "code",
   "execution_count": null,
   "metadata": {
    "collapsed": true
   },
   "outputs": [],
   "source": []
  },
  {
   "cell_type": "code",
   "execution_count": null,
   "metadata": {
    "collapsed": true
   },
   "outputs": [],
   "source": []
  },
  {
   "cell_type": "code",
   "execution_count": null,
   "metadata": {
    "collapsed": true
   },
   "outputs": [],
   "source": []
  },
  {
   "cell_type": "code",
   "execution_count": null,
   "metadata": {
    "collapsed": true
   },
   "outputs": [],
   "source": []
  }
 ],
 "metadata": {
  "anaconda-cloud": {},
  "kernelspec": {
   "display_name": "Python [conda root]",
   "language": "python",
   "name": "conda-root-py"
  },
  "language_info": {
   "codemirror_mode": {
    "name": "ipython",
    "version": 3
   },
   "file_extension": ".py",
   "mimetype": "text/x-python",
   "name": "python",
   "nbconvert_exporter": "python",
   "pygments_lexer": "ipython3",
   "version": "3.5.2"
  }
 },
 "nbformat": 4,
 "nbformat_minor": 1
}

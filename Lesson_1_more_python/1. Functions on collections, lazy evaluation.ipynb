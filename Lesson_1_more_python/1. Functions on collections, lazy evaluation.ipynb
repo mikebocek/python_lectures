{
 "cells": [
  {
   "cell_type": "code",
   "execution_count": 4,
   "metadata": {
    "collapsed": true
   },
   "outputs": [],
   "source": [
    "import unittest\n",
    "import util"
   ]
  },
  {
   "cell_type": "markdown",
   "metadata": {},
   "source": [
    "# Range() and lazy evaluation\n",
    "\n",
    "## The range() function\n",
    "\n",
    "Many sort of programming problems at some point use a list of sequential numbers. For example, we might need a list of all perfect squares of the numbers 0 through 5. In past lessons, we would create these by explicitly typing [1, 2, 3, 4, 5]"
   ]
  },
  {
   "cell_type": "code",
   "execution_count": 28,
   "metadata": {
    "collapsed": false
   },
   "outputs": [
    {
     "data": {
      "text/plain": [
       "[1, 4, 9, 16, 25]"
      ]
     },
     "execution_count": 28,
     "metadata": {},
     "output_type": "execute_result"
    }
   ],
   "source": [
    "[x * x for x in [1, 2, 3, 4, 5]]"
   ]
  },
  {
   "cell_type": "markdown",
   "metadata": {},
   "source": [
    "Needing to create a list of sequential numbers is such a common problem that Python provides the range() function to generate them. Given a single argument to range, Python generates numbers from zero up to the given number"
   ]
  },
  {
   "cell_type": "code",
   "execution_count": 29,
   "metadata": {
    "collapsed": false
   },
   "outputs": [
    {
     "data": {
      "text/plain": [
       "[0, 1, 2, 3, 4]"
      ]
     },
     "execution_count": 29,
     "metadata": {},
     "output_type": "execute_result"
    }
   ],
   "source": [
    "[x for x in range(5)]"
   ]
  },
  {
   "cell_type": "markdown",
   "metadata": {},
   "source": [
    "With two or three numbers, the syntax is similar to the syntax used to slice strings or lists. Basically, it generates numbers from the first argument, up to the second argument, with the step (optionally) specified by the third argument."
   ]
  },
  {
   "cell_type": "code",
   "execution_count": 30,
   "metadata": {
    "collapsed": false
   },
   "outputs": [
    {
     "data": {
      "text/plain": [
       "[1, 2, 3, 4, 5]"
      ]
     },
     "execution_count": 30,
     "metadata": {},
     "output_type": "execute_result"
    }
   ],
   "source": [
    "[x for x in range(1, 6)]"
   ]
  },
  {
   "cell_type": "code",
   "execution_count": 31,
   "metadata": {
    "collapsed": false
   },
   "outputs": [
    {
     "data": {
      "text/plain": [
       "[1, 3, 5]"
      ]
     },
     "execution_count": 31,
     "metadata": {},
     "output_type": "execute_result"
    }
   ],
   "source": [
    "[x for x in range(1, 6, 2)]"
   ]
  },
  {
   "cell_type": "markdown",
   "metadata": {},
   "source": [
    "## Lazy evaluation \n",
    "\n",
    "You'll notice that for each of these examples, we've placed range() in a list comprehension. The reason for this is that range() actually doesn't output a list. If we call range on its own, it produces a *range* object. "
   ]
  },
  {
   "cell_type": "code",
   "execution_count": 32,
   "metadata": {
    "collapsed": false
   },
   "outputs": [
    {
     "data": {
      "text/plain": [
       "range(0, 5)"
      ]
     },
     "execution_count": 32,
     "metadata": {},
     "output_type": "execute_result"
    }
   ],
   "source": [
    "range(5)"
   ]
  },
  {
   "cell_type": "markdown",
   "metadata": {},
   "source": [
    "If you're not immediately iterating over the collection of numbers, and you need a list, it's easy to turn a range object into a list using the list() function."
   ]
  },
  {
   "cell_type": "code",
   "execution_count": 34,
   "metadata": {
    "collapsed": false
   },
   "outputs": [
    {
     "data": {
      "text/plain": [
       "[0, 1, 2, 3, 4]"
      ]
     },
     "execution_count": 34,
     "metadata": {},
     "output_type": "execute_result"
    }
   ],
   "source": [
    "list(range(5))"
   ]
  },
  {
   "cell_type": "markdown",
   "metadata": {},
   "source": [
    "This probably seems a little confusing. Why would Python use a seperate data type to represent ranges of numbers when a list is a perfectly good way to do it? The reason is basically that it makes it easy to generate huge lists of numbers without using large amounts of memory. Try running the two lines of code below, where we create a *range* object holding the numbers from zero to fifty million, and then do the same for a list"
   ]
  },
  {
   "cell_type": "code",
   "execution_count": 4,
   "metadata": {
    "collapsed": false
   },
   "outputs": [],
   "source": [
    "big_range = range(50000000)"
   ]
  },
  {
   "cell_type": "code",
   "execution_count": 5,
   "metadata": {
    "collapsed": true
   },
   "outputs": [],
   "source": [
    "big_list = list(range(50000000))"
   ]
  },
  {
   "cell_type": "markdown",
   "metadata": {
    "collapsed": true
   },
   "source": [
    "Notice how creating the list takes some time, while creating the range is almost instantaneous? This is because the range is \"smarter\" than the list. It knows that there is a regular rule for generating numbers in sequence, so it only stores the current element, and a rule for creating the next one. If you're iterating through a range and you're at the number 55, the only things that are stored in memory are the current number, the highest number (so range knows when to stop), and the rule for generating the next number (the step.)\n",
    "\n",
    "In contrast, a list has to explicitly contain each element. So in this case, rather than storing two numbers and a simple rule, it has to store 50 million numbers. This takes up a considerable amount of processor time to generate the list, and then takes up a great deal of memory to hold all 50 million numbers.\n",
    "\n",
    "The first strategy for generating these numbers is called \"lazy evaluation,\" because range() only generates one number each time a for loop passes over it. In contrast, the strategy for generating a list is called \"eager evaluation\", because your computer does the work to generate all of the numbers before a loop even touches them.\n",
    "\n",
    "The major downside of lazy evaluation is that it's sometimes conceptually harder to understand what the program is doing, because you can't easily see the intermediate steps. The upside, however, is that programs that effectively use lazy evaluation are much faster and consume less memory."
   ]
  },
  {
   "cell_type": "markdown",
   "metadata": {},
   "source": [
    "# Built in iteration functions\n",
    "\n",
    "In addition to range(), which creates a lazy iterator, Python has some useful functions which take either lazy iterators or collections and produce useful other iterators.\n",
    "\n",
    "## Counting while iterating with *enumerate()*\n",
    "\n",
    "Very often, we'll want to go through a list and know both the value at every index, as well as the index. When we type\n",
    "\n",
    "```python\n",
    "for item in list:\n",
    "    pass\n",
    "```\n",
    "\n",
    "this only gives us the value of the item in the list, but not the index that we find this item. One way to solve this would be to maintain and update a count variable, like below:\n",
    "\n",
    "```python\n",
    "index = 0\n",
    "for item in list:\n",
    "    # do something with item, index\n",
    "    index +=1\n",
    "```\n",
    "\n",
    "but this is tedious, and prone to bugs if you forget to update the index variable. A better way to do this is using the *enumerate()* function, which returns an (index, item) tuple for every item in the list. Let's see an example below:\n"
   ]
  },
  {
   "cell_type": "code",
   "execution_count": 2,
   "metadata": {
    "collapsed": false
   },
   "outputs": [
    {
     "name": "stdout",
     "output_type": "stream",
     "text": [
      "Item 0 is Eggs\n",
      "Item 1 is Milk\n",
      "Item 2 is Bread\n",
      "Item 3 is Cheese\n"
     ]
    }
   ],
   "source": [
    "grocery_list = ['Eggs', 'Milk', 'Bread', 'Cheese']\n",
    "\n",
    "for index, item in enumerate(grocery_list):\n",
    "    print(\"Item\", index, \"is\", item)"
   ]
  },
  {
   "cell_type": "markdown",
   "metadata": {},
   "source": [
    "like all other indicies in Python, the numbers returned from *enumerate()* begin at 0."
   ]
  },
  {
   "cell_type": "markdown",
   "metadata": {
    "collapsed": true
   },
   "source": [
    "## Reversing with *reversed()*\n",
    "\n",
    "For ordered collections (like a list or a tuple, but not a dictionary), the *reversed()* function will return the items in the collection, but reversed. Let's see it in action:"
   ]
  },
  {
   "cell_type": "code",
   "execution_count": 3,
   "metadata": {
    "collapsed": false
   },
   "outputs": [
    {
     "name": "stdout",
     "output_type": "stream",
     "text": [
      "Cheese\n",
      "Bread\n",
      "Milk\n",
      "Eggs\n"
     ]
    }
   ],
   "source": [
    "for food_item in reversed(grocery_list):\n",
    "    print(food_item)"
   ]
  },
  {
   "cell_type": "markdown",
   "metadata": {},
   "source": [
    "## Sorting with sorted()"
   ]
  },
  {
   "cell_type": "markdown",
   "metadata": {},
   "source": [
    "We can sort an ordered collection using the *sorted()* function"
   ]
  },
  {
   "cell_type": "code",
   "execution_count": 4,
   "metadata": {
    "collapsed": false
   },
   "outputs": [
    {
     "data": {
      "text/plain": [
       "['Bread', 'Cheese', 'Eggs', 'Milk']"
      ]
     },
     "execution_count": 4,
     "metadata": {},
     "output_type": "execute_result"
    }
   ],
   "source": [
    "sorted(grocery_list)"
   ]
  },
  {
   "cell_type": "markdown",
   "metadata": {},
   "source": [
    "Note that sort uses the built in comparison operator (i.e. >, < and ==) to decide the order of the collection. This means that strings will sort in lexical (alphabetical) order, while numbers will sort in numeric order:"
   ]
  },
  {
   "cell_type": "code",
   "execution_count": 5,
   "metadata": {
    "collapsed": false
   },
   "outputs": [
    {
     "data": {
      "text/plain": [
       "[1, 2, 4, 5, 5, 7]"
      ]
     },
     "execution_count": 5,
     "metadata": {},
     "output_type": "execute_result"
    }
   ],
   "source": [
    "sorted([4,5,2,1,5,7])"
   ]
  },
  {
   "cell_type": "markdown",
   "metadata": {},
   "source": [
    "Note that sorted() will refuse to sort lists where the types cannot be compared to each other. For example, there's no reasonable way to order arbitrary strings with integers, so Python will refuse to execute the code below."
   ]
  },
  {
   "cell_type": "code",
   "execution_count": 12,
   "metadata": {
    "collapsed": false
   },
   "outputs": [
    {
     "ename": "TypeError",
     "evalue": "unorderable types: str() < int()",
     "output_type": "error",
     "traceback": [
      "\u001b[0;31m---------------------------------------------------------------------------\u001b[0m",
      "\u001b[0;31mTypeError\u001b[0m                                 Traceback (most recent call last)",
      "\u001b[0;32m<ipython-input-12-27428f0de022>\u001b[0m in \u001b[0;36m<module>\u001b[0;34m()\u001b[0m\n\u001b[0;32m----> 1\u001b[0;31m \u001b[0msorted\u001b[0m\u001b[0;34m(\u001b[0m\u001b[0;34m[\u001b[0m\u001b[0;36m1\u001b[0m\u001b[0;34m,\u001b[0m \u001b[0;34m'2'\u001b[0m\u001b[0;34m,\u001b[0m \u001b[0;36m4\u001b[0m\u001b[0;34m,\u001b[0m \u001b[0;34m'bananna'\u001b[0m\u001b[0;34m]\u001b[0m\u001b[0;34m)\u001b[0m\u001b[0;34m\u001b[0m\u001b[0m\n\u001b[0m",
      "\u001b[0;31mTypeError\u001b[0m: unorderable types: str() < int()"
     ]
    }
   ],
   "source": [
    "sorted([1, '2', 4, 'bananna'])"
   ]
  },
  {
   "cell_type": "markdown",
   "metadata": {},
   "source": [
    "That does not mean that lists with different types cannot be sorted. For example, the following array contains both floating point numbers and integer numbers, but because they can be compared to each other, the array will still sort."
   ]
  },
  {
   "cell_type": "code",
   "execution_count": 11,
   "metadata": {
    "collapsed": false
   },
   "outputs": [
    {
     "data": {
      "text/plain": [
       "[-1000, 0.001, 1, 2, 5.3]"
      ]
     },
     "execution_count": 11,
     "metadata": {},
     "output_type": "execute_result"
    }
   ],
   "source": [
    "sorted([1, 5.3, 2, 0.001, -1000])"
   ]
  },
  {
   "cell_type": "markdown",
   "metadata": {},
   "source": [
    "Sorting is slightly different from these other two operations, becuase the program must be able to hold the entire list in memory at once to sort it. Thus, sorted() produces another collection, rather than a lazy iterator."
   ]
  },
  {
   "cell_type": "markdown",
   "metadata": {},
   "source": [
    "# Excercises\n",
    "\n",
    "## 1: Sort strings by their reversed order\n",
    "\n",
    "Write a function that takes a list of strings as an argument, and returns the strings sorted by their **last** letters. This is an approach sometimes used to create crude rhyming dictionaries in English. Check the test suite for some examples of pairs of inputs and outputs.\n",
    "\n",
    "Hint: To reverse a string, you can use the reversed() function, but it will output a lazy iterator that you have to join into a string. Do you remember how to join iterators of strings together? Alternatively, there's an indexing trick that you learned in part 1 that can reverse the order of strings."
   ]
  },
  {
   "cell_type": "code",
   "execution_count": 10,
   "metadata": {
    "collapsed": true
   },
   "outputs": [],
   "source": [
    "def reversed_string_sort(list_of_strings):\n",
    "    reversed_strings = [s[::-1] for s in list_of_strings]\n",
    "    reversed_strings = sorted(reversed_strings)\n",
    "    return [s[::-1] for s in reversed_strings]"
   ]
  },
  {
   "cell_type": "code",
   "execution_count": 16,
   "metadata": {
    "collapsed": false
   },
   "outputs": [
    {
     "name": "stderr",
     "output_type": "stream",
     "text": [
      "test_rhyming_words_sort_of (__main__.TestReversedStringsSort) ... ok\n",
      "test_strings (__main__.TestReversedStringsSort) ... ok\n",
      "\n",
      "----------------------------------------------------------------------\n",
      "Ran 2 tests in 0.004s\n",
      "\n",
      "OK\n"
     ]
    }
   ],
   "source": [
    "class TestReversedStringsSort(unittest.TestCase):\n",
    "    def test_strings(self):\n",
    "        input_data = ['list', 'of', 'words', 'to', 'reverse']\n",
    "        self.assertEqual(reversed_string_sort(input_data), \n",
    "                        ['reverse', 'of', 'to', 'words', 'list']\n",
    "                        )\n",
    "    def test_rhyming_words_sort_of(self):\n",
    "        input_data = ['elation', 'monotreme', 'paste', 'theme', 'elevation', 'waste']\n",
    "        sorted_data = ['theme', 'monotreme', 'paste', 'waste', 'elation', 'elevation']\n",
    "        self.assertEqual(reversed_string_sort(input_data), sorted_data)\n",
    "        \n",
    "util.run_tests(TestReversedStringsSort)"
   ]
  },
  {
   "cell_type": "code",
   "execution_count": 15,
   "metadata": {
    "collapsed": false
   },
   "outputs": [
    {
     "data": {
      "text/plain": [
       "['theme', 'monotreme', 'paste', 'waste', 'elation', 'elevation']"
      ]
     },
     "execution_count": 15,
     "metadata": {},
     "output_type": "execute_result"
    }
   ],
   "source": []
  },
  {
   "cell_type": "code",
   "execution_count": null,
   "metadata": {
    "collapsed": true
   },
   "outputs": [],
   "source": []
  }
 ],
 "metadata": {
  "anaconda-cloud": {},
  "kernelspec": {
   "display_name": "Python [default]",
   "language": "python",
   "name": "python3"
  },
  "language_info": {
   "codemirror_mode": {
    "name": "ipython",
    "version": 3
   },
   "file_extension": ".py",
   "mimetype": "text/x-python",
   "name": "python",
   "nbconvert_exporter": "python",
   "pygments_lexer": "ipython3",
   "version": "3.5.2"
  }
 },
 "nbformat": 4,
 "nbformat_minor": 1
}

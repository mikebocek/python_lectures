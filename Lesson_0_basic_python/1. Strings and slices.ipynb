{
 "cells": [
  {
   "cell_type": "code",
   "execution_count": 1,
   "metadata": {
    "collapsed": true
   },
   "outputs": [],
   "source": [
    "from __future__ import division, print_function, unicode_literals\n",
    "import unittest\n",
    "\n",
    "import util"
   ]
  },
  {
   "cell_type": "markdown",
   "metadata": {},
   "source": [
    "# Welcome back!\n",
    "\n",
    "If you're new to python and haven't already gone through the first part, Numbers, do that first!\n",
    "\n",
    "\n",
    "# Non numeric types \n",
    "\n",
    "The float, int and complex types are models for different kinds of numbers that you deal with mathetmatically. Obviously , though, not every problem is purely a calculation problem. Python provides a number of types that model useful data (for example, a date type that models calendar dates, or a type that models an interval in the human genome.) Users can also declare their own types with their own behavior with the *class* statement. This is an advanced topic and we will cover it in a later lesson.\n",
    "\n",
    "In this section, we will talk about the Python type that models written text.\n",
    "\n",
    "# Strings\n",
    "\n",
    "One type of data that programs often must deal with is text. Programs might use text to store messages to the user, for example. They might download a website as text, and then count the number of times that a particular word appears. Even types of data that we might not traditionally think of as text, like DNA sequences, are often represented as strings.\n",
    "\n",
    "We define a string in python by surrounding a piece of text in quotes. This text can contain any valid characters. This is a string\n",
    "\n",
    "```python\n",
    "string_1 = \"Hello world\"\n",
    "```\n",
    "\n",
    "As is this \n",
    "\n",
    "```python\n",
    "text_message = \"Time for 🍺 ?\"\n",
    "```\n",
    "\n",
    "Or this\n",
    "\n",
    "```python\n",
    "restriction_enzyme_motif = \"GATATC\"\n",
    "```\n",
    "\n",
    "You can denote a string with either single ' or double \" quotation marks. In python, these are completely interchangeable. For consistency, it's best to pick one and stick with it!\n",
    "\n",
    "### Nitpicky point: How do you put a quote in a string?\n",
    "\n",
    "Since strings begin and end with quotes, you might be wondering how we put a quote inside a string? The answer is with *escape characters*. When you put a backslash \\ in a quote, Python treats this as a special character. The next character after the backslash can cause certain effects. For example, \\n inserts a new line in a string, or \\t inserts a \"tab\" character. In strings, we use \\\" and \\' to insert the double and single quotation marks, respectively. So \n",
    "\n",
    "```python\n",
    "quoted_message = \"\\\"Learn Python,\\\" they said. \\\"It will be easy,\\\" they said.\"\n",
    "```\n",
    "\n",
    "Represents the string:\n",
    "\n",
    "\"Learn python,\" they said. \"It will be easy,\" they said\n",
    "\n",
    "### Double nitpicky point: How do you put a backlash in a string?\n",
    "\n",
    "Because we use the backslash as a special character, you also have to have a way to represent backslashes. Convieniently, it's just a double backslash \\\\. So a path name on windows would be represented:\n",
    "\n",
    "```python\n",
    "path = \"c:\\\\Users\\\\me\"\n",
    "```\n",
    "### Long strings\n",
    "What if you want to represent a message that is broken over multiple lines? One option is to use triple quotes around the string. Python will interpret everything until the next triple quote as all being part of one string. For example:\n",
    "\n",
    "```python\n",
    "long_message = \"\"\"Dear student,\n",
    "This is a long string.\n",
    "\n",
    "Sincerely,\n",
    "Mike\"\"\"\n",
    "```\n",
    "\n",
    "Try modifying the quote below to read:\n",
    "\n",
    "\"Learn python\" they said. \"It's super easy,\" I said."
   ]
  },
  {
   "cell_type": "code",
   "execution_count": null,
   "metadata": {
    "collapsed": false
   },
   "outputs": [],
   "source": [
    "\"\\\"Learn Python,\\\" they said. \\\"It will be easy,\\\" they said.\""
   ]
  },
  {
   "cell_type": "markdown",
   "metadata": {},
   "source": [
    "# Basic String operations\n",
    "\n",
    "Python provides a number of handy ways to manipulate strings, right out of the box. We'll go through a few of the basic ones here. Something you'll learn quickly in programming is that it's best to be lazy, and use the ways that other people have solved problems whenever you can. Chances are, if you want to do something with a string, Python has a built in way to do it. Let's start by defining a variable with a string to play around with:"
   ]
  },
  {
   "cell_type": "code",
   "execution_count": null,
   "metadata": {
    "collapsed": true
   },
   "outputs": [],
   "source": [
    "opening_sentence = \"It was the best of times, it was the worst of times.\""
   ]
  },
  {
   "cell_type": "markdown",
   "metadata": {},
   "source": [
    "### Length of a string\n",
    "One useful thing to know about a string is how long it is, or how many characters it takes up. In Python, there's a function built in to do this "
   ]
  },
  {
   "cell_type": "code",
   "execution_count": null,
   "metadata": {
    "collapsed": false
   },
   "outputs": [],
   "source": [
    "len(opening_sentence)"
   ]
  },
  {
   "cell_type": "markdown",
   "metadata": {},
   "source": [
    "### Adding strings together\n",
    "\n",
    "Strings can be combined, using the + symbol in the same way that you add numbers together. Note the space at the beginning of the string that we are adding on. When strings are added together, python does not automatically put in any sort of seperating character."
   ]
  },
  {
   "cell_type": "code",
   "execution_count": null,
   "metadata": {
    "collapsed": false
   },
   "outputs": [],
   "source": [
    "opening_sentence + \" It was also the age of pizza 🍕\""
   ]
  },
  {
   "cell_type": "markdown",
   "metadata": {},
   "source": [
    "One thing to note: it's very important to understand the distinction in Python between a number (like 2) and it's string represenation (\"2\"). You might expect \"10\" + \"2\" would equal \"12\", but this is not the case. The + operator works differently for strings and numbers, so instead of adding the numbers it concatenates the strings together, giving"
   ]
  },
  {
   "cell_type": "code",
   "execution_count": null,
   "metadata": {
    "collapsed": false
   },
   "outputs": [],
   "source": [
    "\"10\" + \"2\""
   ]
  },
  {
   "cell_type": "markdown",
   "metadata": {},
   "source": [
    "You also cannot add a string to a number, or vice-versa. In Python this will always produce an error, as it's ambiguous what this operation would mean. Rather than trying to guess what you mean, Python forces you to be more explicit about whether you want concatenation or addition"
   ]
  },
  {
   "cell_type": "code",
   "execution_count": null,
   "metadata": {
    "collapsed": false
   },
   "outputs": [],
   "source": [
    "\"10\" + 2"
   ]
  },
  {
   "cell_type": "markdown",
   "metadata": {},
   "source": [
    "### Converting strings to numbers, and back to strings\n",
    "\n",
    "To convert a number (or any other sort of data) to a string, python provides the str() function. To convert a string (or anything else) into a number, python provides the float() function (for decimals) or the int() function (for integers.) Let's see a few examples "
   ]
  },
  {
   "cell_type": "code",
   "execution_count": null,
   "metadata": {
    "collapsed": false
   },
   "outputs": [],
   "source": [
    "str(1.004)"
   ]
  },
  {
   "cell_type": "code",
   "execution_count": null,
   "metadata": {
    "collapsed": false
   },
   "outputs": [],
   "source": [
    "float(\"3.14159\")"
   ]
  },
  {
   "cell_type": "code",
   "execution_count": null,
   "metadata": {
    "collapsed": false
   },
   "outputs": [],
   "source": [
    "int(\"200004\")"
   ]
  },
  {
   "cell_type": "code",
   "execution_count": null,
   "metadata": {
    "collapsed": false
   },
   "outputs": [],
   "source": [
    "float(\"3.04e9\")"
   ]
  },
  {
   "cell_type": "code",
   "execution_count": null,
   "metadata": {
    "collapsed": false
   },
   "outputs": [],
   "source": [
    "# Just so you know it can be done. We won't really touch complex numbers\n",
    "complex('3+4j')"
   ]
  },
  {
   "cell_type": "markdown",
   "metadata": {},
   "source": [
    "### Bad conversions\n",
    "\n",
    "Python is *very* picky about the conversions it will allow. If your string data cannot be cleanly interpreted as a number, or you try to turn a decimal point number into an integer, Python will produce an error and exit the program. While this might seem annoying, in reality it helps you avoid bugs that would be difficult or impossible to track down."
   ]
  },
  {
   "cell_type": "code",
   "execution_count": null,
   "metadata": {
    "collapsed": false
   },
   "outputs": [],
   "source": [
    "float(\"Not a number\")"
   ]
  },
  {
   "cell_type": "code",
   "execution_count": null,
   "metadata": {
    "collapsed": false,
    "scrolled": true
   },
   "outputs": [],
   "source": [
    "int(\"100.2\")"
   ]
  },
  {
   "cell_type": "markdown",
   "metadata": {},
   "source": [
    "## Mini excercise 1\n",
    "\n",
    "Re-write the statment \"10\" + 2 to perform string concatenation. You'll have to use the type conversion functions to do this. Store the answer in a veriable called cat_answer. Go ahead and replace the None on the right side of the equals sign with your answer.\n",
    "\n",
    "Do the same thing but instead now add \"10\" + 2 using integer addition. Store the answer in a variable called add_answer"
   ]
  },
  {
   "cell_type": "code",
   "execution_count": null,
   "metadata": {
    "collapsed": true
   },
   "outputs": [],
   "source": [
    "cat_answer = \"\"\n",
    "add_answer = 0"
   ]
  },
  {
   "cell_type": "code",
   "execution_count": null,
   "metadata": {
    "collapsed": false
   },
   "outputs": [],
   "source": [
    "class TestTypeConversions(unittest.TestCase):\n",
    "    def test_str_type(self):\n",
    "        self.assertTrue(isinstance(cat_answer, str), 'Looks like your concatenation answer isn\\'t a string')\n",
    "    def test_int_type(self): \n",
    "        self.assertTrue(isinstance(add_answer, int), 'Looks like your addition answer isn\\'t an integer')\n",
    "    def test_concatenation(self):\n",
    "        self.assertEqual(cat_answer, \"102\", 'Something went wrong with concatenation')\n",
    "    def test_concatenation(self):\n",
    "        self.assertEqual(add_answer, 12, 'Something went wrong with addition!')\n",
    "\n",
    "util.run_tests(TestTypeConversions)"
   ]
  },
  {
   "cell_type": "markdown",
   "metadata": {
    "collapsed": true
   },
   "source": [
    "### If you're interested: type systems\n",
    "Not all languages are as strict as Python. For example, in JavaScript (the language that powers websites) you can happily add different data types together and it will try to interpret the result as best as it can. For example, in JavaScript, the result of\n",
    "\n",
    "```javascript\n",
    "\"10\" + 2;\n",
    "```\n",
    "\n",
    "is \"102\". These languages are called \"weakly typed.\"\n",
    "\n",
    "Other languages are even stricter than Python. For example, in C, C++, Java, and many other languages, you must explicitly define the type of a variable when you first define it. In python, if you write \n",
    "\n",
    "```python\n",
    "s = \"A string\"\n",
    "```\n",
    "\n",
    "Python is able to figure out that s should have a string (str) type. In C++ however, you have to explicitly define the variable. If you don't, your program will not run.\n",
    "\n",
    "```C++\n",
    "String s = String(\"A string\");\n",
    "```\n",
    "\n",
    "Languages like Python are called \"dynamically typed\", becuase the interpreter can figure out what the types of variables are, allowing the types of variables to change. Languages like C++ are called \"statically typed\", because the types of variables cannot change, and must be specified when the variable is created."
   ]
  },
  {
   "cell_type": "markdown",
   "metadata": {},
   "source": [
    "# String indexing\n",
    "\n",
    "We often want to select out characters in a string by their position. In Python, we do this with *string indexing*. Let's see an example first"
   ]
  },
  {
   "cell_type": "code",
   "execution_count": null,
   "metadata": {
    "collapsed": false
   },
   "outputs": [],
   "source": [
    "first_char = opening_sentence[0]\n",
    "second_char = opening_sentence[1]\n",
    "third_char = opening_sentence[2]\n",
    "last_char = opening_sentence[-1]\n",
    "second_to_last_char = opening_sentence[-2]"
   ]
  },
  {
   "cell_type": "code",
   "execution_count": null,
   "metadata": {
    "collapsed": false
   },
   "outputs": [],
   "source": [
    "print(first_char)"
   ]
  },
  {
   "cell_type": "code",
   "execution_count": null,
   "metadata": {
    "collapsed": false
   },
   "outputs": [],
   "source": [
    "print(last_char)"
   ]
  },
  {
   "cell_type": "markdown",
   "metadata": {},
   "source": [
    "By putting a number in square brackets [] after the string, you tell python to get the character at that position. Above, we took the first three characters of the string, and assigned them to the variables first_char, second_char, third_char. \n",
    "\n",
    "Note that negative numbers can also be used as indexes! These select the nth character from the end of the string (so -1 is the last character, -2 is the second to last character, etc.) \n",
    "\n",
    "### Python strings are zero indexed!\n",
    "\n",
    "One thing that often trips people up: notice that we selected the first char with\n",
    "```python\n",
    "openining_sentence[0]\n",
    "```\n",
    "\n",
    "Instead of \n",
    "```python\n",
    "openining_sentence[1]\n",
    "```\n",
    "In Python (like most, but not all computer languages) we count from zero, instead of one. To be 100% honest, this is done mostly for historical reasons. Other languages, like MATLAB and R start counting from one. Don't get tripped up!\n",
    "\n",
    "As a sidenote, this is why the lessons are numbered from zero!\n",
    "\n",
    "# String slices\n",
    "\n",
    "Being able to get individual characters is all well and good. But say we wanted to get the first three characters of a string. One way of doing this would be to use string concatenation, and add the strings together\n",
    "\n",
    "```python\n",
    "opening_sentence[0] + opening_sentence[1] + opening_sentence[2]\n",
    "```\n",
    "\n",
    "But this would get extremely tedious extremely quickly. Thankfully, Python has the ability to create *slices* from strings, which let you select all the characters from a start point to an end point. The syntax looks like\n",
    "\n",
    "```python\n",
    "string[start:stop]\n",
    "```\n",
    "\n",
    "This syntax is extremely powerful in Python, and is used in many places other than strings, so it's worth going into a little more detail.\n",
    "\n",
    "Let's see some examples"
   ]
  },
  {
   "cell_type": "code",
   "execution_count": null,
   "metadata": {
    "collapsed": false
   },
   "outputs": [],
   "source": [
    "opening_sentence[0:10]"
   ]
  },
  {
   "cell_type": "code",
   "execution_count": null,
   "metadata": {
    "collapsed": false
   },
   "outputs": [],
   "source": [
    "opening_sentence[10:30]"
   ]
  },
  {
   "cell_type": "markdown",
   "metadata": {},
   "source": [
    "One point that trips people up: the *start* point of the slice is included, but the *stop* point is not. While this might seem like a confusing convention, it's useful for splitting strings into multiple parts that don't overlap. If we were to re-concatenate the [0:10] slice to the [10:30] slice, we'd end up with the [0:30] slice with no duplicate characters. You can see this below"
   ]
  },
  {
   "cell_type": "code",
   "execution_count": null,
   "metadata": {
    "collapsed": false
   },
   "outputs": [],
   "source": [
    "opening_sentence[0:10] + opening_sentence[10:30]"
   ]
  },
  {
   "cell_type": "code",
   "execution_count": null,
   "metadata": {
    "collapsed": false
   },
   "outputs": [],
   "source": [
    "opening_sentence[0:30]"
   ]
  },
  {
   "cell_type": "markdown",
   "metadata": {},
   "source": [
    "### String slice shortcuts\n",
    "\n",
    "Slices are pretty smart. If you don't specify a number for the start or end, Python assumed that the start begins at 0, and the end lies at the end of the string. Thus, to get every character up to character 30, we can just write "
   ]
  },
  {
   "cell_type": "code",
   "execution_count": null,
   "metadata": {
    "collapsed": false
   },
   "outputs": [],
   "source": [
    "opening_sentence[:30]"
   ]
  },
  {
   "cell_type": "markdown",
   "metadata": {},
   "source": [
    "And to get every character from 30 to the end, we can write."
   ]
  },
  {
   "cell_type": "code",
   "execution_count": null,
   "metadata": {
    "collapsed": false
   },
   "outputs": [],
   "source": [
    "opening_sentence[30:]"
   ]
  },
  {
   "cell_type": "markdown",
   "metadata": {},
   "source": [
    "The whole string can be selected using a single colon [:]. This might not seem helpful, but it is occasionally useful as we'll see later "
   ]
  },
  {
   "cell_type": "code",
   "execution_count": null,
   "metadata": {
    "collapsed": false
   },
   "outputs": [],
   "source": [
    "opening_sentence[:]"
   ]
  },
  {
   "cell_type": "markdown",
   "metadata": {},
   "source": [
    "### Slicing with a step\n",
    "\n",
    "There's an optional third number available when you create a slice. This number specifies a *step*. If the step is 2, Python will take every other character from the string. If the step is 3, it will take every third character, and so on...\n",
    "\n",
    "This takes every other character between zero and 10"
   ]
  },
  {
   "cell_type": "code",
   "execution_count": null,
   "metadata": {
    "collapsed": false
   },
   "outputs": [],
   "source": [
    "opening_sentence[0:10:2]"
   ]
  },
  {
   "cell_type": "markdown",
   "metadata": {},
   "source": [
    "This takes every third character in the entire string (note the colons without numbers to imply the start and end of the string)"
   ]
  },
  {
   "cell_type": "code",
   "execution_count": null,
   "metadata": {
    "collapsed": false
   },
   "outputs": [],
   "source": [
    "opening_sentence[::3]"
   ]
  },
  {
   "cell_type": "markdown",
   "metadata": {},
   "source": [
    "### Negative slicing\n",
    "\n",
    "Python allows for negative numbers in slices, which act similarly to negative indexing, taking the characters from the end of a string\n",
    "\n",
    "Let's get the last 10 characters"
   ]
  },
  {
   "cell_type": "code",
   "execution_count": null,
   "metadata": {
    "collapsed": false
   },
   "outputs": [],
   "source": [
    "opening_sentence[-10:-1]"
   ]
  },
  {
   "cell_type": "markdown",
   "metadata": {},
   "source": [
    "You can also use negative numbers as the step of the string, which takes every nth character from the string, starting at the end. One sort of handy trick you can use this for is to quickly reverse the order of characters in a string, by setting the step to -1"
   ]
  },
  {
   "cell_type": "code",
   "execution_count": null,
   "metadata": {
    "collapsed": false
   },
   "outputs": [],
   "source": [
    "opening_sentence[::-1]"
   ]
  },
  {
   "cell_type": "markdown",
   "metadata": {},
   "source": [
    "# A few excercises"
   ]
  },
  {
   "cell_type": "markdown",
   "metadata": {},
   "source": [
    "## Excercise 1: \n",
    "\n",
    "Write a function (see the Numbers chapter to review functions if necessary) that summarizes a string by taking the first 10 characters and adding an ellipsis \"...\" to the end. A skeleton of the function is provided in the cell below. When you finish, run the next cell to test your function!"
   ]
  },
  {
   "cell_type": "code",
   "execution_count": null,
   "metadata": {
    "collapsed": true
   },
   "outputs": [],
   "source": [
    "def summary(string):\n",
    "    return \"\" "
   ]
  },
  {
   "cell_type": "code",
   "execution_count": null,
   "metadata": {
    "collapsed": false
   },
   "outputs": [],
   "source": [
    "class SummaryTests(unittest.TestCase):\n",
    "    def test_ends_with_ellipsis(self):\n",
    "        summary_test = summary(\"A string to summarize\")\n",
    "        self.assertTrue(summary_test.endswith(\"...\"), \n",
    "                        \"Looks like you forgot to add an ellipsis \\\"...\\\" to the end of your summary!\")\n",
    "    def test_right_number_of_characters(self):\n",
    "        summary_test = summary(\"A string to summarize\")\n",
    "        self.assertEqual(len(summary_test), 13, \"Are you sure you picked the first 10 characters?\")\n",
    "    def test_correct_output(self):\n",
    "        summary_test = summary(\"A string to summarize\")\n",
    "        self.assertEqual(summary_test, \"A string t...\", \"Something else went wrong!\")\n",
    "\n",
    "util.run_tests(SummaryTests)"
   ]
  },
  {
   "cell_type": "markdown",
   "metadata": {
    "collapsed": true
   },
   "source": [
    "## Excercise 2: \n",
    "\n",
    "A palindrome is a sentence that reads the same forwards as backwards, like \"A dog, a panic, in a Pagoda\" Usually, these take some work to make, but technically you can easily make a palindrome by taking any sentence and sticking it to itself backwards. For example, if you had the string \"Hello\", you could make a palindrome by appending \"olleH\" to the end, producing \"HelloolleH\". Make a function to do this using the skeleton below, and make sure it passes its tests!"
   ]
  },
  {
   "cell_type": "code",
   "execution_count": null,
   "metadata": {
    "collapsed": true
   },
   "outputs": [],
   "source": [
    "def make_palindrome(string):\n",
    "    return \"\""
   ]
  },
  {
   "cell_type": "code",
   "execution_count": null,
   "metadata": {
    "collapsed": false
   },
   "outputs": [],
   "source": [
    "class PalindromeTests(unittest.TestCase):\n",
    "    def test_not_empty(self):\n",
    "        self.assertTrue(make_palindrome(\"From this text\"), \n",
    "                        \"While an empty string is technically a palindrome, that's not the spirit of the excercise!\")\n",
    "    def test_is_palindrome(self):\n",
    "        palindrome = make_palindrome(\"Hello world\")\n",
    "        self.assertEqual(palindrome, palindrome[::-1], \"Try again: it doesn't look like your output is the same forwards as backwards\")\n",
    "    def test_correct_output(self):\n",
    "        palindrome = make_palindrome(\"Hello world\")\n",
    "        self.assertEqual(palindrome, \"Hello worlddlrow olleH\", \"Incorrect output!\")\n",
    "\n",
    "util.run_tests(PalindromeTests)"
   ]
  },
  {
   "cell_type": "code",
   "execution_count": null,
   "metadata": {
    "collapsed": true
   },
   "outputs": [],
   "source": []
  }
 ],
 "metadata": {
  "anaconda-cloud": {},
  "kernelspec": {
   "display_name": "Python [default]",
   "language": "python",
   "name": "python3"
  },
  "language_info": {
   "codemirror_mode": {
    "name": "ipython",
    "version": 3
   },
   "file_extension": ".py",
   "mimetype": "text/x-python",
   "name": "python",
   "nbconvert_exporter": "python",
   "pygments_lexer": "ipython3",
   "version": "3.5.2"
  }
 },
 "nbformat": 4,
 "nbformat_minor": 0
}

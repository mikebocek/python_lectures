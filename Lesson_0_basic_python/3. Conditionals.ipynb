{
 "cells": [
  {
   "cell_type": "code",
   "execution_count": null,
   "metadata": {
    "collapsed": true
   },
   "outputs": [],
   "source": [
    "from __future__ import division, print_function, unicode_literals\n",
    "import unittest"
   ]
  },
  {
   "cell_type": "markdown",
   "metadata": {},
   "source": [
    "# Truth values\n",
    "\n",
    "In Python (and almost every major programming language), you will often have data that is either True or False, but does not take on any other value. These values are called Booleans, after the English mathematician George Boole.\n",
    "\n",
    "Python has a special set of operators that exclusively produce true or false (boolean) values. Let's look at a few of them below:\n",
    "\n",
    "## Comparison operators\n",
    "\n",
    "The first four should be familiar: these are the comparison operators that you learned about in elementary school!"
   ]
  },
  {
   "cell_type": "code",
   "execution_count": null,
   "metadata": {
    "collapsed": false
   },
   "outputs": [],
   "source": [
    "3 < 2"
   ]
  },
  {
   "cell_type": "code",
   "execution_count": null,
   "metadata": {
    "collapsed": false
   },
   "outputs": [],
   "source": [
    "4 > 0"
   ]
  },
  {
   "cell_type": "code",
   "execution_count": null,
   "metadata": {
    "collapsed": false
   },
   "outputs": [],
   "source": [
    "3 <= 3.0"
   ]
  },
  {
   "cell_type": "code",
   "execution_count": null,
   "metadata": {
    "collapsed": false
   },
   "outputs": [],
   "source": [
    "4 >= 4.00000000001"
   ]
  },
  {
   "cell_type": "markdown",
   "metadata": {},
   "source": [
    "Note that the >= and <= operators must be spelled with the equals sign last.\n",
    "\n",
    "Python is unique among most languages in that you can chain these operators together. For example:"
   ]
  },
  {
   "cell_type": "code",
   "execution_count": null,
   "metadata": {
    "collapsed": false
   },
   "outputs": [],
   "source": [
    "0 < 2 < 5"
   ]
  },
  {
   "cell_type": "code",
   "execution_count": null,
   "metadata": {
    "collapsed": false
   },
   "outputs": [],
   "source": [
    "0 < 2 > 5 < 10"
   ]
  },
  {
   "cell_type": "markdown",
   "metadata": {},
   "source": [
    "These operators are also defined for strings, and basically return whether the dictionary sort order of the first string is greater, less than or equal to the second"
   ]
  },
  {
   "cell_type": "code",
   "execution_count": null,
   "metadata": {
    "collapsed": false
   },
   "outputs": [],
   "source": [
    "'aardvark' < 'zebra'"
   ]
  },
  {
   "cell_type": "markdown",
   "metadata": {},
   "source": [
    "Like the addition operator, you cannot mix strings and number types together in comparisons"
   ]
  },
  {
   "cell_type": "code",
   "execution_count": null,
   "metadata": {
    "collapsed": false
   },
   "outputs": [],
   "source": [
    "'aardvark' < 2"
   ]
  },
  {
   "cell_type": "markdown",
   "metadata": {},
   "source": [
    "Also, due to a quirk in the way that string values are stored (if you want to know more, look up ASCII), all capital values are considered lower than all lowercase values"
   ]
  },
  {
   "cell_type": "code",
   "execution_count": null,
   "metadata": {
    "collapsed": false
   },
   "outputs": [],
   "source": [
    "'Zebra' < 'aardvark'"
   ]
  },
  {
   "cell_type": "markdown",
   "metadata": {},
   "source": [
    "## The equality operator"
   ]
  },
  {
   "cell_type": "markdown",
   "metadata": {},
   "source": [
    "We have already seen the single equals sign (=) in python, which assigns a value to a variable\n",
    "\n",
    "```python\n",
    "a = 2\n",
    "```\n",
    "\n",
    "In order to test the equality of two values, we use the double equals sign operator (==). It is very important not to mix these two up. One causes variables to be assigned, the other tests whether two things are equal."
   ]
  },
  {
   "cell_type": "code",
   "execution_count": null,
   "metadata": {
    "collapsed": false
   },
   "outputs": [],
   "source": [
    "a = 2 "
   ]
  },
  {
   "cell_type": "code",
   "execution_count": null,
   "metadata": {
    "collapsed": false
   },
   "outputs": [],
   "source": [
    "a"
   ]
  },
  {
   "cell_type": "code",
   "execution_count": null,
   "metadata": {
    "collapsed": false
   },
   "outputs": [],
   "source": [
    "a == 2"
   ]
  },
  {
   "cell_type": "code",
   "execution_count": null,
   "metadata": {
    "collapsed": true
   },
   "outputs": [],
   "source": [
    "a = 3"
   ]
  },
  {
   "cell_type": "code",
   "execution_count": null,
   "metadata": {
    "collapsed": false
   },
   "outputs": [],
   "source": [
    "a"
   ]
  },
  {
   "cell_type": "code",
   "execution_count": null,
   "metadata": {
    "collapsed": false
   },
   "outputs": [],
   "source": [
    "a == 2"
   ]
  },
  {
   "cell_type": "markdown",
   "metadata": {},
   "source": [
    "The opposite of the equality operator is the not equals (!=) operator"
   ]
  },
  {
   "cell_type": "code",
   "execution_count": null,
   "metadata": {
    "collapsed": false
   },
   "outputs": [],
   "source": [
    "a != 2"
   ]
  },
  {
   "cell_type": "code",
   "execution_count": null,
   "metadata": {
    "collapsed": false
   },
   "outputs": [],
   "source": [
    "'cat' != 'dog'"
   ]
  },
  {
   "cell_type": "markdown",
   "metadata": {},
   "source": [
    "## The *in* (membership) operator\n",
    "\n",
    "One other useful boolean operator in Python is the *in* operator. For the moment, the only type we know that this is useful for is Strings. For a string, though, it tells you if the first string is contained in the second. Lets see some examples"
   ]
  },
  {
   "cell_type": "code",
   "execution_count": null,
   "metadata": {
    "collapsed": false
   },
   "outputs": [],
   "source": [
    "'cat' in 'This is a conca'+'tenated string'"
   ]
  },
  {
   "cell_type": "code",
   "execution_count": null,
   "metadata": {
    "collapsed": false
   },
   "outputs": [],
   "source": [
    "'dog' in 'This is a concatenated string put together'"
   ]
  },
  {
   "cell_type": "markdown",
   "metadata": {},
   "source": [
    "Here's a use of the comparison operator to acutally do something: i.e. test if a single character is a DNA base"
   ]
  },
  {
   "cell_type": "code",
   "execution_count": null,
   "metadata": {
    "collapsed": true
   },
   "outputs": [],
   "source": [
    "def is_DNA_base(c):\n",
    "    return c.upper() in 'ACGT'"
   ]
  },
  {
   "cell_type": "code",
   "execution_count": null,
   "metadata": {
    "collapsed": false
   },
   "outputs": [],
   "source": [
    "is_DNA_base('A')"
   ]
  },
  {
   "cell_type": "code",
   "execution_count": null,
   "metadata": {
    "collapsed": false
   },
   "outputs": [],
   "source": [
    "is_DNA_base('U')"
   ]
  },
  {
   "cell_type": "markdown",
   "metadata": {},
   "source": [
    "# If statements \n",
    "\n",
    "So far, we have only written programs that proceed from start to finish. These programs cannot make any decisions, or change the way that they handle data based on what the data is. While we've been able to do some useful things, the possibilities are pretty limited.\n",
    "\n",
    "If statements open up a huge number of possibilites. The way they look is as follows:\n",
    "\n",
    "```python\n",
    "if condition:\n",
    "    statement_to_do_if_condition_is_true()\n",
    "else:\n",
    "    statement_to_do_if_condition_is_false()\n",
    "```\n",
    "\n",
    "Like in a function, all of the lines in an if statement must be indented. This indentation tells Python that these lines belong together.\n",
    "\n",
    "In the example below, try changing the first variable from False to True and see what happens!"
   ]
  },
  {
   "cell_type": "code",
   "execution_count": null,
   "metadata": {
    "collapsed": false
   },
   "outputs": [],
   "source": [
    "took_the_road_less_travelled_by = False\n",
    "\n",
    "if took_the_road_less_travelled_by:\n",
    "    print(\"And that has made all the difference\")\n",
    "else:\n",
    "    print(\"Weird, nothing is really that different\")"
   ]
  },
  {
   "cell_type": "markdown",
   "metadata": {},
   "source": [
    "If statements can also do multiple tests in a row. For the second, third, etc tests, Python uses elif (short for else if). The else statement only executes if none of the above if statements are true"
   ]
  },
  {
   "cell_type": "code",
   "execution_count": null,
   "metadata": {
    "collapsed": false
   },
   "outputs": [],
   "source": [
    "n = 40\n",
    "\n",
    "if n < 0:\n",
    "    print(\"Negative\")\n",
    "elif n < 10: \n",
    "    print(\"Small\")\n",
    "elif n > 40000:\n",
    "    print(\"Big\")\n",
    "else:\n",
    "    print(\"Normal!\")"
   ]
  },
  {
   "cell_type": "markdown",
   "metadata": {},
   "source": [
    "If statements can also be nested."
   ]
  },
  {
   "cell_type": "code",
   "execution_count": null,
   "metadata": {
    "collapsed": false
   },
   "outputs": [],
   "source": [
    "n = -20\n",
    "\n",
    "if n < 0:\n",
    "    if n > -40:\n",
    "        print(\"Negative but not that small\")\n",
    "    else: \n",
    "        print(\"Negative and not at all close to zero\")\n",
    "else:\n",
    "    print(\"Positive\")"
   ]
  },
  {
   "cell_type": "markdown",
   "metadata": {},
   "source": [
    "In this case, the first else statement only refers to the inner \"if\" statement, becasue it is indented to the same level."
   ]
  },
  {
   "cell_type": "markdown",
   "metadata": {},
   "source": [
    "# Boolean algebra\n",
    "\n",
    "Python has a special set of operators for dealing with Boolean (true or false) variables. Say we wanted to test if a number was less than -1000 or greater than 1000, but less than 10000. One way to do this would be to chain if statements together:"
   ]
  },
  {
   "cell_type": "code",
   "execution_count": null,
   "metadata": {
    "collapsed": true
   },
   "outputs": [],
   "source": [
    "n = 4000\n",
    "\n",
    "def number_with_big_magnitude(number):\n",
    "    if number < -1000:\n",
    "        return True\n",
    "    elif number > 1000:\n",
    "        if number < 10000:\n",
    "            return True\n",
    "    else:\n",
    "        return False"
   ]
  },
  {
   "cell_type": "markdown",
   "metadata": {},
   "source": [
    "This works, but it's a pretty verbose way of expressing this idea. You can imagine that if you wanted to check a lot of things, these sorts of highly nested if statements would quickly get out of hand.\n",
    "\n",
    "Thankfully, Python has a nice way of combining multiple truth statements together. These operators are called:\n",
    "1. and\n",
    "2. or\n",
    "3. not\n",
    "\n",
    "And they basically do what they sound like in normal language. One quick distinction: \"or\" is true as long as both statements are not False. Let's rewrite the above statement to use these operators.\n"
   ]
  },
  {
   "cell_type": "code",
   "execution_count": null,
   "metadata": {
    "collapsed": true
   },
   "outputs": [],
   "source": [
    "def number_with_big_magnitude(number):\n",
    "    if number < -1000 or (number > 1000 and number < 10000):\n",
    "        return True\n",
    "    else:\n",
    "        return False"
   ]
  },
  {
   "cell_type": "markdown",
   "metadata": {},
   "source": [
    "Here's some basic examples of these operators put together. If you're not familiar with formal logic, try playing around with these statements to make sure you know how they work! "
   ]
  },
  {
   "cell_type": "code",
   "execution_count": null,
   "metadata": {
    "collapsed": false
   },
   "outputs": [],
   "source": [
    "True and False"
   ]
  },
  {
   "cell_type": "code",
   "execution_count": null,
   "metadata": {
    "collapsed": false
   },
   "outputs": [],
   "source": [
    "True or False"
   ]
  },
  {
   "cell_type": "code",
   "execution_count": null,
   "metadata": {
    "collapsed": false
   },
   "outputs": [],
   "source": [
    "True or True"
   ]
  },
  {
   "cell_type": "code",
   "execution_count": null,
   "metadata": {
    "collapsed": false
   },
   "outputs": [],
   "source": [
    "not False"
   ]
  },
  {
   "cell_type": "markdown",
   "metadata": {},
   "source": [
    "And some slightly more advanced ones:"
   ]
  },
  {
   "cell_type": "code",
   "execution_count": null,
   "metadata": {
    "collapsed": false
   },
   "outputs": [],
   "source": [
    "message = 'The quick brown fox jumped over the lazy dog'\n",
    "('cat' not in message) and len(message) > 30"
   ]
  },
  {
   "cell_type": "code",
   "execution_count": null,
   "metadata": {
    "collapsed": false
   },
   "outputs": [],
   "source": [
    "-30 < 40 and (-30 * -30) > 0"
   ]
  },
  {
   "cell_type": "markdown",
   "metadata": {},
   "source": [
    "One little programming thing. Since these tests all together return true, or false, it's actually a little easier to just return the statement alone, like so"
   ]
  },
  {
   "cell_type": "code",
   "execution_count": null,
   "metadata": {
    "collapsed": true
   },
   "outputs": [],
   "source": [
    "def number_with_big_magnitude(number):\n",
    "    return number < -1000 or (number > 1000 and number < 10000)"
   ]
  },
  {
   "cell_type": "markdown",
   "metadata": {},
   "source": [
    "It's more stylistic than anything else, but keep an eye out for times when you're returning \"True\" or \"False\" values and see if they're really necessary!"
   ]
  },
  {
   "cell_type": "markdown",
   "metadata": {},
   "source": [
    "# Excercises"
   ]
  },
  {
   "cell_type": "markdown",
   "metadata": {},
   "source": [
    "## DNA or RNA sequence?\n",
    "\n",
    "Write a function that takes a string, and determines whether the sequence represents valid DNA, RNA or neither. DNA sequences are strings composed entirely of (upper or lowercase) A, C, T, and G, while RNA sequences are composed strictly of A, U, C and G. If the sequence is DNA, return the string 'DNA'. If it's RNA, return 'RNA'. Otherwise, return 'neither.'\n",
    "\n",
    "There are mutliple ways of solving this problem. See if you can come up with a relatively ergonomic way of doing it! Note that it's not sufficient to only test if 'A', 'C', 'G' and 'T' are in the sequence to determine if it's DNA. You must verify that they constitute the entire sequence."
   ]
  },
  {
   "cell_type": "code",
   "execution_count": null,
   "metadata": {
    "collapsed": true
   },
   "outputs": [],
   "source": [
    "def DNA_or_RNA_sequence(seq):\n",
    "    return ''"
   ]
  },
  {
   "cell_type": "code",
   "execution_count": null,
   "metadata": {
    "collapsed": false
   },
   "outputs": [],
   "source": [
    "class SequenceTest(unittest.TestCase):\n",
    "    def test_RNA_recognition(self):\n",
    "        rna_seq = 'AUggUGaCCGGuG'\n",
    "        self.assertEqual(DNA_or_RNA_sequence(rna_seq), 'RNA', 'Fails to recognize valid RNA')\n",
    "    def test_DNA_recognition(self):\n",
    "        dna_seq = 'ATggTGaCCGGtG'\n",
    "        self.assertEqual(DNA_or_RNA_sequence(dna_seq), 'DNA', 'Fails to recognize valid DNA')\n",
    "    def test_mixed_case(self):\n",
    "        mixed_seq = 'ATggTUaCCGutG'\n",
    "        self.assertEqual(DNA_or_RNA_sequence(mixed_seq), 'neither', 'Fails to reject sequences with both t and u')\n",
    "    def test_bad_input(self):\n",
    "        bad_input = 'ThisIsNotADNA Sequence 14525'\n",
    "        self.assertEqual(DNA_or_RNA_sequence(bad_input), 'neither', 'Fails to reject input that does not conform')\n",
    "\n",
    "util.run_tests(SequenceTest)"
   ]
  },
  {
   "cell_type": "markdown",
   "metadata": {},
   "source": [
    "## Fizzbuzz\n",
    "\n",
    "A classic Silicon Valley recruiting excercise to test if people know \"basic\" coding is the Fizzbuzz challenge. Basically, the problem is to write a function that takes a number, and outputs a string. If the number is divisible by 3, the string should be \"Fizz.\" If the number is divisible by 5, the program should output \"Buzz.\" If the number is divisible by both 3 and 5, the program should output \"FizzBuzz.\" Otherwise, the program should return the number as a string.\n",
    "\n",
    "HINT: You can test the divisibility of a number with the modulo operator %. If you take a % b, it will give 0 if a is divisible by b, and the division remainder if a is not divisible by b. So to check if a number is even, you could write \n",
    "\n",
    "```python\n",
    "if a % 2 == 0:\n",
    "    # Code goes here\n",
    "```"
   ]
  },
  {
   "cell_type": "code",
   "execution_count": null,
   "metadata": {
    "collapsed": true
   },
   "outputs": [],
   "source": [
    "def fizzbuzz(n):\n",
    "    return ''"
   ]
  },
  {
   "cell_type": "code",
   "execution_count": null,
   "metadata": {
    "collapsed": false
   },
   "outputs": [],
   "source": [
    "class FizzBuzzTest(unittest.TestCase):\n",
    "    def test_fizz(self):\n",
    "        self.assertEqual(fizzbuzz(9).lower(), \"fizz\", \n",
    "                         \"Something went wrong with the Fizz part - try some multiples of 3?\")\n",
    "    def test_buzz(self):\n",
    "        self.assertEqual(fizzbuzz(25).lower() , \"buzz\", \n",
    "                         \"Something went wrong with the Buzz part - try some multiples of 5?\")\n",
    "    def test_fizzbuzz(self):\n",
    "        self.assertEqual(fizzbuzz(45).lower() , \"fizzbuzz\",\n",
    "                        \"Your program seems to have some issues with the fizzbuzz part. Try working through the order of your if statements?\"\n",
    "                        )\n",
    "    def test_non_fizz_or_buzz(self):\n",
    "        self.assertEqual(fizzbuzz(151) , \"151\", \"Did you remember to return non fizz or buzz variables as strings?\")\n",
    "\n",
    "util.run_tests(FizzBuzzTest)"
   ]
  }
 ],
 "metadata": {
  "anaconda-cloud": {},
  "kernelspec": {
   "display_name": "Python [default]",
   "language": "python",
   "name": "python3"
  },
  "language_info": {
   "codemirror_mode": {
    "name": "ipython",
    "version": 3
   },
   "file_extension": ".py",
   "mimetype": "text/x-python",
   "name": "python",
   "nbconvert_exporter": "python",
   "pygments_lexer": "ipython3",
   "version": "3.5.2"
  }
 },
 "nbformat": 4,
 "nbformat_minor": 1
}

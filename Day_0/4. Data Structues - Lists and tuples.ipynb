{
 "cells": [
  {
   "cell_type": "code",
   "execution_count": 1,
   "metadata": {
    "collapsed": true
   },
   "outputs": [],
   "source": [
    "from __future__ import division, unicode_literals, print_function\n",
    "import unittest"
   ]
  },
  {
   "cell_type": "markdown",
   "metadata": {},
   "source": [
    "# Data structures\n",
    "\n",
    "So far, we have mostly dealt with variables that are organized in an *ad hoc* way. Most data, however, is not organized as single variables. Data has relationships - it has a *structure* that is often as meaningful as the individual data points itself.\n",
    "\n",
    "As an example, imagine if chracters were always stored in individual variables, and there was no concept of a \"string.\" We would lose a lot of the common grammar that we have for dealing with string data (replacements, counting, searching for substrings, etc.) This would be incredibly painful. While the data structures that we talk about here are a little more abstract than strings, you will quickly find that they are as indispensible as strings.\n",
    "\n",
    "Python offers four major built in ways of organizing data, all of which we will talk about here. To list them briefly, they are:\n",
    "\n",
    "0. Lists: Ordered lists\n",
    "1. Tuples: Immutable collections\n",
    "2. Dictionaries: Associated pairs\n",
    "3. Sets: Unordered collections\n",
    "\n",
    "We'll go through the first two in this lesson, and the second two in the next lesson."
   ]
  },
  {
   "cell_type": "markdown",
   "metadata": {},
   "source": [
    "# Lists\n",
    "\n",
    "Lists are ordered collections of items. They model sequential data (for example, data observations over time, or the collection of lines in a file.) By items, we mean any object in python (numbers, strings, booleans, even lists!) The main way that people construct a list in python is to surround the data with square brakets."
   ]
  },
  {
   "cell_type": "code",
   "execution_count": 6,
   "metadata": {
    "collapsed": false
   },
   "outputs": [],
   "source": [
    "list_numbers = [0, 1, 2, 3, 4]\n",
    "\n",
    "# Lists can extend over multiple lines\n",
    "list_strings = ['Now', 'this', 'is', 'a', 'story', \n",
    "                'all', 'about', 'how', 'my', 'life', \n",
    "                'got', 'flipped', 'turned', 'upside', 'down']\n",
    "\n",
    "# Any type of data can be stored in lists, including lists\n",
    "list_mixed = [1, 'apple', [1,2,3], 4.567]"
   ]
  },
  {
   "cell_type": "markdown",
   "metadata": {},
   "source": [
    "There are also many functions that return lists. One such function is the string function .split(), which \"splits\" a string into a list of \"words\" based on a seperating character (which would be a space in a normal sentence)"
   ]
  },
  {
   "cell_type": "code",
   "execution_count": 39,
   "metadata": {
    "collapsed": false
   },
   "outputs": [
    {
     "data": {
      "text/plain": [
       "['This', 'is', 'a', 'sentence', 'to', 'be', 'split', 'into', 'words']"
      ]
     },
     "execution_count": 39,
     "metadata": {},
     "output_type": "execute_result"
    }
   ],
   "source": [
    "\"This is a sentence to be split into words\".split()"
   ]
  },
  {
   "cell_type": "markdown",
   "metadata": {},
   "source": [
    "## List slicing\n",
    "Like strings, lists can be sliced. The syntax is identical to strings!"
   ]
  },
  {
   "cell_type": "code",
   "execution_count": 30,
   "metadata": {
    "collapsed": false
   },
   "outputs": [
    {
     "data": {
      "text/plain": [
       "'all'"
      ]
     },
     "execution_count": 30,
     "metadata": {},
     "output_type": "execute_result"
    }
   ],
   "source": [
    "list_strings[5]"
   ]
  },
  {
   "cell_type": "code",
   "execution_count": 8,
   "metadata": {
    "collapsed": false
   },
   "outputs": [
    {
     "data": {
      "text/plain": [
       "[0, 1]"
      ]
     },
     "execution_count": 8,
     "metadata": {},
     "output_type": "execute_result"
    }
   ],
   "source": [
    "list_numbers[0:2]"
   ]
  },
  {
   "cell_type": "code",
   "execution_count": 9,
   "metadata": {
    "collapsed": false
   },
   "outputs": [
    {
     "data": {
      "text/plain": [
       "[0, 2, 4]"
      ]
     },
     "execution_count": 9,
     "metadata": {},
     "output_type": "execute_result"
    }
   ],
   "source": [
    "list_numbers[::2]"
   ]
  },
  {
   "cell_type": "code",
   "execution_count": 10,
   "metadata": {
    "collapsed": false
   },
   "outputs": [
    {
     "data": {
      "text/plain": [
       "['down',\n",
       " 'upside',\n",
       " 'turned',\n",
       " 'flipped',\n",
       " 'got',\n",
       " 'life',\n",
       " 'my',\n",
       " 'how',\n",
       " 'about',\n",
       " 'all',\n",
       " 'story',\n",
       " 'a',\n",
       " 'is',\n",
       " 'this',\n",
       " 'Now']"
      ]
     },
     "execution_count": 10,
     "metadata": {},
     "output_type": "execute_result"
    }
   ],
   "source": [
    "list_strings[::-1]"
   ]
  },
  {
   "cell_type": "markdown",
   "metadata": {},
   "source": [
    "## List methods"
   ]
  },
  {
   "cell_type": "markdown",
   "metadata": {},
   "source": [
    "Lists are *mutable*, which means that they can be altered after they are created. For example"
   ]
  },
  {
   "cell_type": "code",
   "execution_count": 11,
   "metadata": {
    "collapsed": true
   },
   "outputs": [],
   "source": [
    "list_strings[9] = 'cat'"
   ]
  },
  {
   "cell_type": "code",
   "execution_count": 12,
   "metadata": {
    "collapsed": false
   },
   "outputs": [
    {
     "data": {
      "text/plain": [
       "['Now',\n",
       " 'this',\n",
       " 'is',\n",
       " 'a',\n",
       " 'story',\n",
       " 'all',\n",
       " 'about',\n",
       " 'how',\n",
       " 'my',\n",
       " 'cat',\n",
       " 'got',\n",
       " 'flipped',\n",
       " 'turned',\n",
       " 'upside',\n",
       " 'down']"
      ]
     },
     "execution_count": 12,
     "metadata": {},
     "output_type": "execute_result"
    }
   ],
   "source": [
    "list_strings"
   ]
  },
  {
   "cell_type": "markdown",
   "metadata": {},
   "source": [
    "Beacuse lists are mutable, they have a variety of methods allowing mutation. Let's look at a few useful ones:\n",
    "\n",
    "Probably the most important method for a list is .append(item), which grows the list by adding an item to the end"
   ]
  },
  {
   "cell_type": "code",
   "execution_count": 18,
   "metadata": {
    "collapsed": true
   },
   "outputs": [],
   "source": [
    "list_numbers.append(10)"
   ]
  },
  {
   "cell_type": "code",
   "execution_count": 14,
   "metadata": {
    "collapsed": false
   },
   "outputs": [
    {
     "data": {
      "text/plain": [
       "[0, 1, 2, 3, 4, 10]"
      ]
     },
     "execution_count": 14,
     "metadata": {},
     "output_type": "execute_result"
    }
   ],
   "source": [
    "list_numbers"
   ]
  },
  {
   "cell_type": "markdown",
   "metadata": {},
   "source": [
    "This allows you to grow a list bit by bit"
   ]
  },
  {
   "cell_type": "markdown",
   "metadata": {},
   "source": [
    "Some other examples of methods are"
   ]
  },
  {
   "cell_type": "code",
   "execution_count": 15,
   "metadata": {
    "collapsed": false
   },
   "outputs": [
    {
     "data": {
      "text/plain": [
       "5"
      ]
     },
     "execution_count": 15,
     "metadata": {},
     "output_type": "execute_result"
    }
   ],
   "source": [
    "# Returns the index of an item in the list, or -1 if not found. Like string.find()\n",
    "list_numbers.index(10)"
   ]
  },
  {
   "cell_type": "code",
   "execution_count": 19,
   "metadata": {
    "collapsed": false
   },
   "outputs": [],
   "source": [
    "# Removes an item by value\n",
    "list_numbers.remove(10)"
   ]
  },
  {
   "cell_type": "code",
   "execution_count": 20,
   "metadata": {
    "collapsed": false
   },
   "outputs": [
    {
     "data": {
      "text/plain": [
       "[0, 1, 2, 3, 4]"
      ]
     },
     "execution_count": 20,
     "metadata": {},
     "output_type": "execute_result"
    }
   ],
   "source": [
    "list_numbers"
   ]
  },
  {
   "cell_type": "code",
   "execution_count": 22,
   "metadata": {
    "collapsed": false
   },
   "outputs": [
    {
     "data": {
      "text/plain": [
       "1"
      ]
     },
     "execution_count": 22,
     "metadata": {},
     "output_type": "execute_result"
    }
   ],
   "source": [
    "# Exactly the same as for strings. Shows you how many times an items occurs in a list\n",
    "list_numbers.count(4)"
   ]
  },
  {
   "cell_type": "markdown",
   "metadata": {},
   "source": [
    "## Lists are shared in memory\n",
    "\n",
    "An important \"gotcha\" with lists is that Python tries to optimize memory usage with them. This is because they can be long, and take up a lot of space in memory. Thus, if you re-assign a list to another variable, it doesn't copy the list to this variable, but instead just makes this second variable a \"link\" to the original list.\n",
    "\n",
    "The effect of this is that modifying the reference will also modify the original list."
   ]
  },
  {
   "cell_type": "code",
   "execution_count": 23,
   "metadata": {
    "collapsed": true
   },
   "outputs": [],
   "source": [
    "list_copy = list_numbers"
   ]
  },
  {
   "cell_type": "code",
   "execution_count": 25,
   "metadata": {
    "collapsed": false
   },
   "outputs": [
    {
     "data": {
      "text/plain": [
       "[0, 1, 2, 3, 4]"
      ]
     },
     "execution_count": 25,
     "metadata": {},
     "output_type": "execute_result"
    }
   ],
   "source": [
    "list_numbers"
   ]
  },
  {
   "cell_type": "code",
   "execution_count": 28,
   "metadata": {
    "collapsed": true
   },
   "outputs": [],
   "source": [
    "list_copy.append(500) # Also affects list numbers!"
   ]
  },
  {
   "cell_type": "code",
   "execution_count": 29,
   "metadata": {
    "collapsed": false
   },
   "outputs": [
    {
     "data": {
      "text/plain": [
       "[0, 1, 2, 3, 4, 500, 500]"
      ]
     },
     "execution_count": 29,
     "metadata": {},
     "output_type": "execute_result"
    }
   ],
   "source": [
    "list_numbers"
   ]
  },
  {
   "cell_type": "markdown",
   "metadata": {},
   "source": [
    "If you want to make a real copy of a list, the best way to do so is using the copy library. A quick and dirty way to do it is to use a full slice of the list, though, as below"
   ]
  },
  {
   "cell_type": "code",
   "execution_count": 44,
   "metadata": {
    "collapsed": true
   },
   "outputs": [],
   "source": [
    "real_copy = list_numbers[:]"
   ]
  },
  {
   "cell_type": "code",
   "execution_count": 45,
   "metadata": {
    "collapsed": true
   },
   "outputs": [],
   "source": [
    "real_copy.append(4567)"
   ]
  },
  {
   "cell_type": "code",
   "execution_count": 47,
   "metadata": {
    "collapsed": false
   },
   "outputs": [
    {
     "name": "stdout",
     "output_type": "stream",
     "text": [
      "Original list: [0, 1, 2, 3, 4, 500, 500]\n",
      "True copy: [0, 1, 2, 3, 4, 500, 500, 4567]\n"
     ]
    }
   ],
   "source": [
    "print(\"Original list: {}\".format(list_numbers))\n",
    "print(\"True copy: {}\".format(real_copy))"
   ]
  },
  {
   "cell_type": "markdown",
   "metadata": {
    "collapsed": true
   },
   "source": [
    "# Tuples\n",
    "\n",
    "Tuples are somewhat similar to lists - they are created by surrounding comma seperated values with parantheses, like so. \n",
    "\n",
    "```python\n",
    "number_tuple = (1,2,3)\n",
    "```\n",
    "\n",
    "The main difference is that tuples are *immutable*, meaning that once they're created they cannot be changed. Tuples are often used in python to represent lists where the structure of the list is fixed (i.e. where each entry has a specific meaning.)\n",
    "\n",
    "For example, colors are represented on computers as three integers representing the red, green and blue channels. In this case, the structure of the list is fixed. We will never have another color channel, and we don't want the order of the channels being mixed up. We would represent each pixel then as a tuple of (r, g, b) values."
   ]
  },
  {
   "cell_type": "code",
   "execution_count": 56,
   "metadata": {
    "collapsed": true
   },
   "outputs": [],
   "source": [
    "color_1 = (50, 255, 127) # Green\n",
    "color_2 = (127, 127, 127) # Grey"
   ]
  },
  {
   "cell_type": "code",
   "execution_count": 60,
   "metadata": {
    "collapsed": false
   },
   "outputs": [
    {
     "ename": "TypeError",
     "evalue": "'tuple' object does not support item assignment",
     "output_type": "error",
     "traceback": [
      "\u001b[0;31m---------------------------------------------------------------------------\u001b[0m",
      "\u001b[0;31mTypeError\u001b[0m                                 Traceback (most recent call last)",
      "\u001b[0;32m<ipython-input-60-4f469e3c78b2>\u001b[0m in \u001b[0;36m<module>\u001b[0;34m()\u001b[0m\n\u001b[1;32m      1\u001b[0m \u001b[0;31m# Tuples are immutable: assignment causes an error\u001b[0m\u001b[0;34m\u001b[0m\u001b[0;34m\u001b[0m\u001b[0m\n\u001b[1;32m      2\u001b[0m \u001b[0;34m\u001b[0m\u001b[0m\n\u001b[0;32m----> 3\u001b[0;31m \u001b[0mcolor_1\u001b[0m\u001b[0;34m[\u001b[0m\u001b[0;36m0\u001b[0m\u001b[0;34m]\u001b[0m \u001b[0;34m=\u001b[0m \u001b[0;36m25\u001b[0m\u001b[0;34m\u001b[0m\u001b[0m\n\u001b[0m",
      "\u001b[0;31mTypeError\u001b[0m: 'tuple' object does not support item assignment"
     ]
    }
   ],
   "source": [
    "# Tuples are immutable: assignment causes an error\n",
    "\n",
    "color_1[0] = 25"
   ]
  },
  {
   "cell_type": "markdown",
   "metadata": {},
   "source": [
    "## Tuple indexing\n",
    "\n",
    "Tuples can be indexed and sliced much like lists and strings"
   ]
  },
  {
   "cell_type": "code",
   "execution_count": 59,
   "metadata": {
    "collapsed": false
   },
   "outputs": [
    {
     "name": "stdout",
     "output_type": "stream",
     "text": [
      "127\n",
      "(50, 255)\n"
     ]
    }
   ],
   "source": [
    "print(color_2[0])\n",
    "print(color_1[0:2])"
   ]
  },
  {
   "cell_type": "markdown",
   "metadata": {},
   "source": [
    "## Multiple assignment (destructuring)\n",
    "\n",
    "Tuples can be used to assign multiple variables in one line. For example, if we wanted to set the variables a and b to 1 and 2, respectively, we could write"
   ]
  },
  {
   "cell_type": "code",
   "execution_count": 63,
   "metadata": {
    "collapsed": true
   },
   "outputs": [],
   "source": [
    "a = 1\n",
    "b = 2"
   ]
  },
  {
   "cell_type": "markdown",
   "metadata": {},
   "source": [
    "But it is more concise to write this as"
   ]
  },
  {
   "cell_type": "code",
   "execution_count": 64,
   "metadata": {
    "collapsed": true
   },
   "outputs": [],
   "source": [
    "a, b = 1, 2"
   ]
  },
  {
   "cell_type": "markdown",
   "metadata": {},
   "source": [
    "This also allows for easy swapping of variables"
   ]
  },
  {
   "cell_type": "code",
   "execution_count": 65,
   "metadata": {
    "collapsed": false
   },
   "outputs": [
    {
     "name": "stdout",
     "output_type": "stream",
     "text": [
      "a = 2, b = 1\n"
     ]
    }
   ],
   "source": [
    "a, b = b, a\n",
    "print(\"a = {}, b = {}\".format(a, b))"
   ]
  },
  {
   "cell_type": "markdown",
   "metadata": {},
   "source": [
    "Finally, we can easily use this to extract the individual variables from a tuple into their own variables. This is sometimes called \"destructuring\" in programming."
   ]
  },
  {
   "cell_type": "code",
   "execution_count": 67,
   "metadata": {
    "collapsed": false
   },
   "outputs": [
    {
     "name": "stdout",
     "output_type": "stream",
     "text": [
      "R:  50\n",
      "G:  255\n",
      "B:  127\n"
     ]
    }
   ],
   "source": [
    "r, g, b = color_1\n",
    "\n",
    "print(\"R: \", r)\n",
    "print(\"G: \", g)\n",
    "print(\"B: \", b)"
   ]
  },
  {
   "cell_type": "markdown",
   "metadata": {},
   "source": [
    "# The *for* loop\n",
    "\n",
    "One of the most common tasks in programming is to visit every item in a list, and do someting with each item. Most programming languages offer an expression to perform this task, called a *for loop*. In python, you express a *for* loop as follows:\n",
    "\n",
    "```python\n",
    "for item in list:\n",
    "    # Code that does something with the variable item\n",
    "```\n",
    "\n",
    "The way we define a *for* loop is similar to how *if* statements or functions are defined, with a colon and an indented block. In this case, the indented block is executed for every item in the list, with the variable *item* passed to the indented code.\n",
    "\n",
    "Let's look at some examples"
   ]
  },
  {
   "cell_type": "code",
   "execution_count": null,
   "metadata": {
    "collapsed": true
   },
   "outputs": [],
   "source": []
  },
  {
   "cell_type": "code",
   "execution_count": 31,
   "metadata": {
    "collapsed": false
   },
   "outputs": [
    {
     "name": "stdout",
     "output_type": "stream",
     "text": [
      "1\n",
      "2\n",
      "3\n",
      "4\n",
      "5\n",
      "501\n",
      "501\n"
     ]
    }
   ],
   "source": [
    "# Go through the list of numbers, and print each number + 1\n",
    "\n",
    "for number in list_numbers:\n",
    "    print(number+1)"
   ]
  },
  {
   "cell_type": "code",
   "execution_count": 34,
   "metadata": {
    "collapsed": false
   },
   "outputs": [
    {
     "data": {
      "text/plain": [
       "'Now this is a story all about how my cat got flipped turned upside down '"
      ]
     },
     "execution_count": 34,
     "metadata": {},
     "output_type": "execute_result"
    }
   ],
   "source": [
    "# Construct a sentence out of the list of strings using string concatenation\n",
    "\n",
    "sentence = \"\"\n",
    "for word in list_strings:\n",
    "    sentence = sentence + word + \" \" # Add a space between words\n",
    "\n",
    "sentence"
   ]
  },
  {
   "cell_type": "markdown",
   "metadata": {},
   "source": [
    "In all of these data structures, you will find that for loops are a powerful way to manipulate them"
   ]
  },
  {
   "cell_type": "markdown",
   "metadata": {},
   "source": [
    "# Excercises \n",
    "\n",
    "Since data structures are such a critical part of Python programming, there's a few more excercises than normal to make sure you get the hang of them. "
   ]
  },
  {
   "cell_type": "markdown",
   "metadata": {},
   "source": [
    "## Squaring a list of numbers\n",
    "\n",
    "Write a function that takes a list of numbers, and returns a new list where every number is squared\n",
    "\n",
    "Example:\n",
    "```python\n",
    "square_numbers([-3, -4, -5])\n",
    "```\n",
    "\n",
    "Should output \n",
    "```python\n",
    "[9, 16, 25]\n",
    "```"
   ]
  },
  {
   "cell_type": "code",
   "execution_count": 76,
   "metadata": {
    "collapsed": true
   },
   "outputs": [],
   "source": [
    "def square_numbers(numbers):\n",
    "    squared_numbers = []\n",
    "    return squared_numbers"
   ]
  },
  {
   "cell_type": "code",
   "execution_count": 73,
   "metadata": {
    "collapsed": false
   },
   "outputs": [
    {
     "name": "stderr",
     "output_type": "stream",
     "text": [
      "....\n",
      "----------------------------------------------------------------------\n",
      "Ran 4 tests in 0.004s\n",
      "\n",
      "OK\n"
     ]
    },
    {
     "data": {
      "text/plain": [
       "<unittest.runner.TextTestResult run=4 errors=0 failures=0>"
      ]
     },
     "execution_count": 73,
     "metadata": {},
     "output_type": "execute_result"
    }
   ],
   "source": [
    "class SquaresTest(unittest.TestCase):\n",
    "    def test_positive(self):\n",
    "        self.assertEqual(square_numbers([3,4,5]), [9, 16, 25])\n",
    "    def test_negative(self):\n",
    "        self.assertEqual(square_numbers([-3,-4,-5]),  [9, 16, 25], 'Handles negative numbers incorrectly')\n",
    "    def test_float(self):\n",
    "        self.assertEqual(square_numbers([3.5,4.5,5.5]), [12.25, 20.25, 30.25], 'Handles floats incorrectly')\n",
    "    def test_empty(self):\n",
    "        self.assertEqual(square_numbers([]), [], 'Does not return an empty list when given one')\n",
    "\n",
    "suite = unittest.TestLoader().loadTestsFromTestCase(SquaresTest)\n",
    "unittest.TextTestRunner().run(suite)"
   ]
  },
  {
   "cell_type": "markdown",
   "metadata": {},
   "source": [
    "## Use every other word from a sentence\n",
    "\n",
    "Take a sentence as a string, and output a new setence where you have taken every other word from it. If the new sentence doesn't end in a period, add a period to it.\n",
    "\n",
    "HINT: It would be good practice to write a loop to combine the sentence together. However, there's a useful way to convert a list back into a string using the .join() method on a *string* (Not a list!) \n",
    "\n",
    "HINT 2: If you can't remember how to take every other item from a collection, review slicing!"
   ]
  },
  {
   "cell_type": "code",
   "execution_count": 75,
   "metadata": {
    "collapsed": true
   },
   "outputs": [],
   "source": [
    "def take_every_other_word(sentence):\n",
    "    return \"\"\n",
    "    "
   ]
  },
  {
   "cell_type": "code",
   "execution_count": 47,
   "metadata": {
    "collapsed": false
   },
   "outputs": [
    {
     "name": "stderr",
     "output_type": "stream",
     "text": [
      "...\n",
      "----------------------------------------------------------------------\n",
      "Ran 3 tests in 0.005s\n",
      "\n",
      "OK\n"
     ]
    },
    {
     "data": {
      "text/plain": [
       "<unittest.runner.TextTestResult run=3 errors=0 failures=0>"
      ]
     },
     "execution_count": 47,
     "metadata": {},
     "output_type": "execute_result"
    }
   ],
   "source": [
    "class EveryOtherWordTest(unittest.TestCase):\n",
    "    def test_adding_a_period(self):\n",
    "        even_sentence = \"I want to stand with you on the mountains\"\n",
    "        self.assertEqual(take_every_other_word(even_sentence), \"I to with on mountains.\", \"Did you remember to add a period to the end?\")\n",
    "    def test_not_too_many_periods(self):\n",
    "        even_sentence = \"I want to stand with you on the mountains.\"\n",
    "        self.assertNotEqual(take_every_other_word(even_sentence), \"I to with on mountains..\", \"Do you check if the sentence already has a period?\")\n",
    "    def test_odd_sentence(self):\n",
    "        odd_sentence = \"I'm sorry Dave, but I can't do that.\"\n",
    "        self.assertEqual(take_every_other_word(odd_sentence), \"I'm Dave, I do.\")\n",
    "\n",
    "suite = unittest.TestLoader().loadTestsFromTestCase(EveryOtherWordTest)\n",
    "unittest.TextTestRunner().run(suite)"
   ]
  },
  {
   "cell_type": "markdown",
   "metadata": {},
   "source": [
    "## Second largest element in a list\n",
    "\n",
    "Given a list of numbers, return the second largest number in the list.\n",
    "\n",
    "Example input: \n",
    "```python \n",
    "[1,2,3,4,500,3]\n",
    "```\n",
    "Example output:\n",
    "```python \n",
    "4\n",
    "```\n",
    "\n",
    "If the list contains only one number return that number. If the list is empty, it is ok for your program to crash.\n",
    "\n",
    "As a sample, I've provided a function that finds the largest number "
   ]
  },
  {
   "cell_type": "code",
   "execution_count": 74,
   "metadata": {
    "collapsed": true
   },
   "outputs": [],
   "source": [
    "def largest(numbers):\n",
    "    largest_so_far = numbers[0]\n",
    "    # Start at the second element of the list\n",
    "    # If the list is only one element, numbers[1:] is empty\n",
    "    # and the for loop does not do anything\n",
    "    for number in numbers[1:]: \n",
    "        if number > largest_so_far:\n",
    "            largest_so_far = number\n",
    "    return largest_so_far\n",
    "        \n",
    "\n",
    "def second_largest(numbers):\n",
    "    return 0"
   ]
  },
  {
   "cell_type": "code",
   "execution_count": 59,
   "metadata": {
    "collapsed": false
   },
   "outputs": [
    {
     "name": "stderr",
     "output_type": "stream",
     "text": [
      "..\n",
      "----------------------------------------------------------------------\n",
      "Ran 2 tests in 0.002s\n",
      "\n",
      "OK\n"
     ]
    },
    {
     "data": {
      "text/plain": [
       "<unittest.runner.TextTestResult run=2 errors=0 failures=0>"
      ]
     },
     "execution_count": 59,
     "metadata": {},
     "output_type": "execute_result"
    }
   ],
   "source": [
    "class SecondLargestTest(unittest.TestCase):\n",
    "    def test_overall(self):\n",
    "        result = second_largest([1,2,3,4,500,3])\n",
    "        self.assertNotEqual(result, 500, 'Looks like you accidentally found the largest!')\n",
    "        self.assertEqual(result, 4)\n",
    "    def test_single_element_list(self):\n",
    "        self.assertEqual(second_largest([1]), 1, 'Do you handle single element lists correctly?')\n",
    "\n",
    "suite = unittest.TestLoader().loadTestsFromTestCase(SecondLargestTest)\n",
    "unittest.TextTestRunner().run(suite)"
   ]
  },
  {
   "cell_type": "code",
   "execution_count": null,
   "metadata": {
    "collapsed": true
   },
   "outputs": [],
   "source": []
  }
 ],
 "metadata": {
  "anaconda-cloud": {},
  "kernelspec": {
   "display_name": "Python [conda root]",
   "language": "python",
   "name": "conda-root-py"
  },
  "language_info": {
   "codemirror_mode": {
    "name": "ipython",
    "version": 3
   },
   "file_extension": ".py",
   "mimetype": "text/x-python",
   "name": "python",
   "nbconvert_exporter": "python",
   "pygments_lexer": "ipython3",
   "version": "3.5.2"
  }
 },
 "nbformat": 4,
 "nbformat_minor": 1
}

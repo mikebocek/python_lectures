{
 "cells": [
  {
   "cell_type": "code",
   "execution_count": 1,
   "metadata": {
    "collapsed": true
   },
   "outputs": [],
   "source": [
    "from __future__ import division, unicode_literals, print_function"
   ]
  },
  {
   "cell_type": "markdown",
   "metadata": {},
   "source": [
    "# Data structures\n",
    "\n",
    "So far, we have mostly dealt with variables that are organized in an *ad hoc* way. Most data, however, is not organized as single variables. Data has relationships - it has a *structure* that is often as meaningful as the individual data points itself.\n",
    "\n",
    "As an example, imagine if chracters were always stored in individual variables, and there was no concept of a \"string.\" We would lose a lot of the common grammar that we have for dealing with string data (replacements, counting, searching for substrings, etc.) This would be incredibly painful. While the data structures that we talk about here are a little more abstract than strings, you will quickly find that they are as indispensible as strings.\n",
    "\n",
    "Python offers four major built in ways of organizing data, all of which we will talk about here. To list them briefly, they are:\n",
    "\n",
    "0. Lists: Ordered lists\n",
    "1. Dictionaries: Associated pairs\n",
    "2. Sets: Unordered collections\n",
    "3. Tuples: Immutable collections\n",
    "\n",
    "Of these, being frank, sets and tuples are probably less important, but still good to know about. For the moment, we won't really talk about then. Lists and dictionaries, however, will be something you use basically every day in Python.\n",
    "\n",
    "Data structures are a field of huge importance in computer science, and this list is definitely not exhaustive. However, these are the built in structures available in Python."
   ]
  },
  {
   "cell_type": "markdown",
   "metadata": {},
   "source": [
    "# Lists\n",
    "\n",
    "Lists are ordered collections of items. They model sequential data (for example, data observations over time, or the collection of lines in a file.) By items, we mean any object in python (numbers, strings, booleans, even lists!) The main way that people construct a list in python is to surround the data with square brakets."
   ]
  },
  {
   "cell_type": "code",
   "execution_count": 6,
   "metadata": {
    "collapsed": false
   },
   "outputs": [],
   "source": [
    "list_numbers = [0, 1, 2, 3, 4]\n",
    "\n",
    "# Lists can extend over multiple lines\n",
    "list_strings = ['Now', 'this', 'is', 'a', 'story', \n",
    "                'all', 'about', 'how', 'my', 'life', \n",
    "                'got', 'flipped', 'turned', 'upside', 'down']\n",
    "\n",
    "# Any type of data can be stored in lists, including lists\n",
    "list_mixed = [1, 'apple', [1,2,3], 4.567]"
   ]
  },
  {
   "cell_type": "markdown",
   "metadata": {},
   "source": [
    "There are also many functions that return lists. One such function is the string function .split(), which \"splits\" a string into a list of \"words\" based on a seperating character (which would be a space in a normal sentence)"
   ]
  },
  {
   "cell_type": "code",
   "execution_count": 39,
   "metadata": {
    "collapsed": false
   },
   "outputs": [
    {
     "data": {
      "text/plain": [
       "['This', 'is', 'a', 'sentence', 'to', 'be', 'split', 'into', 'words']"
      ]
     },
     "execution_count": 39,
     "metadata": {},
     "output_type": "execute_result"
    }
   ],
   "source": [
    "\"This is a sentence to be split into words\".split()"
   ]
  },
  {
   "cell_type": "markdown",
   "metadata": {},
   "source": [
    "## List slicing\n",
    "Like strings, lists can be sliced. The syntax is identical to strings!"
   ]
  },
  {
   "cell_type": "code",
   "execution_count": 30,
   "metadata": {
    "collapsed": false
   },
   "outputs": [
    {
     "data": {
      "text/plain": [
       "'all'"
      ]
     },
     "execution_count": 30,
     "metadata": {},
     "output_type": "execute_result"
    }
   ],
   "source": [
    "list_strings[5]"
   ]
  },
  {
   "cell_type": "code",
   "execution_count": 8,
   "metadata": {
    "collapsed": false
   },
   "outputs": [
    {
     "data": {
      "text/plain": [
       "[0, 1]"
      ]
     },
     "execution_count": 8,
     "metadata": {},
     "output_type": "execute_result"
    }
   ],
   "source": [
    "list_numbers[0:2]"
   ]
  },
  {
   "cell_type": "code",
   "execution_count": 9,
   "metadata": {
    "collapsed": false
   },
   "outputs": [
    {
     "data": {
      "text/plain": [
       "[0, 2, 4]"
      ]
     },
     "execution_count": 9,
     "metadata": {},
     "output_type": "execute_result"
    }
   ],
   "source": [
    "list_numbers[::2]"
   ]
  },
  {
   "cell_type": "code",
   "execution_count": 10,
   "metadata": {
    "collapsed": false
   },
   "outputs": [
    {
     "data": {
      "text/plain": [
       "['down',\n",
       " 'upside',\n",
       " 'turned',\n",
       " 'flipped',\n",
       " 'got',\n",
       " 'life',\n",
       " 'my',\n",
       " 'how',\n",
       " 'about',\n",
       " 'all',\n",
       " 'story',\n",
       " 'a',\n",
       " 'is',\n",
       " 'this',\n",
       " 'Now']"
      ]
     },
     "execution_count": 10,
     "metadata": {},
     "output_type": "execute_result"
    }
   ],
   "source": [
    "list_strings[::-1]"
   ]
  },
  {
   "cell_type": "markdown",
   "metadata": {},
   "source": [
    "## List methods"
   ]
  },
  {
   "cell_type": "markdown",
   "metadata": {},
   "source": [
    "Lists are *mutable*, which means that they can be altered after they are created. For example"
   ]
  },
  {
   "cell_type": "code",
   "execution_count": 11,
   "metadata": {
    "collapsed": true
   },
   "outputs": [],
   "source": [
    "list_strings[9] = 'cat'"
   ]
  },
  {
   "cell_type": "code",
   "execution_count": 12,
   "metadata": {
    "collapsed": false
   },
   "outputs": [
    {
     "data": {
      "text/plain": [
       "['Now',\n",
       " 'this',\n",
       " 'is',\n",
       " 'a',\n",
       " 'story',\n",
       " 'all',\n",
       " 'about',\n",
       " 'how',\n",
       " 'my',\n",
       " 'cat',\n",
       " 'got',\n",
       " 'flipped',\n",
       " 'turned',\n",
       " 'upside',\n",
       " 'down']"
      ]
     },
     "execution_count": 12,
     "metadata": {},
     "output_type": "execute_result"
    }
   ],
   "source": [
    "list_strings"
   ]
  },
  {
   "cell_type": "markdown",
   "metadata": {},
   "source": [
    "Beacuse lists are mutable, they have a variety of methods allowing mutation. Let's look at a few useful ones:\n",
    "\n",
    "Probably the most important method for a list is .append(item), which grows the list by adding an item to the end"
   ]
  },
  {
   "cell_type": "code",
   "execution_count": 18,
   "metadata": {
    "collapsed": true
   },
   "outputs": [],
   "source": [
    "list_numbers.append(10)"
   ]
  },
  {
   "cell_type": "code",
   "execution_count": 14,
   "metadata": {
    "collapsed": false
   },
   "outputs": [
    {
     "data": {
      "text/plain": [
       "[0, 1, 2, 3, 4, 10]"
      ]
     },
     "execution_count": 14,
     "metadata": {},
     "output_type": "execute_result"
    }
   ],
   "source": [
    "list_numbers"
   ]
  },
  {
   "cell_type": "markdown",
   "metadata": {},
   "source": [
    "This allows you to grow a list bit by bit"
   ]
  },
  {
   "cell_type": "markdown",
   "metadata": {},
   "source": [
    "Some other examples of methods are"
   ]
  },
  {
   "cell_type": "code",
   "execution_count": 15,
   "metadata": {
    "collapsed": false
   },
   "outputs": [
    {
     "data": {
      "text/plain": [
       "5"
      ]
     },
     "execution_count": 15,
     "metadata": {},
     "output_type": "execute_result"
    }
   ],
   "source": [
    "# Returns the index of an item in the list, or -1 if not found. Like string.find()\n",
    "list_numbers.index(10)"
   ]
  },
  {
   "cell_type": "code",
   "execution_count": 19,
   "metadata": {
    "collapsed": false
   },
   "outputs": [],
   "source": [
    "# Removes an item by value\n",
    "list_numbers.remove(10)"
   ]
  },
  {
   "cell_type": "code",
   "execution_count": 20,
   "metadata": {
    "collapsed": false
   },
   "outputs": [
    {
     "data": {
      "text/plain": [
       "[0, 1, 2, 3, 4]"
      ]
     },
     "execution_count": 20,
     "metadata": {},
     "output_type": "execute_result"
    }
   ],
   "source": [
    "list_numbers"
   ]
  },
  {
   "cell_type": "code",
   "execution_count": 22,
   "metadata": {
    "collapsed": false
   },
   "outputs": [
    {
     "data": {
      "text/plain": [
       "1"
      ]
     },
     "execution_count": 22,
     "metadata": {},
     "output_type": "execute_result"
    }
   ],
   "source": [
    "# Exactly the same as for strings. Shows you how many times an items occurs in a list\n",
    "list_numbers.count(4)"
   ]
  },
  {
   "cell_type": "markdown",
   "metadata": {},
   "source": [
    "## Lists are shared in memory\n",
    "\n",
    "An important \"gotcha\" with lists is that Python tries to optimize memory usage with them. This is because they can be long, and take up a lot of space in memory. Thus, if you re-assign a list to another variable, it doesn't copy the list to this variable, but instead just makes this second variable a \"link\" to the original list.\n",
    "\n",
    "The effect of this is that modifying the reference will also modify the original list."
   ]
  },
  {
   "cell_type": "code",
   "execution_count": 23,
   "metadata": {
    "collapsed": true
   },
   "outputs": [],
   "source": [
    "list_copy = list_numbers"
   ]
  },
  {
   "cell_type": "code",
   "execution_count": 25,
   "metadata": {
    "collapsed": false
   },
   "outputs": [
    {
     "data": {
      "text/plain": [
       "[0, 1, 2, 3, 4]"
      ]
     },
     "execution_count": 25,
     "metadata": {},
     "output_type": "execute_result"
    }
   ],
   "source": [
    "list_numbers"
   ]
  },
  {
   "cell_type": "code",
   "execution_count": 28,
   "metadata": {
    "collapsed": true
   },
   "outputs": [],
   "source": [
    "list_copy.append(500) # Also affects list numbers!"
   ]
  },
  {
   "cell_type": "code",
   "execution_count": 29,
   "metadata": {
    "collapsed": false
   },
   "outputs": [
    {
     "data": {
      "text/plain": [
       "[0, 1, 2, 3, 4, 500, 500]"
      ]
     },
     "execution_count": 29,
     "metadata": {},
     "output_type": "execute_result"
    }
   ],
   "source": [
    "list_numbers"
   ]
  },
  {
   "cell_type": "markdown",
   "metadata": {},
   "source": [
    "If you want to make a real copy of a list, the best way to do so is using the copy library. A quick and dirty way to do it is to use a full slice of the list, though, as below"
   ]
  },
  {
   "cell_type": "code",
   "execution_count": 44,
   "metadata": {
    "collapsed": true
   },
   "outputs": [],
   "source": [
    "real_copy = list_numbers[:]"
   ]
  },
  {
   "cell_type": "code",
   "execution_count": 45,
   "metadata": {
    "collapsed": true
   },
   "outputs": [],
   "source": [
    "real_copy.append(4567)"
   ]
  },
  {
   "cell_type": "code",
   "execution_count": 47,
   "metadata": {
    "collapsed": false
   },
   "outputs": [
    {
     "name": "stdout",
     "output_type": "stream",
     "text": [
      "Original list: [0, 1, 2, 3, 4, 500, 500]\n",
      "True copy: [0, 1, 2, 3, 4, 500, 500, 4567]\n"
     ]
    }
   ],
   "source": [
    "print(\"Original list: {}\".format(list_numbers))\n",
    "print(\"True copy: {}\".format(real_copy))"
   ]
  },
  {
   "cell_type": "markdown",
   "metadata": {
    "collapsed": true
   },
   "source": [
    "# Tuples\n",
    "\n",
    "Tuples are somewhat similar to lists - they are created by surrounding comma seperated values with parantheses, like so. \n",
    "\n",
    "```python\n",
    "number_tuple = (1,2,3)\n",
    "```\n",
    "\n",
    "The main difference is that tuples are *immutable*, meaning that once they're created they cannot be changed. Tuples are often used in python to represent lists where the structure of the list is fixed (i.e. where each entry has a specific meaning.)\n",
    "\n",
    "For example, colors are represented on computers as three integers representing the red, green and blue channels. In this case, the structure of the list is fixed. We will never have another color channel, and we don't want the order of the channels being mixed up. We would represent each pixel then as a tuple of (r, g, b) values."
   ]
  },
  {
   "cell_type": "code",
   "execution_count": 56,
   "metadata": {
    "collapsed": true
   },
   "outputs": [],
   "source": [
    "color_1 = (50, 255, 127) # Green\n",
    "color_2 = (127, 127, 127) # Grey"
   ]
  },
  {
   "cell_type": "code",
   "execution_count": 60,
   "metadata": {
    "collapsed": false
   },
   "outputs": [
    {
     "ename": "TypeError",
     "evalue": "'tuple' object does not support item assignment",
     "output_type": "error",
     "traceback": [
      "\u001b[0;31m---------------------------------------------------------------------------\u001b[0m",
      "\u001b[0;31mTypeError\u001b[0m                                 Traceback (most recent call last)",
      "\u001b[0;32m<ipython-input-60-4f469e3c78b2>\u001b[0m in \u001b[0;36m<module>\u001b[0;34m()\u001b[0m\n\u001b[1;32m      1\u001b[0m \u001b[0;31m# Tuples are immutable: assignment causes an error\u001b[0m\u001b[0;34m\u001b[0m\u001b[0;34m\u001b[0m\u001b[0m\n\u001b[1;32m      2\u001b[0m \u001b[0;34m\u001b[0m\u001b[0m\n\u001b[0;32m----> 3\u001b[0;31m \u001b[0mcolor_1\u001b[0m\u001b[0;34m[\u001b[0m\u001b[0;36m0\u001b[0m\u001b[0;34m]\u001b[0m \u001b[0;34m=\u001b[0m \u001b[0;36m25\u001b[0m\u001b[0;34m\u001b[0m\u001b[0m\n\u001b[0m",
      "\u001b[0;31mTypeError\u001b[0m: 'tuple' object does not support item assignment"
     ]
    }
   ],
   "source": [
    "# Tuples are immutable: assignment causes an error\n",
    "\n",
    "color_1[0] = 25"
   ]
  },
  {
   "cell_type": "markdown",
   "metadata": {},
   "source": [
    "## Tuple indexing\n",
    "\n",
    "Tuples can be indexed and sliced much like lists and strings"
   ]
  },
  {
   "cell_type": "code",
   "execution_count": 59,
   "metadata": {
    "collapsed": false
   },
   "outputs": [
    {
     "name": "stdout",
     "output_type": "stream",
     "text": [
      "127\n",
      "(50, 255)\n"
     ]
    }
   ],
   "source": [
    "print(color_2[0])\n",
    "print(color_1[0:2])"
   ]
  },
  {
   "cell_type": "markdown",
   "metadata": {},
   "source": [
    "## Multiple assignment (destructuring)\n",
    "\n",
    "Tuples can be used to assign multiple variables in one line. For example, if we wanted to set the variables a and b to 1 and 2, respectively, we could write"
   ]
  },
  {
   "cell_type": "code",
   "execution_count": 63,
   "metadata": {
    "collapsed": true
   },
   "outputs": [],
   "source": [
    "a = 1\n",
    "b = 2"
   ]
  },
  {
   "cell_type": "markdown",
   "metadata": {},
   "source": [
    "But it is more concise to write this as"
   ]
  },
  {
   "cell_type": "code",
   "execution_count": 64,
   "metadata": {
    "collapsed": true
   },
   "outputs": [],
   "source": [
    "a, b = 1, 2"
   ]
  },
  {
   "cell_type": "markdown",
   "metadata": {},
   "source": [
    "This also allows for easy swapping of variables"
   ]
  },
  {
   "cell_type": "code",
   "execution_count": 65,
   "metadata": {
    "collapsed": false
   },
   "outputs": [
    {
     "name": "stdout",
     "output_type": "stream",
     "text": [
      "a = 2, b = 1\n"
     ]
    }
   ],
   "source": [
    "a, b = b, a\n",
    "print(\"a = {}, b = {}\".format(a, b))"
   ]
  },
  {
   "cell_type": "markdown",
   "metadata": {},
   "source": [
    "Finally, we can easily use this to extract the individual variables from a tuple into their own variables. This is sometimes called \"destructuring\" in programming."
   ]
  },
  {
   "cell_type": "code",
   "execution_count": 67,
   "metadata": {
    "collapsed": false
   },
   "outputs": [
    {
     "name": "stdout",
     "output_type": "stream",
     "text": [
      "R:  50\n",
      "G:  255\n",
      "B:  127\n"
     ]
    }
   ],
   "source": [
    "r, g, b = color_1\n",
    "\n",
    "print(\"R: \", r)\n",
    "print(\"G: \", g)\n",
    "print(\"B: \", b)"
   ]
  },
  {
   "cell_type": "markdown",
   "metadata": {},
   "source": [
    "# The *for* loop\n",
    "\n",
    "One of the most common tasks in programming is to visit every item in a list, and do someting with each item. Most programming languages offer an expression to perform this task, called a *for loop*. In python, you express a *for* loop as follows:\n",
    "\n",
    "```python\n",
    "for item in list:\n",
    "    # Code that does something with the variable item\n",
    "```\n",
    "\n",
    "The way we define a *for* loop is similar to how *if* statements or functions are defined, with a colon and an indented block. In this case, the indented block is executed for every item in the list, with the variable *item* passed to the indented code.\n",
    "\n",
    "Let's look at some examples"
   ]
  },
  {
   "cell_type": "code",
   "execution_count": null,
   "metadata": {
    "collapsed": true
   },
   "outputs": [],
   "source": []
  },
  {
   "cell_type": "code",
   "execution_count": 31,
   "metadata": {
    "collapsed": false
   },
   "outputs": [
    {
     "name": "stdout",
     "output_type": "stream",
     "text": [
      "1\n",
      "2\n",
      "3\n",
      "4\n",
      "5\n",
      "501\n",
      "501\n"
     ]
    }
   ],
   "source": [
    "# Go through the list of numbers, and print each number + 1\n",
    "\n",
    "for number in list_numbers:\n",
    "    print(number+1)"
   ]
  },
  {
   "cell_type": "code",
   "execution_count": 34,
   "metadata": {
    "collapsed": false
   },
   "outputs": [
    {
     "data": {
      "text/plain": [
       "'Now this is a story all about how my cat got flipped turned upside down '"
      ]
     },
     "execution_count": 34,
     "metadata": {},
     "output_type": "execute_result"
    }
   ],
   "source": [
    "# Construct a sentence out of the list of strings using string concatenation\n",
    "\n",
    "sentence = \"\"\n",
    "for word in list_strings:\n",
    "    sentence = sentence + word + \" \" # Add a space between words\n",
    "\n",
    "sentence"
   ]
  },
  {
   "cell_type": "markdown",
   "metadata": {},
   "source": [
    "In all of these data structures, you will find that for loops are a powerful way to manipulate them"
   ]
  },
  {
   "cell_type": "markdown",
   "metadata": {},
   "source": [
    "# Dictionaries\n",
    "\n",
    "Dictionaries are part of a common class of data structures in programming called \"lookup tables\" or \"hash tables.\" Dictionaries are useful for cases where we want to express a relationship between two points, or a mapping from one set of objects onto another. \n",
    "\n",
    "We deal with data that has direct relationships all the time. One simple example from biology is the relationship from a DNA base to its complementary base:\n",
    "    - A -> T\n",
    "    - T -> A\n",
    "    - C -> G\n",
    "    - G -> C\n",
    "    \n",
    "If we're storing DNA bases as strings, we can express this in Python the following way:"
   ]
  },
  {
   "cell_type": "code",
   "execution_count": 35,
   "metadata": {
    "collapsed": true
   },
   "outputs": [],
   "source": [
    "complements = {'A':'T',\n",
    " 'T': 'A',\n",
    " 'C': 'G',\n",
    " 'G': 'C'\n",
    "}"
   ]
  },
  {
   "cell_type": "markdown",
   "metadata": {},
   "source": [
    "Like a list, we store seperate elements with commas in between. Unlike a list, each element has two parts: the *key* and the *value*, which are stored in pairs as key: value.\n",
    "\n",
    "Dictionaries use indexing like lists, but instead of the indexes being numbers, they are the keys of the dictionary. So when we see"
   ]
  },
  {
   "cell_type": "code",
   "execution_count": 36,
   "metadata": {
    "collapsed": false
   },
   "outputs": [
    {
     "data": {
      "text/plain": [
       "'T'"
      ]
     },
     "execution_count": 36,
     "metadata": {},
     "output_type": "execute_result"
    }
   ],
   "source": [
    "complements['A']"
   ]
  },
  {
   "cell_type": "markdown",
   "metadata": {},
   "source": [
    "Python looks in the dictionary complements and tries to find a key with the value A. If it exists, it returns the value.\n",
    "\n",
    "Beacause of the way this lookup works, dictionaries only allow one value per key. However, multiple keys can have the same value. If we reassign the value of a key, as below"
   ]
  },
  {
   "cell_type": "code",
   "execution_count": 37,
   "metadata": {
    "collapsed": true
   },
   "outputs": [],
   "source": [
    "complements['A'] = 'U'"
   ]
  },
  {
   "cell_type": "code",
   "execution_count": 38,
   "metadata": {
    "collapsed": false
   },
   "outputs": [
    {
     "data": {
      "text/plain": [
       "{'A': 'U', 'C': 'G', 'G': 'C', 'T': 'A'}"
      ]
     },
     "execution_count": 38,
     "metadata": {},
     "output_type": "execute_result"
    }
   ],
   "source": [
    "complements"
   ]
  },
  {
   "cell_type": "markdown",
   "metadata": {},
   "source": [
    "It completely overwrites the previous value for that key.\n",
    "\n",
    "Dictionaries are very useful in Python, but their usefulness might not immediately be apparent. One common use of dictionaries is to use the keys as labels for data, and the values as the data points. For example, say we had a DNA sequence, and we wanted to store the counts of each nucleotide. We could easily create a dictionary where the keys are the nucleotides, and the values are the counts of each one, as below"
   ]
  },
  {
   "cell_type": "code",
   "execution_count": 43,
   "metadata": {
    "collapsed": true
   },
   "outputs": [],
   "source": [
    "dna_sequence = 'acgttattgggacgtgtccacgt'.upper()\n",
    "\n",
    "sequence_counts = {} # Empty dictionary\n",
    "\n",
    "for nucleotide in ['A', 'C', 'G', 'T']:\n",
    "    sequence_counts[nucleotide] = dna_sequence.count(nucleotide)"
   ]
  },
  {
   "cell_type": "code",
   "execution_count": 42,
   "metadata": {
    "collapsed": false
   },
   "outputs": [
    {
     "data": {
      "text/plain": [
       "{'A': 4, 'C': 5, 'G': 7, 'T': 7}"
      ]
     },
     "execution_count": 42,
     "metadata": {},
     "output_type": "execute_result"
    }
   ],
   "source": [
    "sequence_counts"
   ]
  },
  {
   "cell_type": "markdown",
   "metadata": {},
   "source": [
    "## Dictionary methods\n",
    "\n",
    "Like lists and strings, dictionaries have a variety of methods. I find that they are generally less useful than list or string methods however."
   ]
  },
  {
   "cell_type": "code",
   "execution_count": 53,
   "metadata": {
    "collapsed": true
   },
   "outputs": [],
   "source": [
    "# Let's start with a dictionary representing some kitchen items and their counts\n",
    "\n",
    "kitchen_inventory = {\n",
    "    'cutting_boards': 2,\n",
    "    'knives': 1,\n",
    "    'oven': 1\n",
    "}"
   ]
  },
  {
   "cell_type": "code",
   "execution_count": 54,
   "metadata": {
    "collapsed": false
   },
   "outputs": [
    {
     "name": "stdout",
     "output_type": "stream",
     "text": [
      "{'cutting_boards': 2, 'knives': 1}\n"
     ]
    }
   ],
   "source": [
    "# We can remove keys\n",
    "kitchen_inventory.pop('oven')\n",
    "print(kitchen_inventory)"
   ]
  },
  {
   "cell_type": "code",
   "execution_count": 55,
   "metadata": {
    "collapsed": false
   },
   "outputs": [
    {
     "name": "stdout",
     "output_type": "stream",
     "text": [
      "dict_keys(['cutting_boards', 'knives'])\n",
      "dict_values([2, 1])\n"
     ]
    }
   ],
   "source": [
    "# We can get lists of keys and values\n",
    "print(kitchen_inventory.keys())\n",
    "print(kitchen_inventory.values())"
   ]
  },
  {
   "cell_type": "markdown",
   "metadata": {},
   "source": [
    "Last, but probably most importantly, we can use .items() to produce a list of (key, value) tuples for all items in the dictionary"
   ]
  },
  {
   "cell_type": "code",
   "execution_count": 68,
   "metadata": {
    "collapsed": false
   },
   "outputs": [
    {
     "data": {
      "text/plain": [
       "dict_items([('cutting_boards', 2), ('knives', 1)])"
      ]
     },
     "execution_count": 68,
     "metadata": {},
     "output_type": "execute_result"
    }
   ],
   "source": [
    "kitchen_inventory.items()"
   ]
  },
  {
   "cell_type": "markdown",
   "metadata": {
    "collapsed": true
   },
   "source": [
    "## Iterating over dictionaries with *for* loops\n",
    "\n",
    "Like lists, we can use *for* loops to visit every item in a dictionary. There's two idiomatic ways to do this, depending on whether we just want to access the keys, or want to see the values as well.\n",
    "\n",
    "To just access the keys, we can express the for loop as we would for a list:"
   ]
  },
  {
   "cell_type": "code",
   "execution_count": 69,
   "metadata": {
    "collapsed": false
   },
   "outputs": [
    {
     "name": "stdout",
     "output_type": "stream",
     "text": [
      "cutting_boards\n",
      "knives\n"
     ]
    }
   ],
   "source": [
    "for key in kitchen_inventory:\n",
    "    print(key)"
   ]
  },
  {
   "cell_type": "markdown",
   "metadata": {
    "collapsed": true
   },
   "source": [
    "More often though, we're interested in both the keys and the values of a dictionary. To access these, the most idomatic approach is to use .items(), and use tuple destructing to assign each key and value to loop variables.\n",
    "    "
   ]
  },
  {
   "cell_type": "code",
   "execution_count": 71,
   "metadata": {
    "collapsed": false
   },
   "outputs": [
    {
     "name": "stdout",
     "output_type": "stream",
     "text": [
      "C : 5\n",
      "G : 7\n",
      "T : 7\n",
      "A : 4\n"
     ]
    }
   ],
   "source": [
    "for key, value in sequence_counts.items():\n",
    "    print(key, \":\", value)"
   ]
  },
  {
   "cell_type": "markdown",
   "metadata": {
    "collapsed": true
   },
   "source": [
    "Here's a more useful example of what we might use iterating over a dictionary to do: say we wanted to take these nucleotide counts in the dna sequence, and convert them to percentages. Let's build a new dictionary out of these counts called nucleotide_percentages, and populate it from the original dictionary by dividing each count by the length of the original sequence"
   ]
  },
  {
   "cell_type": "code",
   "execution_count": 77,
   "metadata": {
    "collapsed": true
   },
   "outputs": [],
   "source": [
    "nucleotide_percentages = {}\n",
    "\n",
    "for nuc, count in sequence_counts.items():\n",
    "    nucleotide_percentages[nuc] = 100 * (count / len(dna_sequence))"
   ]
  },
  {
   "cell_type": "code",
   "execution_count": 78,
   "metadata": {
    "collapsed": false
   },
   "outputs": [
    {
     "data": {
      "text/plain": [
       "{'A': 17.391304347826086,\n",
       " 'C': 21.73913043478261,\n",
       " 'G': 30.434782608695656,\n",
       " 'T': 30.434782608695656}"
      ]
     },
     "execution_count": 78,
     "metadata": {},
     "output_type": "execute_result"
    }
   ],
   "source": [
    "nucleotide_percentages"
   ]
  },
  {
   "cell_type": "markdown",
   "metadata": {},
   "source": [
    "# Excercises (Lists)\n",
    "\n",
    "Since data structures are such a critical part of Python programming, there's a few more excercises than normal to make sure you get the hang of them. "
   ]
  },
  {
   "cell_type": "markdown",
   "metadata": {},
   "source": [
    "## Squaring a list of numbers\n",
    "\n",
    "Write a function that takes a list of numbers, and returns a new list where every number is squared\n",
    "\n",
    "Bonus 1: Make your function more robust! What happens if one of the elements of the list is not a number? Can you write the function to ignore these values? You can test if a value represents a number (rather than a string, dictionary, etc) using\n",
    "```python\n",
    "isinstance(value, Number)\n",
    "```\n",
    "In order to do this, we imported the definition of a number from a library in the first line of the excercise. We'll talk about library imports in a future lesson. Use the second function definition (square_numbers_ignore_non_values) for this."
   ]
  },
  {
   "cell_type": "code",
   "execution_count": 126,
   "metadata": {
    "collapsed": true
   },
   "outputs": [],
   "source": [
    "from numbers import Number # Only used for the bonus!\n",
    "\n",
    "def square_numbers(numbers):\n",
    "    squared_numbers = []\n",
    "    return squared_numbers\n",
    "\n",
    "def square_numbers_ignore_non_values(numbers):\n",
    "    squared_numbers = []\n",
    "    return squared_numbers"
   ]
  },
  {
   "cell_type": "code",
   "execution_count": 107,
   "metadata": {
    "collapsed": false
   },
   "outputs": [],
   "source": [
    "assert square_numbers([3,4,5]) == [9, 16, 25]\n",
    "assert square_numbers([-3,-4,-5]) == [9, 16, 25]\n",
    "assert square_numbers([3.5,4.5,5.5]) == [12.25, 20.25, 30.25]\n",
    "assert square_numbers([]) == []"
   ]
  },
  {
   "cell_type": "code",
   "execution_count": 99,
   "metadata": {
    "collapsed": false
   },
   "outputs": [
    {
     "data": {
      "text/plain": [
       "[36, 49]"
      ]
     },
     "execution_count": 99,
     "metadata": {},
     "output_type": "execute_result"
    }
   ],
   "source": [
    "assert square_numbers_ignore_non_values([4.5, 'a', 6, 7]) == [20.25, 36, 49]\n",
    "assert square_numbers_ignore_non_values(['4.5', 'a', 6, 7]) == [36, 49]"
   ]
  },
  {
   "cell_type": "markdown",
   "metadata": {},
   "source": [
    "## Use every other word from a sentence\n",
    "\n",
    "Take a sentence as a string, and output a new setence where you have taken every other word from it. If the new sentence doesn't end in a period, add a period to it.\n",
    "\n",
    "HINT: It would be good practice to write a loop to combine the sentence together. However, there's a useful way to convert a list back into a string using the .join() method on a *string* (Not a list!) \n",
    "\n",
    "HINT 2: If you can't remember how to take every other item from a collection, review slicing!"
   ]
  },
  {
   "cell_type": "code",
   "execution_count": 108,
   "metadata": {
    "collapsed": true
   },
   "outputs": [],
   "source": [
    "def take_every_other_word(sentence):\n",
    "    every_other_sentence = \" \".join(sentence.split()[::2])\n",
    "    if not every_other_sentence.endswith('.'):\n",
    "        every_other_sentence += '.'\n",
    "    return every_other_sentence\n",
    "    "
   ]
  },
  {
   "cell_type": "code",
   "execution_count": 111,
   "metadata": {
    "collapsed": false
   },
   "outputs": [],
   "source": [
    "assert take_every_other_word(\"I'm sorry Dave, but I can't do that.\") == \"I'm Dave, I do.\""
   ]
  },
  {
   "cell_type": "code",
   "execution_count": null,
   "metadata": {
    "collapsed": true
   },
   "outputs": [],
   "source": []
  },
  {
   "cell_type": "markdown",
   "metadata": {},
   "source": [
    "## Second largest element in a list\n",
    "\n",
    "Given a list of numbers, return the second largest number in the list.\n",
    "\n",
    "Example input: \n",
    "```python \n",
    "[1,2,3,4,500,3]\n",
    "```\n",
    "Example output:\n",
    "```python \n",
    "4\n",
    "```\n",
    "\n",
    "As a sample, I've provided a function that finds the largest number "
   ]
  },
  {
   "cell_type": "code",
   "execution_count": 135,
   "metadata": {
    "collapsed": true
   },
   "outputs": [],
   "source": [
    "def largest(numbers):\n",
    "    largest_so_far = numbers[0]\n",
    "    # Start at the second element of the list\n",
    "    # If the list is only one element, numbers[1:] is empty\n",
    "    # and the for loop does not do anything\n",
    "    for number in numbers[1:]: \n",
    "        if number > largest_so_far:\n",
    "            largest_so_far = number\n",
    "    return largest_so_far\n",
    "        \n",
    "\n",
    "def second_largest(numbers):\n",
    "    return numbers[0]"
   ]
  },
  {
   "cell_type": "code",
   "execution_count": 130,
   "metadata": {
    "collapsed": false
   },
   "outputs": [
    {
     "data": {
      "text/plain": [
       "8"
      ]
     },
     "execution_count": 130,
     "metadata": {},
     "output_type": "execute_result"
    }
   ],
   "source": [
    "assert second_largest[]"
   ]
  },
  {
   "cell_type": "markdown",
   "metadata": {},
   "source": [
    "# Excercises (Dictionaries)\n",
    "## Word counter\n",
    "\n",
    "Write a function that takes a sentence as a string, and returns a dictionary with the count of every word in the string. For this excercise, don't worry about making the capitalization consistent, or removing punctuation.\n",
    "\n",
    "HINT 1: Remember that there is a function to convert a string to a list of words\n",
    "\n",
    "HINT 2: When you encounter a word in the sentence, how do you check if the word is already contained in the dictionary? If it is in the dictionary, how would you update the entry to reflect the word being found again? If it's not in the dictionary, how might you add it? What should it's original count be?\n",
    "\n",
    "HINT 3: Python has a nice way of adding one to an existing variable. The verbose way of doing this would be:\n",
    "\n",
    "```python\n",
    "a = 10\n",
    "a = a + 1 # a is now 11\n",
    "```\n",
    "\n",
    "But a shorter and cleaner way to express this is:\n",
    "\n",
    "```python\n",
    "a = 10\n",
    "a += 1 # A is now 11\n",
    "```\n",
    "\n",
    "The program you will write here is such a common pattern that Python provides some solutions in the Standard library. If you're curious, take a look at the collections module, particularly the Counter and defaultdict types. You can do this by typing \n",
    "\n",
    "```python\n",
    "import collections\n",
    "?collections.Counter()\n",
    "```\n",
    "into a cell below"
   ]
  },
  {
   "cell_type": "code",
   "execution_count": 105,
   "metadata": {
    "collapsed": true
   },
   "outputs": [],
   "source": [
    "def word_counter(sentence):\n",
    "    word_counts = {}\n",
    "    for word in sentence.split():\n",
    "        if word in word_counts:\n",
    "            word_counts[word] += 1\n",
    "        else:\n",
    "            word_counts[word] = 1\n",
    "    return word_counts"
   ]
  },
  {
   "cell_type": "code",
   "execution_count": 106,
   "metadata": {
    "collapsed": false
   },
   "outputs": [],
   "source": [
    "assert word_counter('It was the best of times, it was the worst of times.') == {'It':1, 'it':1, 'was':2, 'the':2, \n",
    "                                                                                'of':2, 'times,':1, 'times.':1, 'best':1,\n",
    "                                                                                'worst':1}\n",
    "assert word_counter('') == {}"
   ]
  },
  {
   "cell_type": "markdown",
   "metadata": {},
   "source": [
    "## Sum the values together from two different dictionaries\n",
    "\n",
    "Write a function that takes two different dictionaries, and returns a new dictionary with the same keys as the two dictionaries together, where the values are the sum of the values from each individual dictionary. If a key only appears in one dictionary, use its value alone. For example: if you had the following two dictionaries:\n",
    "\n",
    "```python\n",
    "a = {'A':5, 'C':6, 'G':7, 'T':10}\n",
    "b = {'A':1, 'C':12, 'G':7, 'U':3}\n",
    "```\n",
    "\n",
    "Then the output of your function should be:\n",
    "\n",
    "```python\n",
    "{'A':6, 'C':18, 'G':14, 'T':10, 'U':3}\n",
    "```\n",
    "\n",
    "NOTE/Warning: In the provided skeleton, we create a new empty dictionary. You should copy the of the values you use individually into this new dictionary, rather than setting it equal to one of the arguments. Looking back at the way that Python treats lists, can you predict what would happen if you were just to set combined_counts = counts_1? Test your prediction below. "
   ]
  },
  {
   "cell_type": "code",
   "execution_count": 125,
   "metadata": {
    "collapsed": true
   },
   "outputs": [],
   "source": [
    "def merge_and_sum_dictionaries(counts_1, counts_2):\n",
    "    combined_counts = {} \n",
    "    for k, v in counts_1.items():\n",
    "        combined_counts[k] = v\n",
    "    for k,v in counts_2.items():\n",
    "        if k in counts_1:\n",
    "            combined_counts[k] += v\n",
    "        else:\n",
    "            combined_counts[k] = v\n",
    "    return combined_counts"
   ]
  },
  {
   "cell_type": "code",
   "execution_count": 123,
   "metadata": {
    "collapsed": false
   },
   "outputs": [
    {
     "data": {
      "text/plain": [
       "{'A': 6, 'C': 18, 'G': 14, 'T': 10, 'U': 3}"
      ]
     },
     "execution_count": 123,
     "metadata": {},
     "output_type": "execute_result"
    }
   ],
   "source": [
    "a = {'A':5, 'C':6, 'G':7, 'T':10}\n",
    "b = {'A':1, 'C':12, 'G':7, 'U':3}\n",
    "\n",
    "assert merge_and_sum_dictionaries(a, b) == {'A': 6, 'C': 18, 'G': 14, 'T': 10, 'U': 3}\n",
    "assert a == {'A':5, 'C':6, 'G':7, 'T':10}"
   ]
  },
  {
   "cell_type": "code",
   "execution_count": 124,
   "metadata": {
    "collapsed": false
   },
   "outputs": [
    {
     "data": {
      "text/plain": [
       "{'A': 6, 'C': 18, 'G': 14, 'T': 10, 'U': 3}"
      ]
     },
     "execution_count": 124,
     "metadata": {},
     "output_type": "execute_result"
    }
   ],
   "source": [
    "a"
   ]
  },
  {
   "cell_type": "code",
   "execution_count": null,
   "metadata": {
    "collapsed": true
   },
   "outputs": [],
   "source": []
  }
 ],
 "metadata": {
  "anaconda-cloud": {},
  "kernelspec": {
   "display_name": "Python [conda root]",
   "language": "python",
   "name": "conda-root-py"
  },
  "language_info": {
   "codemirror_mode": {
    "name": "ipython",
    "version": 3
   },
   "file_extension": ".py",
   "mimetype": "text/x-python",
   "name": "python",
   "nbconvert_exporter": "python",
   "pygments_lexer": "ipython3",
   "version": "3.5.2"
  }
 },
 "nbformat": 4,
 "nbformat_minor": 1
}

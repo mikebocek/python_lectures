{
 "cells": [
  {
   "cell_type": "code",
   "execution_count": null,
   "metadata": {
    "collapsed": true
   },
   "outputs": [],
   "source": [
    "from __future__ import division, unicode_literals, print_function\n",
    "import unittest\n",
    "import dis"
   ]
  },
  {
   "cell_type": "markdown",
   "metadata": {},
   "source": [
    "# Data structures\n",
    "\n",
    "As you saw last time, python offers four major built in ways of organizing data, all of which we will talk about here. To list them briefly, they are:\n",
    "\n",
    "0. Lists: Ordered lists\n",
    "1. Tuples: Immutable collections\n",
    "2. Dictionaries: Associated pairs\n",
    "3. Sets: Unordered collections\n",
    "\n",
    "In this lesson we will discuss dictionaries and sets. In contrast to Lists and Tuples, these are *unordered* collections."
   ]
  },
  {
   "cell_type": "markdown",
   "metadata": {},
   "source": [
    "# Dictionaries\n",
    "\n",
    "Dictionaries are part of a common class of data structures in programming called \"lookup tables\" or \"hash tables.\" Dictionaries are useful for cases where we want to express a relationship between two points, or a mapping from one set of objects onto another. \n",
    "\n",
    "We deal with data that has direct relationships all the time. One simple example from biology is the relationship from a DNA base to its complementary base:\n",
    "    - A -> T\n",
    "    - T -> A\n",
    "    - C -> G\n",
    "    - G -> C\n",
    "    \n",
    "If we're storing DNA bases as strings, we can express this in Python the following way:"
   ]
  },
  {
   "cell_type": "code",
   "execution_count": null,
   "metadata": {
    "collapsed": true
   },
   "outputs": [],
   "source": [
    "complements = {'A':'T',\n",
    " 'T': 'A',\n",
    " 'C': 'G',\n",
    " 'G': 'C'\n",
    "}"
   ]
  },
  {
   "cell_type": "markdown",
   "metadata": {},
   "source": [
    "Like a list, we store seperate elements with commas in between. Unlike a list, each element has two parts: the *key* and the *value*, which are stored in pairs as key: value.\n",
    "\n",
    "Dictionaries use indexing like lists, but instead of the indexes being numbers, they are the keys of the dictionary. So when we see"
   ]
  },
  {
   "cell_type": "code",
   "execution_count": null,
   "metadata": {
    "collapsed": false
   },
   "outputs": [],
   "source": [
    "complements['A']"
   ]
  },
  {
   "cell_type": "markdown",
   "metadata": {},
   "source": [
    "Python looks in the dictionary complements and tries to find a key with the value A. If it exists, it returns the value.\n",
    "\n",
    "Beacause of the way this lookup works, dictionaries only allow one value per key. However, multiple keys can have the same value. If we reassign the value of a key, as below"
   ]
  },
  {
   "cell_type": "code",
   "execution_count": null,
   "metadata": {
    "collapsed": true
   },
   "outputs": [],
   "source": [
    "complements['A'] = 'U'"
   ]
  },
  {
   "cell_type": "code",
   "execution_count": null,
   "metadata": {
    "collapsed": false
   },
   "outputs": [],
   "source": [
    "complements"
   ]
  },
  {
   "cell_type": "markdown",
   "metadata": {},
   "source": [
    "It completely overwrites the previous value for that key.\n",
    "\n",
    "Dictionaries are very useful in Python, but their usefulness might not immediately be apparent. One common use of dictionaries is to use the keys as labels for data, and the values as the data points. For example, say we had a DNA sequence, and we wanted to store the counts of each nucleotide. We could easily create a dictionary where the keys are the nucleotides, and the values are the counts of each one, as below"
   ]
  },
  {
   "cell_type": "code",
   "execution_count": null,
   "metadata": {
    "collapsed": true
   },
   "outputs": [],
   "source": [
    "dna_sequence = 'acgttattgggacgtgtccacgt'.upper()\n",
    "\n",
    "sequence_counts = {} # Empty dictionary\n",
    "\n",
    "for nucleotide in ['A', 'C', 'G', 'T']:\n",
    "    sequence_counts[nucleotide] = dna_sequence.count(nucleotide)"
   ]
  },
  {
   "cell_type": "code",
   "execution_count": null,
   "metadata": {
    "collapsed": false
   },
   "outputs": [],
   "source": [
    "sequence_counts"
   ]
  },
  {
   "cell_type": "markdown",
   "metadata": {},
   "source": [
    "## Dictionary methods\n",
    "\n",
    "Like lists and strings, dictionaries have a variety of methods. I find that they are generally less useful than list or string methods however."
   ]
  },
  {
   "cell_type": "code",
   "execution_count": null,
   "metadata": {
    "collapsed": true
   },
   "outputs": [],
   "source": [
    "# Let's start with a dictionary representing some kitchen items and their counts\n",
    "\n",
    "kitchen_inventory = {\n",
    "    'cutting_boards': 2,\n",
    "    'knives': 1,\n",
    "    'oven': 1\n",
    "}"
   ]
  },
  {
   "cell_type": "code",
   "execution_count": null,
   "metadata": {
    "collapsed": false
   },
   "outputs": [],
   "source": [
    "# We can remove keys\n",
    "kitchen_inventory.pop('oven')\n",
    "print(kitchen_inventory)"
   ]
  },
  {
   "cell_type": "code",
   "execution_count": null,
   "metadata": {
    "collapsed": false
   },
   "outputs": [],
   "source": [
    "# We can get lists of keys and values\n",
    "print(kitchen_inventory.keys())\n",
    "print(kitchen_inventory.values())"
   ]
  },
  {
   "cell_type": "markdown",
   "metadata": {},
   "source": [
    "Last, but probably most importantly, we can use .items() to produce a list of (key, value) tuples for all items in the dictionary"
   ]
  },
  {
   "cell_type": "code",
   "execution_count": null,
   "metadata": {
    "collapsed": false
   },
   "outputs": [],
   "source": [
    "kitchen_inventory.items()"
   ]
  },
  {
   "cell_type": "markdown",
   "metadata": {
    "collapsed": true
   },
   "source": [
    "## Iterating over dictionaries with *for* loops\n",
    "\n",
    "Like lists, we can use *for* loops to visit every item in a dictionary. There's two idiomatic ways to do this, depending on whether we just want to access the keys, or want to see the values as well.\n",
    "\n",
    "To just access the keys, we can express the for loop as we would for a list:"
   ]
  },
  {
   "cell_type": "code",
   "execution_count": null,
   "metadata": {
    "collapsed": false
   },
   "outputs": [],
   "source": [
    "for key in kitchen_inventory:\n",
    "    print(key)"
   ]
  },
  {
   "cell_type": "markdown",
   "metadata": {
    "collapsed": true
   },
   "source": [
    "More often though, we're interested in both the keys and the values of a dictionary. To access these, the most idomatic approach is to use .items(), and use tuple destructing to assign each key and value to loop variables.\n",
    "    "
   ]
  },
  {
   "cell_type": "code",
   "execution_count": null,
   "metadata": {
    "collapsed": false
   },
   "outputs": [],
   "source": [
    "for key, value in sequence_counts.items():\n",
    "    print(key, \":\", value)"
   ]
  },
  {
   "cell_type": "markdown",
   "metadata": {
    "collapsed": true
   },
   "source": [
    "Here's a more useful example of what we might use iterating over a dictionary to do: say we wanted to take these nucleotide counts in the dna sequence, and convert them to percentages. Let's build a new dictionary out of these counts called nucleotide_percentages, and populate it from the original dictionary by dividing each count by the length of the original sequence"
   ]
  },
  {
   "cell_type": "code",
   "execution_count": null,
   "metadata": {
    "collapsed": true
   },
   "outputs": [],
   "source": [
    "nucleotide_percentages = {}\n",
    "\n",
    "for nuc, count in sequence_counts.items():\n",
    "    nucleotide_percentages[nuc] = 100 * (count / len(dna_sequence))"
   ]
  },
  {
   "cell_type": "code",
   "execution_count": null,
   "metadata": {
    "collapsed": false
   },
   "outputs": [],
   "source": [
    "nucleotide_percentages"
   ]
  },
  {
   "cell_type": "markdown",
   "metadata": {},
   "source": [
    "## Like lists, dictionaries are shared between variables\n",
    "\n",
    "As we saw with lists, assigning an existing dictionary to a new variable does *not* copy the dictionary, but instead makes a modifable reference to it. This is done to reduce memory usage, but don't get tripped up by it! Unless you want to modify an existing dictionary, you should always build a new one with a for loop."
   ]
  },
  {
   "cell_type": "code",
   "execution_count": null,
   "metadata": {
    "collapsed": false
   },
   "outputs": [],
   "source": [
    "dict_reference = nucleotide_percentages"
   ]
  },
  {
   "cell_type": "code",
   "execution_count": null,
   "metadata": {
    "collapsed": true
   },
   "outputs": [],
   "source": [
    "dict_reference['U'] = 'Will appear in original dict'"
   ]
  },
  {
   "cell_type": "code",
   "execution_count": null,
   "metadata": {
    "collapsed": false
   },
   "outputs": [],
   "source": [
    "nucleotide_percentages"
   ]
  },
  {
   "cell_type": "markdown",
   "metadata": {},
   "source": [
    "# Sets\n",
    "\n",
    "## Definition\n",
    "\n",
    "Sets are probably the most obscure and least used of the data structures, but in specific types of problems they are invaluable. Mathematically, a *set* is a unordered collection of unique items. The keys of a dictionary are an effective model for a set, because\n",
    "\n",
    "1. They are unordered\n",
    "2. The same key cannot occur in a dictionary twice\n",
    "\n",
    "So effectively, a set is similar to a dictionary that does not store any values.\n",
    "\n",
    "## Why use sets?\n",
    "\n",
    "There's two good reasons to use sets. The first is that it improves the clarity of your code. If you want to model situations where you care about membership in a set (for example, you have two groups of genes and you want to find the ones that overlap), sets are the clearest way to express those ideas.\n",
    "\n",
    "The second reason is performance. While it's possible to find whether a value exists in a list using\n",
    "```python\n",
    "element in list\n",
    "```\n",
    "the way that python goes about doing this is to check the first item, then the second, then the third, and so on. This means that as your list grows, the time that it takes to find the element your interested in grows at the same rate. Surprisingly, in sets, Python uses a mathematical trick called *hashing* to make the time it takes to find the presence of an element *independent* of the size of the set (i.e. it takes the same amount of time regardless of how big the set is, within reason.)\n",
    "\n",
    "## Defining a set\n",
    "\n",
    "Sets are defined by a list of elements in curly braces {, seperated by commas. Alternatively, it can be defined using the *set* function on some other collection (such as a list). We've defined a few sets below"
   ]
  },
  {
   "cell_type": "code",
   "execution_count": null,
   "metadata": {
    "collapsed": false
   },
   "outputs": [],
   "source": [
    "us_presidents = {'Nixon', 'Ford', 'Carter', 'Reagan', 'Bush', 'Clinton', 'Bush', 'Obama', 'Trump'}\n",
    "celebrity_apprentice_hosts = {'Trump', 'Schwarzenegger'}\n",
    "governors_of_california = set(['Nixon', 'Reagan', 'Brown', 'Schwarzenegger'])\n",
    "empty_set = set()"
   ]
  },
  {
   "cell_type": "markdown",
   "metadata": {},
   "source": [
    "Because {} is the command for an empty dictionary in Python, we can only initialize an empty set using the set() function.\n",
    "\n",
    "Also note that because sets do not contain duplicate items, we condense the two Bushes in the set definition above into a single element."
   ]
  },
  {
   "cell_type": "code",
   "execution_count": null,
   "metadata": {
    "collapsed": false
   },
   "outputs": [],
   "source": [
    "us_presidents"
   ]
  },
  {
   "cell_type": "markdown",
   "metadata": {},
   "source": [
    "## Set operations \n",
    "\n",
    "Sets have a variety of methods, which you can explore on your own. Probably the most useful operations on sets are the *set algebra* operations, which allow you to take the relationships between sets. Let's cover a few of these briefly. \n",
    "\n",
    "Note that, like dictionaries, sets do not have numerical slicing becuase their elements are unordered.\n",
    "\n",
    "## *For* loops, *in* and len() \n",
    "\n",
    "These built in functions operate as you would expect on sets, either iterating through the elements, testing for membership, or returning the total count of elements."
   ]
  },
  {
   "cell_type": "code",
   "execution_count": null,
   "metadata": {
    "collapsed": false
   },
   "outputs": [],
   "source": [
    "for president in us_presidents:\n",
    "    if president in governors_of_california:\n",
    "        print(\"{} was both a president and a CA Gov\".format(president))"
   ]
  },
  {
   "cell_type": "code",
   "execution_count": null,
   "metadata": {
    "collapsed": false
   },
   "outputs": [],
   "source": [
    "len(us_presidents)"
   ]
  },
  {
   "cell_type": "markdown",
   "metadata": {},
   "source": [
    "## Union ( | )\n",
    "\n",
    "First up is the *union* operator, | which combines the elements of the two sets together. "
   ]
  },
  {
   "cell_type": "code",
   "execution_count": null,
   "metadata": {
    "collapsed": false
   },
   "outputs": [],
   "source": [
    "celebrity_apprentice_hosts | governors_of_california "
   ]
  },
  {
   "cell_type": "markdown",
   "metadata": {},
   "source": [
    "The resulting set contains everyone who has been either a host of *Celebrity Apprentice*, a governor of California, or both. Note that Arnold, who has held both positions, only appears in the list once.\n",
    "\n",
    "## Intersection ( & )\n",
    "\n",
    "The *intersection* of two sets is all the elements that appear in common between them. For example:"
   ]
  },
  {
   "cell_type": "code",
   "execution_count": null,
   "metadata": {
    "collapsed": false
   },
   "outputs": [],
   "source": [
    "celebrity_apprentice_hosts & governors_of_california"
   ]
  },
  {
   "cell_type": "code",
   "execution_count": null,
   "metadata": {
    "collapsed": false
   },
   "outputs": [],
   "source": [
    "us_presidents & celebrity_apprentice_hosts"
   ]
  },
  {
   "cell_type": "code",
   "execution_count": null,
   "metadata": {
    "collapsed": false
   },
   "outputs": [],
   "source": [
    "us_presidents & governors_of_california"
   ]
  },
  {
   "cell_type": "code",
   "execution_count": null,
   "metadata": {
    "collapsed": false
   },
   "outputs": [],
   "source": [
    "us_presidents & governors_of_california & celebrity_apprentice_hosts"
   ]
  },
  {
   "cell_type": "markdown",
   "metadata": {},
   "source": [
    "In this last case, because no people have held the Governorship of California, the host of *Celebrity Apprentice* **and** the presidency (thank God!) the operation retuns the empty set.\n",
    "\n",
    "## Difference (-)\n",
    "\n",
    "The difference operator removes all elements from the right set from the left set. You can think of it like \"subtracting\" sets from each other. Let's see an example"
   ]
  },
  {
   "cell_type": "code",
   "execution_count": null,
   "metadata": {
    "collapsed": false
   },
   "outputs": [],
   "source": [
    "us_presidents - celebrity_apprentice_hosts"
   ]
  },
  {
   "cell_type": "code",
   "execution_count": null,
   "metadata": {
    "collapsed": false
   },
   "outputs": [],
   "source": [
    "mildly_acceptable_presidents = us_presidents - (celebrity_apprentice_hosts | governors_of_california)\n",
    "mildly_acceptable_presidents"
   ]
  },
  {
   "cell_type": "markdown",
   "metadata": {},
   "source": [
    "## Symmetric difference ( ^ )\n",
    "\n",
    "The symmetric difference is the opposite of the intersection (i.e. all the elements that occur in strictly one list, but not both)"
   ]
  },
  {
   "cell_type": "code",
   "execution_count": null,
   "metadata": {
    "collapsed": false
   },
   "outputs": [],
   "source": [
    "celebrity_apprentice_hosts ^ governors_of_california"
   ]
  },
  {
   "cell_type": "markdown",
   "metadata": {},
   "source": [
    "## If you're interested: Asymptotic complexity\n",
    "\n",
    "The distinction in performance between lists and sets is known in computer science as *asymptotic complexity*, which is sometimes informally known as \"Big-O,\" notated as $\\mathcal{O}$. Basically, computer scientists describe the complexity of an algorithm as the way that the runtime grows as the size of the input grows. Typically the easiest sort of complexity to calculate is the *worst case* complexity, which tells you how the problem scales if you get as unlucky as possible.\n",
    "\n",
    "For example, the algorithm for finding whether a piece of data is contained in a list requires scanning through the list and looking at every element until it is found. In the worst case, the piece of data we are intersted in won't occur until the end of the list. Thus, the time it takes the program to run will scale *linearly* with the size of the list (i.e. if the length of the list doubles, it will take twice as long.) We say that the find algorithm on a list runs in linear, or $\\mathcal{O}(n)$ time, where $\\mathcal{O}$ is the symbol for the complexity function.\n",
    "\n",
    "For a set, the time would remain the same no matter how big the list is, because all of the data points are stored in a hash table. Thus, because the time is independent of the size of the set, we say that lookup in a set runs in constant time, which we notate as $\\mathcal{O}(1)$.\n",
    "\n",
    "These might seem like pointless distinctions, but they can quickly become important. In some cases, there are important problems for which the best algorithms known run in *exponential time* or $\\mathcal{O}(2^{n})$. This means that even problems on very small datasets can quickly become intractable. As a good example, many passwords can be effectively cracked in a matter of hours if they are less than 8 characters, but a 15 character password would take many millenia to crack by the same algorithm. We owe the existence of effective internet security to the difficulty of solving problems that work in exponential time."
   ]
  },
  {
   "cell_type": "markdown",
   "metadata": {},
   "source": [
    "# Excercises \n",
    "## Word counter\n",
    "\n",
    "Write a function that takes a sentence as a string, and returns a dictionary with the count of every word in the string. For this excercise, don't worry about making the capitalization consistent, or removing punctuation.\n",
    "\n",
    "HINT 1: Remember that there is a function to convert a string to a list of words\n",
    "\n",
    "HINT 2: When you encounter a word in the sentence, how do you check if the word is already contained in the dictionary? If it is in the dictionary, how would you update the entry to reflect the word being found again? If it's not in the dictionary, how might you add it? What should it's original count be?\n",
    "\n",
    "HINT 3: Python has a nice way of adding one to an existing variable. The verbose way of doing this would be:\n",
    "\n",
    "```python\n",
    "a = 10\n",
    "a = a + 1 # a is now 11\n",
    "```\n",
    "\n",
    "But a shorter and cleaner way to express this is:\n",
    "\n",
    "```python\n",
    "a = 10\n",
    "a += 1 # A is now 11\n",
    "```\n",
    "\n",
    "The program you will write here is such a common pattern that Python provides some solutions in the Standard library. If you're curious, take a look at the collections module, particularly the Counter and defaultdict types. You can do this by typing \n",
    "\n",
    "```python\n",
    "import collections\n",
    "?collections.Counter()\n",
    "```\n",
    "into a cell below"
   ]
  },
  {
   "cell_type": "code",
   "execution_count": null,
   "metadata": {
    "collapsed": true
   },
   "outputs": [],
   "source": [
    "def word_counter(sentence):\n",
    "    return {}"
   ]
  },
  {
   "cell_type": "code",
   "execution_count": null,
   "metadata": {
    "collapsed": false
   },
   "outputs": [],
   "source": [
    "class WordCounterTest(unittest.TestCase):\n",
    "    def test_counter(self):\n",
    "        counts = {'It':1, 'it':1, 'was':2, 'the':2, \n",
    "                  'of':2, 'times,':1, 'times.':1, 'best':1,\n",
    "                  'worst':1}\n",
    "        self.assertEqual(word_counter('It was the best of times, it was the worst of times.'), counts)\n",
    "    def test_emtpy(self):\n",
    "        self.assertEqual(word_counter(''), {})\n",
    "\n",
    "suite = unittest.TestLoader().loadTestsFromTestCase(WordCounterTest)\n",
    "unittest.TextTestRunner().run(suite)"
   ]
  },
  {
   "cell_type": "markdown",
   "metadata": {},
   "source": [
    "## Sum the values together from two different dictionaries\n",
    "\n",
    "Write a function that takes two different dictionaries, and returns a new dictionary with the same keys as the two dictionaries together, where the values are the sum of the values from each individual dictionary. If a key only appears in one dictionary, use its value alone. For example: if you had the following two dictionaries:\n",
    "\n",
    "```python\n",
    "a = {'A':5, 'C':6, 'G':7, 'T':10}\n",
    "b = {'A':1, 'C':12, 'G':7, 'U':3}\n",
    "```\n",
    "\n",
    "Then the output of your function should be:\n",
    "\n",
    "```python\n",
    "{'A':6, 'C':18, 'G':14, 'T':10, 'U':3}\n",
    "```\n",
    "\n",
    "NOTE/Warning: In the provided skeleton, we create a new empty dictionary. You should copy the of the values you use individually into this new dictionary, rather than setting it equal to one of the arguments. Looking back at the way that Python treats lists, can you predict what would happen if you were just to set combined_counts = counts_1? Test your prediction below. "
   ]
  },
  {
   "cell_type": "code",
   "execution_count": null,
   "metadata": {
    "collapsed": true
   },
   "outputs": [],
   "source": [
    "def merge_and_sum_dictionaries(counts_1, counts_2):\n",
    "    return {}"
   ]
  },
  {
   "cell_type": "code",
   "execution_count": null,
   "metadata": {
    "collapsed": false
   },
   "outputs": [],
   "source": [
    "a = {'A':5, 'C':6, 'G':7, 'T':10}\n",
    "b = {'A':1, 'C':12, 'G':7, 'U':3}\n",
    "\n",
    "class MergeTest(unittest.TestCase):\n",
    "    def test_merge(self):\n",
    "        merged = {'A': 6, 'C': 18, 'G': 14, 'T': 10, 'U': 3}\n",
    "        self.assertEqual(merge_and_sum_dictionaries(a, b), merged)\n",
    "    def test_unchanged(self):\n",
    "        self.assertEqual(a, {'A':5, 'C':6, 'G':7, 'T':10}, \n",
    "                         'Make sure your program does not modify the existing dictionaries!')\n",
    "\n",
    "suite = unittest.TestLoader().loadTestsFromTestCase(WordCounterTest)\n",
    "unittest.TextTestRunner().run(suite)"
   ]
  },
  {
   "cell_type": "markdown",
   "metadata": {
    "collapsed": true
   },
   "source": [
    "# Implement symmetric difference for sets\n",
    "\n",
    "The complement of set operations in Python are handy, but many of them can be implemented using the other operations. Here, create a function that takes two sets and outputs the symmetric difference between them, **without** using the symmetric difference operator. Don't cheat! By and large this would be bad practice to re-implement this function in Python, but this is to get some practice handling sets."
   ]
  },
  {
   "cell_type": "code",
   "execution_count": null,
   "metadata": {
    "collapsed": false
   },
   "outputs": [],
   "source": [
    "def symmetric_difference(set_1, set_2):\n",
    "    return set() "
   ]
  },
  {
   "cell_type": "code",
   "execution_count": null,
   "metadata": {
    "collapsed": false
   },
   "outputs": [],
   "source": [
    "class SymmetricDifferenceTest(unittest.TestCase):\n",
    "    def test_cheated(self):\n",
    "        instructions = list(dis.get_instructions(symmetric_difference))\n",
    "        self.assertFalse('BINARY_XOR' in {i.opname for i in instructions}, 'Cheaters never prosper!')\n",
    "    def test_works(self):\n",
    "        set_1 = {1, 5, 6, 10, 100, 20}\n",
    "        set_2 = {20, 100, 1, 7, 8}\n",
    "        self.assertEqual(set_1 ^ set_2, symmetric_difference(set_1, set_2))\n",
    "        \n",
    "suite = unittest.TestLoader().loadTestsFromTestCase(SymmetricDifferenceTest)\n",
    "unittest.TextTestRunner().run(suite)"
   ]
  },
  {
   "cell_type": "code",
   "execution_count": null,
   "metadata": {
    "collapsed": true
   },
   "outputs": [],
   "source": []
  }
 ],
 "metadata": {
  "anaconda-cloud": {},
  "kernelspec": {
   "display_name": "Python [conda root]",
   "language": "python",
   "name": "conda-root-py"
  },
  "language_info": {
   "codemirror_mode": {
    "name": "ipython",
    "version": 3
   },
   "file_extension": ".py",
   "mimetype": "text/x-python",
   "name": "python",
   "nbconvert_exporter": "python",
   "pygments_lexer": "ipython3",
   "version": "3.5.2"
  }
 },
 "nbformat": 4,
 "nbformat_minor": 1
}

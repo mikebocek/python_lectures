{
 "cells": [
  {
   "cell_type": "code",
   "execution_count": 1,
   "metadata": {
    "collapsed": true
   },
   "outputs": [],
   "source": [
    "from __future__ import division, print_function, unicode_literals"
   ]
  },
  {
   "cell_type": "markdown",
   "metadata": {},
   "source": [
    "# Modules \n",
    "\n",
    "## Python, the Standard Library and Beyond\n",
    "\n",
    "Python is a relatively small and tight language. Though it offers many useful building blocks as we've seen (strings, lists, dictionaries, etc), these are just that: building blocks.  \n",
    "\n",
    "In addition to these fundemental, basic types, Python has a huge galaxy of additional modules and plugins that you can make use of in your code. These extend the language and make it possible to do almost anything that's possible with a computer. With Python, you you can create bots that look for cheap cars on Craiglist (I've done this.) You can run web servers. You can even use artificial intelligence and neural networks to recognize features in images, or even transfer the artistic style of a Picasso painting onto a picture (https://github.com/lengstrom/fast-style-transfer, if you don't believe me!) \n",
    "\n",
    "In this set of notes, we'll quickly blaze through how to import packages, how to install new packages, and a few of the standard packages that ship with every installation of Python (known as the Python standard library.) You can find a full list of packages in the standard library, and extensive documentation for them at https://docs.python.org/3.5/py-modindex.html. Needless to say, there's too much stuff even in just the Standard Library to describe every package, so we'll focus on a handful that you might find useful.\n",
    "\n",
    "In the later lectures, we'll turn our full attention to a particular set of these packages, using what's known as the scipy stack (numpy, matplotlib, pandas, seaborn and scipy) to analyze and vizualize data.\n",
    "\n",
    "Let's start by importing the *math* package, which provides some helper functions that calculate square roots, cosines, and other things that Python cannot do with the built in functions. To do this, we just type"
   ]
  },
  {
   "cell_type": "code",
   "execution_count": 1,
   "metadata": {
    "collapsed": true
   },
   "outputs": [],
   "source": [
    "import math"
   ]
  },
  {
   "cell_type": "markdown",
   "metadata": {},
   "source": [
    "When you load a module into Python, all of the associated elements of that module are \"confined\" to the module. What I mean by this is that the math module supplies a cosine function called *cos*, and a constant called *pi*, but you cannot these items just by typing \n",
    "\n",
    "```python\n",
    "cos(PI/2)\n",
    "```\n",
    "\n",
    "into the interpreter. Instead, we call functions from the math module the same way that we call methods, with a dot (.)"
   ]
  },
  {
   "cell_type": "code",
   "execution_count": 5,
   "metadata": {
    "collapsed": false
   },
   "outputs": [
    {
     "data": {
      "text/plain": [
       "6.123233995736766e-17"
      ]
     },
     "execution_count": 5,
     "metadata": {},
     "output_type": "execute_result"
    }
   ],
   "source": [
    "math.cos(math.pi/2)"
   ]
  },
  {
   "cell_type": "markdown",
   "metadata": {},
   "source": [
    "Python programmers would say that these functions and modules are stored in the math module's *namespace*. Python programmers use *namespaces* because they keep the number of names in your program to a miniumum, which minimizes the chances of accidentally overwritting something important if you mis-name a variable. \n",
    "\n",
    "Namespaces also help to group related functions together: if you're looking for a particular mathematical function, you can easily type math, followed by a dot and a tab at the interpreter, and it will tell you a full list of the available functions within the math module. Try it below!"
   ]
  },
  {
   "cell_type": "code",
   "execution_count": null,
   "metadata": {
    "collapsed": true
   },
   "outputs": [],
   "source": [
    "math."
   ]
  },
  {
   "cell_type": "markdown",
   "metadata": {},
   "source": [
    "## Saving non-text data to a file\n",
    "\n",
    "We saw in the \"Files\" chapter how we can save text to a file. This is obviously useful if the data you are dealing with is a string. It's a little less useful, however, if your data is a list of dictionaries, or has some other sort of complex structure.\n",
    "\n",
    "If you're working with a complex object in Python and you want to save it to a file, there are two major file types (each with their own Python module) that may be useful to you. Let's see them both in action\n",
    "\n",
    "### JSON \n",
    "\n",
    "JSON stands for JavaScript Object Notation. It's a file type that is stored in plain text, but that's designed to represent nested structures of lists and dictionaries, containing text and numeric data. Basically every type of data that we've talked about so far can be stored in a JSON file, with the exception of File objects.\n",
    "\n",
    "JSON has two major advantages:\n",
    "1. It is human readable. You can open a JSON file and clearly see the structure of the data\n",
    "2. It is supported by a variety of other programming languages, and is the major way of sending raw data around on the internet\n",
    "\n",
    "There are two major drawbacks to using JSON:\n",
    "1. Since the files are stored as text, they can be quite large\n",
    "2. The format can only store lists, dictionaries, strings, numbers and booleans. It cannot functions or any of the custom objects we will encounter later\n",
    "\n",
    "Let's create a complicated dictionary structure, and store it in a JSON file. First, let's import the package Python provides for dealing with JSON files, called *json*"
   ]
  },
  {
   "cell_type": "code",
   "execution_count": 8,
   "metadata": {
    "collapsed": true
   },
   "outputs": [],
   "source": [
    "import json"
   ]
  },
  {
   "cell_type": "code",
   "execution_count": 9,
   "metadata": {
    "collapsed": true
   },
   "outputs": [],
   "source": [
    "complicated_structure = { \n",
    "    'letters to numbers': {'2': 2, '3': 3},\n",
    "    'random_list_of_data': [1,5,2,6,'a',7,{'a': 2}]\n",
    "}"
   ]
  },
  {
   "cell_type": "markdown",
   "metadata": {},
   "source": [
    "Now let's use the JSON library to save this to a file. We'll open a file for writing like normal, and use the .dump() function in the json module to write this data to the file we've opened. \n",
    "\n",
    "The .dump() function takes two inputs: the first is the Python object that we want to save, and the second is the file object that we want to save it to:"
   ]
  },
  {
   "cell_type": "code",
   "execution_count": 11,
   "metadata": {
    "collapsed": true
   },
   "outputs": [],
   "source": [
    "with open('assets/complicated_structure.json', 'w') as json_output:\n",
    "    json.dump(complicated_structure, json_output)"
   ]
  },
  {
   "cell_type": "markdown",
   "metadata": {},
   "source": [
    "We can now read this data in again, using the json.load() function, which reads a file object's data into a Python data structure. We'll also read the string data from the file as the variable raw_data"
   ]
  },
  {
   "cell_type": "code",
   "execution_count": 21,
   "metadata": {
    "collapsed": false
   },
   "outputs": [],
   "source": [
    "with open('assets/complicated_structure.json') as json_input:\n",
    "    reloaded_structure = json.load(json_input)\n",
    "    json_input.seek(0) # \"Rewinds the file\", necessary since we're reading the file twice\n",
    "    raw_data = json_input.read()"
   ]
  },
  {
   "cell_type": "markdown",
   "metadata": {},
   "source": [
    "Looking at the raw data, you can see that it strongly resembles the way that python data structures are laid out"
   ]
  },
  {
   "cell_type": "code",
   "execution_count": 20,
   "metadata": {
    "collapsed": false
   },
   "outputs": [
    {
     "data": {
      "text/plain": [
       "'{\"random_list_of_data\": [1, 5, 2, 6, \"a\", 7, {\"a\": 2}], \"letters to numbers\": {\"3\": 3, \"2\": 2}}'"
      ]
     },
     "execution_count": 20,
     "metadata": {},
     "output_type": "execute_result"
    }
   ],
   "source": [
    "raw_data"
   ]
  },
  {
   "cell_type": "markdown",
   "metadata": {},
   "source": [
    "And you can see that the JSON library identically recaptures our original dictionary structure"
   ]
  },
  {
   "cell_type": "code",
   "execution_count": 22,
   "metadata": {
    "collapsed": false
   },
   "outputs": [
    {
     "data": {
      "text/plain": [
       "{'letters to numbers': {'2': 2, '3': 3},\n",
       " 'random_list_of_data': [1, 5, 2, 6, 'a', 7, {'a': 2}]}"
      ]
     },
     "execution_count": 22,
     "metadata": {},
     "output_type": "execute_result"
    }
   ],
   "source": [
    "reloaded_structure"
   ]
  },
  {
   "cell_type": "markdown",
   "metadata": {},
   "source": [
    "To illustrate some of the limitations of JSON, let's try to store a function. Instead of using the .dump() function which would require us to open a file, we'll instead use it's close variant .dumps(), which outputs a string"
   ]
  },
  {
   "cell_type": "code",
   "execution_count": 24,
   "metadata": {
    "collapsed": true
   },
   "outputs": [],
   "source": [
    "def function_to_store(number_1, number_2):\n",
    "    return (number_1 - number_2)/(number_1 + number_2)"
   ]
  },
  {
   "cell_type": "code",
   "execution_count": 25,
   "metadata": {
    "collapsed": false
   },
   "outputs": [
    {
     "ename": "TypeError",
     "evalue": "<function function_to_store at 0x1047b0b70> is not JSON serializable",
     "output_type": "error",
     "traceback": [
      "\u001b[0;31m---------------------------------------------------------------------------\u001b[0m",
      "\u001b[0;31mTypeError\u001b[0m                                 Traceback (most recent call last)",
      "\u001b[0;32m<ipython-input-25-e96c37be40c4>\u001b[0m in \u001b[0;36m<module>\u001b[0;34m()\u001b[0m\n\u001b[0;32m----> 1\u001b[0;31m \u001b[0mjson\u001b[0m\u001b[0;34m.\u001b[0m\u001b[0mdumps\u001b[0m\u001b[0;34m(\u001b[0m\u001b[0mfunction_to_store\u001b[0m\u001b[0;34m)\u001b[0m\u001b[0;34m\u001b[0m\u001b[0m\n\u001b[0m",
      "\u001b[0;32m/Users/michaelbocek/anaconda3/lib/python3.5/json/__init__.py\u001b[0m in \u001b[0;36mdumps\u001b[0;34m(obj, skipkeys, ensure_ascii, check_circular, allow_nan, cls, indent, separators, default, sort_keys, **kw)\u001b[0m\n\u001b[1;32m    228\u001b[0m         \u001b[0mcls\u001b[0m \u001b[0;32mis\u001b[0m \u001b[0;32mNone\u001b[0m \u001b[0;32mand\u001b[0m \u001b[0mindent\u001b[0m \u001b[0;32mis\u001b[0m \u001b[0;32mNone\u001b[0m \u001b[0;32mand\u001b[0m \u001b[0mseparators\u001b[0m \u001b[0;32mis\u001b[0m \u001b[0;32mNone\u001b[0m \u001b[0;32mand\u001b[0m\u001b[0;34m\u001b[0m\u001b[0m\n\u001b[1;32m    229\u001b[0m         default is None and not sort_keys and not kw):\n\u001b[0;32m--> 230\u001b[0;31m         \u001b[0;32mreturn\u001b[0m \u001b[0m_default_encoder\u001b[0m\u001b[0;34m.\u001b[0m\u001b[0mencode\u001b[0m\u001b[0;34m(\u001b[0m\u001b[0mobj\u001b[0m\u001b[0;34m)\u001b[0m\u001b[0;34m\u001b[0m\u001b[0m\n\u001b[0m\u001b[1;32m    231\u001b[0m     \u001b[0;32mif\u001b[0m \u001b[0mcls\u001b[0m \u001b[0;32mis\u001b[0m \u001b[0;32mNone\u001b[0m\u001b[0;34m:\u001b[0m\u001b[0;34m\u001b[0m\u001b[0m\n\u001b[1;32m    232\u001b[0m         \u001b[0mcls\u001b[0m \u001b[0;34m=\u001b[0m \u001b[0mJSONEncoder\u001b[0m\u001b[0;34m\u001b[0m\u001b[0m\n",
      "\u001b[0;32m/Users/michaelbocek/anaconda3/lib/python3.5/json/encoder.py\u001b[0m in \u001b[0;36mencode\u001b[0;34m(self, o)\u001b[0m\n\u001b[1;32m    196\u001b[0m         \u001b[0;31m# exceptions aren't as detailed.  The list call should be roughly\u001b[0m\u001b[0;34m\u001b[0m\u001b[0;34m\u001b[0m\u001b[0m\n\u001b[1;32m    197\u001b[0m         \u001b[0;31m# equivalent to the PySequence_Fast that ''.join() would do.\u001b[0m\u001b[0;34m\u001b[0m\u001b[0;34m\u001b[0m\u001b[0m\n\u001b[0;32m--> 198\u001b[0;31m         \u001b[0mchunks\u001b[0m \u001b[0;34m=\u001b[0m \u001b[0mself\u001b[0m\u001b[0;34m.\u001b[0m\u001b[0miterencode\u001b[0m\u001b[0;34m(\u001b[0m\u001b[0mo\u001b[0m\u001b[0;34m,\u001b[0m \u001b[0m_one_shot\u001b[0m\u001b[0;34m=\u001b[0m\u001b[0;32mTrue\u001b[0m\u001b[0;34m)\u001b[0m\u001b[0;34m\u001b[0m\u001b[0m\n\u001b[0m\u001b[1;32m    199\u001b[0m         \u001b[0;32mif\u001b[0m \u001b[0;32mnot\u001b[0m \u001b[0misinstance\u001b[0m\u001b[0;34m(\u001b[0m\u001b[0mchunks\u001b[0m\u001b[0;34m,\u001b[0m \u001b[0;34m(\u001b[0m\u001b[0mlist\u001b[0m\u001b[0;34m,\u001b[0m \u001b[0mtuple\u001b[0m\u001b[0;34m)\u001b[0m\u001b[0;34m)\u001b[0m\u001b[0;34m:\u001b[0m\u001b[0;34m\u001b[0m\u001b[0m\n\u001b[1;32m    200\u001b[0m             \u001b[0mchunks\u001b[0m \u001b[0;34m=\u001b[0m \u001b[0mlist\u001b[0m\u001b[0;34m(\u001b[0m\u001b[0mchunks\u001b[0m\u001b[0;34m)\u001b[0m\u001b[0;34m\u001b[0m\u001b[0m\n",
      "\u001b[0;32m/Users/michaelbocek/anaconda3/lib/python3.5/json/encoder.py\u001b[0m in \u001b[0;36miterencode\u001b[0;34m(self, o, _one_shot)\u001b[0m\n\u001b[1;32m    254\u001b[0m                 \u001b[0mself\u001b[0m\u001b[0;34m.\u001b[0m\u001b[0mkey_separator\u001b[0m\u001b[0;34m,\u001b[0m \u001b[0mself\u001b[0m\u001b[0;34m.\u001b[0m\u001b[0mitem_separator\u001b[0m\u001b[0;34m,\u001b[0m \u001b[0mself\u001b[0m\u001b[0;34m.\u001b[0m\u001b[0msort_keys\u001b[0m\u001b[0;34m,\u001b[0m\u001b[0;34m\u001b[0m\u001b[0m\n\u001b[1;32m    255\u001b[0m                 self.skipkeys, _one_shot)\n\u001b[0;32m--> 256\u001b[0;31m         \u001b[0;32mreturn\u001b[0m \u001b[0m_iterencode\u001b[0m\u001b[0;34m(\u001b[0m\u001b[0mo\u001b[0m\u001b[0;34m,\u001b[0m \u001b[0;36m0\u001b[0m\u001b[0;34m)\u001b[0m\u001b[0;34m\u001b[0m\u001b[0m\n\u001b[0m\u001b[1;32m    257\u001b[0m \u001b[0;34m\u001b[0m\u001b[0m\n\u001b[1;32m    258\u001b[0m def _make_iterencode(markers, _default, _encoder, _indent, _floatstr,\n",
      "\u001b[0;32m/Users/michaelbocek/anaconda3/lib/python3.5/json/encoder.py\u001b[0m in \u001b[0;36mdefault\u001b[0;34m(self, o)\u001b[0m\n\u001b[1;32m    177\u001b[0m \u001b[0;34m\u001b[0m\u001b[0m\n\u001b[1;32m    178\u001b[0m         \"\"\"\n\u001b[0;32m--> 179\u001b[0;31m         \u001b[0;32mraise\u001b[0m \u001b[0mTypeError\u001b[0m\u001b[0;34m(\u001b[0m\u001b[0mrepr\u001b[0m\u001b[0;34m(\u001b[0m\u001b[0mo\u001b[0m\u001b[0;34m)\u001b[0m \u001b[0;34m+\u001b[0m \u001b[0;34m\" is not JSON serializable\"\u001b[0m\u001b[0;34m)\u001b[0m\u001b[0;34m\u001b[0m\u001b[0m\n\u001b[0m\u001b[1;32m    180\u001b[0m \u001b[0;34m\u001b[0m\u001b[0m\n\u001b[1;32m    181\u001b[0m     \u001b[0;32mdef\u001b[0m \u001b[0mencode\u001b[0m\u001b[0;34m(\u001b[0m\u001b[0mself\u001b[0m\u001b[0;34m,\u001b[0m \u001b[0mo\u001b[0m\u001b[0;34m)\u001b[0m\u001b[0;34m:\u001b[0m\u001b[0;34m\u001b[0m\u001b[0m\n",
      "\u001b[0;31mTypeError\u001b[0m: <function function_to_store at 0x1047b0b70> is not JSON serializable"
     ]
    }
   ],
   "source": [
    "json.dumps(function_to_store)"
   ]
  },
  {
   "cell_type": "markdown",
   "metadata": {},
   "source": [
    "As you can see, Python refuses to store a function as JSON, because the file format is extremely strictly defined."
   ]
  },
  {
   "cell_type": "markdown",
   "metadata": {},
   "source": [
    "### Pickle\n",
    "\n",
    "Pickle is a Python library that behaves very similarly to JSON. It produces \".pickle\" files, which are only used by Python, but can represent any Python type. These files are not necessarily backwards compatible, so they are best used for short-term storage.\n",
    "\n",
    "Unlike JSON, .pickle files are stored as \"binary data,\" which is a highly compressed, non-human-readible type of file. This means that when we open the file to write the data, we have to open it in \"binary mode.\" This is done by using 'wb' instead of 'w' in the mode argument of open(), as you can see below. When we read the file back in, we'll use 'rb' as the mode instead of 'r'\n",
    "\n",
    "Let's try out pickle by using it to store the function above, and then re-loading the function:"
   ]
  },
  {
   "cell_type": "code",
   "execution_count": 29,
   "metadata": {
    "collapsed": false
   },
   "outputs": [],
   "source": [
    "import pickle \n",
    "\n",
    "with open('assets/function.pickle', 'wb') as pickle_output:\n",
    "    pickle.dump(function_to_store, pickle_output)"
   ]
  },
  {
   "cell_type": "code",
   "execution_count": 30,
   "metadata": {
    "collapsed": true
   },
   "outputs": [],
   "source": [
    "with open('assets/function.pickle', 'rb') as pickle_input:\n",
    "    reloaded_function = pickle.load(pickle_input)"
   ]
  },
  {
   "cell_type": "code",
   "execution_count": 31,
   "metadata": {
    "collapsed": false
   },
   "outputs": [
    {
     "data": {
      "text/plain": [
       "-0.14285714285714285"
      ]
     },
     "execution_count": 31,
     "metadata": {},
     "output_type": "execute_result"
    }
   ],
   "source": [
    "reloaded_function(3,4)"
   ]
  },
  {
   "cell_type": "markdown",
   "metadata": {},
   "source": [
    "# Acessing the web with requests\n",
    "\n",
    "This next section is just for fun! We may do more with web programming later, but it is a field in itself and too complicated to go through even in sketchy detail.\n",
    "\n",
    "As one last short demonstration of the power of Python modules, let's try using Python to get information off the internet. Usually, people use the internet as a service to retrieve documents, which we call websits. Websites are stored in a file format called HTML, which is technically readable by humans (not binary data), but in practice is a pretty complicated format. The process of obtaining data from websites is called *web scraping*, and it's as much an art as a science, so we won't get into the gory details here.\n",
    "\n",
    "Thankfully, there's a faster way to transmit data on the internet than having to scrape information from a website. Lots of websites provide what are known as APIs, which are services that are meant to provide data to computer programs. Let's try accessing an API at the http address http://tambal.azurewebsites.net/joke/random, which provides a random joke in JSON format when you access it.\n",
    "\n",
    "To do this, we'll use a library called *requests*. This isn't part of the standard library, but it ships with almost every distribution of Python. Let's import it "
   ]
  },
  {
   "cell_type": "code",
   "execution_count": 3,
   "metadata": {
    "collapsed": true
   },
   "outputs": [],
   "source": [
    "import requests"
   ]
  },
  {
   "cell_type": "markdown",
   "metadata": {},
   "source": [
    "And use it to get a random joke from this website! Don't worry about understanding the next few lines"
   ]
  },
  {
   "cell_type": "code",
   "execution_count": 4,
   "metadata": {
    "collapsed": false
   },
   "outputs": [
    {
     "data": {
      "text/plain": [
       "'{\"joke\":\"My friend\\'s bakery burned down last night. Now his business is toast.\"}'"
      ]
     },
     "execution_count": 4,
     "metadata": {},
     "output_type": "execute_result"
    }
   ],
   "source": [
    "response = requests.get('http://tambal.azurewebsites.net/joke/random')\n",
    "response.raise_for_status()\n",
    "response.text"
   ]
  },
  {
   "cell_type": "markdown",
   "metadata": {},
   "source": [
    "The variable response.text contains a short snippet of JSON, containing a dictionary with a \"joke\" key and a value that's an admittedly pretty bad joke (Even though the joke is randomly selected, I promise you that none of them are good). Let's parse it into a Python object using the json.loads() function. This function is identical to json.load(), but takes a string as an argument rather than a file object."
   ]
  },
  {
   "cell_type": "code",
   "execution_count": 41,
   "metadata": {
    "collapsed": false
   },
   "outputs": [
    {
     "data": {
      "text/plain": [
       "{'joke': 'What do you call a fake noodle?  An impasta'}"
      ]
     },
     "execution_count": 41,
     "metadata": {},
     "output_type": "execute_result"
    }
   ],
   "source": [
    "joke = json.loads(response.text)\n",
    "joke"
   ]
  },
  {
   "cell_type": "markdown",
   "metadata": {},
   "source": [
    "Pretty cool! We just retrived some data from the internet, and got it stored in memory as a Python object! "
   ]
  },
  {
   "cell_type": "code",
   "execution_count": null,
   "metadata": {
    "collapsed": true
   },
   "outputs": [],
   "source": []
  }
 ],
 "metadata": {
  "kernelspec": {
   "display_name": "Python [default]",
   "language": "python",
   "name": "python3"
  },
  "language_info": {
   "codemirror_mode": {
    "name": "ipython",
    "version": 3
   },
   "file_extension": ".py",
   "mimetype": "text/x-python",
   "name": "python",
   "nbconvert_exporter": "python",
   "pygments_lexer": "ipython3",
   "version": "3.5.2"
  }
 },
 "nbformat": 4,
 "nbformat_minor": 1
}

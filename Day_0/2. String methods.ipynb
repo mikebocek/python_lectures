{
 "cells": [
  {
   "cell_type": "code",
   "execution_count": 76,
   "metadata": {
    "collapsed": true
   },
   "outputs": [],
   "source": [
    "from __future__ import division, print_function, unicode_literals"
   ]
  },
  {
   "cell_type": "markdown",
   "metadata": {},
   "source": [
    "# Welcome back! \n",
    "\n",
    "### What is a method?\n",
    "\n",
    "In this lesson, we're going to discuss *methods* on strings. Methods are like functions, but instead of being standalone in the program, they are \"bound\" to a particular piece of data. Ordinarily, you call a function on a variable as a standalone function, like we saw for the len() function last chapter"
   ]
  },
  {
   "cell_type": "code",
   "execution_count": 1,
   "metadata": {
    "collapsed": false
   },
   "outputs": [
    {
     "data": {
      "text/plain": [
       "11"
      ]
     },
     "execution_count": 1,
     "metadata": {},
     "output_type": "execute_result"
    }
   ],
   "source": [
    "len(\"Hello world\")"
   ]
  },
  {
   "cell_type": "markdown",
   "metadata": {},
   "source": [
    "When we defined our own functions, we called them in much the same way."
   ]
  },
  {
   "cell_type": "code",
   "execution_count": 2,
   "metadata": {
    "collapsed": false
   },
   "outputs": [
    {
     "data": {
      "text/plain": [
       "'Hello Josh'"
      ]
     },
     "execution_count": 2,
     "metadata": {},
     "output_type": "execute_result"
    }
   ],
   "source": [
    "def greet_with_name(name):\n",
    "    return \"Hello \"+name\n",
    "\n",
    "greet_with_name(\"Josh\")"
   ]
  },
  {
   "cell_type": "markdown",
   "metadata": {},
   "source": [
    "When we use methods, we call them on a string using the dot . operator.\n",
    "\n",
    "All of the methods that we will see have been designed into python, and are part of the core language. You can also make your own methods, but not on types that already exist (like strings.) This is an advanced topic that we'll get to eventually!\n",
    "\n",
    "Lets see some examples of string methods in Python. First we're gonna define a string:"
   ]
  },
  {
   "cell_type": "code",
   "execution_count": 3,
   "metadata": {
    "collapsed": true
   },
   "outputs": [],
   "source": [
    "s_1 = \"Never gonna give you up, never gonna let you down\""
   ]
  },
  {
   "cell_type": "markdown",
   "metadata": {},
   "source": [
    "The method \"upper\" is defined on strings to take the string, and return a version that is all uppercase. Since it is \"bound\" to the string as a method, we don't need to tell the function what string to operate on. Instead, we type the name of the string, then a dot, then the upper() function"
   ]
  },
  {
   "cell_type": "code",
   "execution_count": 5,
   "metadata": {
    "collapsed": false
   },
   "outputs": [
    {
     "data": {
      "text/plain": [
       "'NEVER GONNA GIVE YOU UP, NEVER GONNA LET YOU DOWN'"
      ]
     },
     "execution_count": 5,
     "metadata": {},
     "output_type": "execute_result"
    }
   ],
   "source": [
    "s_1.upper()"
   ]
  },
  {
   "cell_type": "markdown",
   "metadata": {},
   "source": [
    "Note that the upper function does not exist in python on its own.\n",
    "\n",
    "### Why is this (if you're interested, feel free to skip)\n",
    "*Python is used for a lot of different applications. Because of this, the designers of the language try to keep as few things in the core language as possible. If the \"upper\" function were seperate from the string, this would block users from creating their own variables called *upper* without conflicting with the built in function. Even worse, it might not be clear what sort of data type *upper* works on, forcing users to go to a long documentation any time they wanted to understand the role of a particular function. By organizing every function that works on strings as a string method, Python ensures that all of the built in functions that operate on strings are contained within one place.*\n",
    "\n",
    "*There are certain functions like len() that are not defined as methods in python. That's because (as we'll soon see) there are many types in python that have meaningful lengths, so this function ends up being useful in a number of contexts.*\n",
    "\n",
    "As you might guess, the .lower() method does something similar"
   ]
  },
  {
   "cell_type": "code",
   "execution_count": 6,
   "metadata": {
    "collapsed": false
   },
   "outputs": [
    {
     "data": {
      "text/plain": [
       "'never gonna give you up, never gonna let you down'"
      ]
     },
     "execution_count": 6,
     "metadata": {},
     "output_type": "execute_result"
    }
   ],
   "source": [
    "s_1.lower()"
   ]
  },
  {
   "cell_type": "markdown",
   "metadata": {},
   "source": [
    "Note that these methods are specific to strings. This makes sense, because there is no such thing as the lowercase of a number, for example"
   ]
  },
  {
   "cell_type": "code",
   "execution_count": 8,
   "metadata": {
    "collapsed": false
   },
   "outputs": [
    {
     "ename": "AttributeError",
     "evalue": "'int' object has no attribute 'lower'",
     "output_type": "error",
     "traceback": [
      "\u001b[0;31m---------------------------------------------------------------------------\u001b[0m",
      "\u001b[0;31mAttributeError\u001b[0m                            Traceback (most recent call last)",
      "\u001b[0;32m<ipython-input-8-e65e013434ff>\u001b[0m in \u001b[0;36m<module>\u001b[0;34m()\u001b[0m\n\u001b[0;32m----> 1\u001b[0;31m \u001b[0mint\u001b[0m\u001b[0;34m(\u001b[0m\u001b[0;36m4000\u001b[0m\u001b[0;34m)\u001b[0m\u001b[0;34m.\u001b[0m\u001b[0mlower\u001b[0m\u001b[0;34m(\u001b[0m\u001b[0;34m)\u001b[0m\u001b[0;34m\u001b[0m\u001b[0m\n\u001b[0m",
      "\u001b[0;31mAttributeError\u001b[0m: 'int' object has no attribute 'lower'"
     ]
    }
   ],
   "source": [
    "int(4000).lower()"
   ]
  },
  {
   "cell_type": "markdown",
   "metadata": {},
   "source": [
    "# A brief tour of some string methods"
   ]
  },
  {
   "cell_type": "markdown",
   "metadata": {},
   "source": [
    "### Changing case\n",
    "As we saw before, there are methods for changing the case of a string "
   ]
  },
  {
   "cell_type": "code",
   "execution_count": 10,
   "metadata": {
    "collapsed": false
   },
   "outputs": [
    {
     "data": {
      "text/plain": [
       "'NEVER GONNA GIVE YOU UP, NEVER GONNA LET YOU DOWN'"
      ]
     },
     "execution_count": 10,
     "metadata": {},
     "output_type": "execute_result"
    }
   ],
   "source": [
    "s_1.upper()"
   ]
  },
  {
   "cell_type": "code",
   "execution_count": 11,
   "metadata": {
    "collapsed": false
   },
   "outputs": [
    {
     "data": {
      "text/plain": [
       "'never gonna give you up, never gonna let you down'"
      ]
     },
     "execution_count": 11,
     "metadata": {},
     "output_type": "execute_result"
    }
   ],
   "source": [
    "s_1.lower()"
   ]
  },
  {
   "cell_type": "code",
   "execution_count": 14,
   "metadata": {
    "collapsed": false
   },
   "outputs": [
    {
     "data": {
      "text/plain": [
       "'Never Gonna Give You Up, Never Gonna Let You Down'"
      ]
     },
     "execution_count": 14,
     "metadata": {},
     "output_type": "execute_result"
    }
   ],
   "source": [
    "# Capitalizes the beginning of every word\n",
    "s_1.title()"
   ]
  },
  {
   "cell_type": "code",
   "execution_count": 28,
   "metadata": {
    "collapsed": false
   },
   "outputs": [
    {
     "data": {
      "text/plain": [
       "'nEVER GONNA GIVE YOU UP, NEVER GONNA LET YOU DOWN'"
      ]
     },
     "execution_count": 28,
     "metadata": {},
     "output_type": "execute_result"
    }
   ],
   "source": [
    "# Inverts the case of every word\n",
    "s_1.swapcase()"
   ]
  },
  {
   "cell_type": "markdown",
   "metadata": {},
   "source": [
    "As an aside, case is more complicated in many other languages than it is in English. Python is used all over the world, and so it is generally able to correctly convert international characters to their proper upper case variants. Obviously, since this varies on location, the results will not always be perfect. "
   ]
  },
  {
   "cell_type": "code",
   "execution_count": 29,
   "metadata": {
    "collapsed": false
   },
   "outputs": [
    {
     "data": {
      "text/plain": [
       "'GRÜSS GOTT'"
      ]
     },
     "execution_count": 29,
     "metadata": {},
     "output_type": "execute_result"
    }
   ],
   "source": [
    "\"Grüß Gott\".upper()"
   ]
  },
  {
   "cell_type": "markdown",
   "metadata": {},
   "source": [
    "### Searching\n",
    "\n",
    "Say we wanted to know the position of \"let\" in the string. The .find(substring) method will return the index of the first position of \"let\" in the string. If the search string is not found, it will return -1. Find and all other string methods are case-sensitive"
   ]
  },
  {
   "cell_type": "code",
   "execution_count": 16,
   "metadata": {
    "collapsed": false
   },
   "outputs": [
    {
     "data": {
      "text/plain": [
       "37"
      ]
     },
     "execution_count": 16,
     "metadata": {},
     "output_type": "execute_result"
    }
   ],
   "source": [
    "s_1.find(\"let\")"
   ]
  },
  {
   "cell_type": "code",
   "execution_count": 24,
   "metadata": {
    "collapsed": false
   },
   "outputs": [
    {
     "data": {
      "text/plain": [
       "0"
      ]
     },
     "execution_count": 24,
     "metadata": {},
     "output_type": "execute_result"
    }
   ],
   "source": [
    "s_1.find(\"Never\")"
   ]
  },
  {
   "cell_type": "code",
   "execution_count": 23,
   "metadata": {
    "collapsed": false
   },
   "outputs": [
    {
     "data": {
      "text/plain": [
       "25"
      ]
     },
     "execution_count": 23,
     "metadata": {},
     "output_type": "execute_result"
    }
   ],
   "source": [
    "s_1.find(\"never\")"
   ]
  },
  {
   "cell_type": "code",
   "execution_count": 17,
   "metadata": {
    "collapsed": false
   },
   "outputs": [
    {
     "data": {
      "text/plain": [
       "-1"
      ]
     },
     "execution_count": 17,
     "metadata": {},
     "output_type": "execute_result"
    }
   ],
   "source": [
    "s_1.find(\"purple\")"
   ]
  },
  {
   "cell_type": "markdown",
   "metadata": {},
   "source": [
    "If there are multiple examples where the search string is found, .find() returns only the first example"
   ]
  },
  {
   "cell_type": "code",
   "execution_count": 18,
   "metadata": {
    "collapsed": false
   },
   "outputs": [
    {
     "data": {
      "text/plain": [
       "6"
      ]
     },
     "execution_count": 18,
     "metadata": {},
     "output_type": "execute_result"
    }
   ],
   "source": [
    "s_1.find(\"gonna\")"
   ]
  },
  {
   "cell_type": "markdown",
   "metadata": {},
   "source": [
    "Since searching returns a number representing the index where a string is found, you can easily combine it with slicing to (say) return all of the string after a search query:"
   ]
  },
  {
   "cell_type": "code",
   "execution_count": 19,
   "metadata": {
    "collapsed": false
   },
   "outputs": [
    {
     "data": {
      "text/plain": [
       "'gonna give you up, never gonna let you down'"
      ]
     },
     "execution_count": 19,
     "metadata": {},
     "output_type": "execute_result"
    }
   ],
   "source": [
    "s_1[s_1.find(\"gonna\"):]"
   ]
  },
  {
   "cell_type": "markdown",
   "metadata": {},
   "source": [
    "### Counting occurences of a substring\n",
    "\n",
    "The .count(substring) method tells you how many times a substring occurs in a string. Note that, like all functions, count is case-sensitive."
   ]
  },
  {
   "cell_type": "code",
   "execution_count": 21,
   "metadata": {
    "collapsed": false
   },
   "outputs": [
    {
     "data": {
      "text/plain": [
       "1"
      ]
     },
     "execution_count": 21,
     "metadata": {},
     "output_type": "execute_result"
    }
   ],
   "source": [
    "s_1.count(\"never\")"
   ]
  },
  {
   "cell_type": "code",
   "execution_count": 20,
   "metadata": {
    "collapsed": false
   },
   "outputs": [
    {
     "data": {
      "text/plain": [
       "2"
      ]
     },
     "execution_count": 20,
     "metadata": {},
     "output_type": "execute_result"
    }
   ],
   "source": [
    "s_1.count(\"gonna\")"
   ]
  },
  {
   "cell_type": "code",
   "execution_count": 22,
   "metadata": {
    "collapsed": false
   },
   "outputs": [
    {
     "data": {
      "text/plain": [
       "2"
      ]
     },
     "execution_count": 22,
     "metadata": {},
     "output_type": "execute_result"
    }
   ],
   "source": [
    "s_1.count(\"you\")"
   ]
  },
  {
   "cell_type": "markdown",
   "metadata": {},
   "source": [
    "### Replacing strings\n",
    "\n",
    "The .replace(original, replacement) method replaces all of the intstances of the first argument in the string with the second argument."
   ]
  },
  {
   "cell_type": "code",
   "execution_count": 25,
   "metadata": {
    "collapsed": false
   },
   "outputs": [
    {
     "data": {
      "text/plain": [
       "'Never gonna give you up, always gonna let you down'"
      ]
     },
     "execution_count": 25,
     "metadata": {},
     "output_type": "execute_result"
    }
   ],
   "source": [
    "s_1.replace('never', 'always')"
   ]
  },
  {
   "cell_type": "code",
   "execution_count": 26,
   "metadata": {
    "collapsed": false
   },
   "outputs": [
    {
     "data": {
      "text/plain": [
       "'Never going to give you up, never going to let you down'"
      ]
     },
     "execution_count": 26,
     "metadata": {},
     "output_type": "execute_result"
    }
   ],
   "source": [
    "s_1.replace('gonna', 'going to')"
   ]
  },
  {
   "cell_type": "markdown",
   "metadata": {},
   "source": [
    "# Chaining methods\n",
    "\n",
    "Since many string methods return a string, you can call a second method on them by just adding it to the end of the first method call. In programming, this is sometimes called \"method chaining,\" and is a powerful and concise way to call many methods on one object, rather than creating lots of intermediate variables."
   ]
  },
  {
   "cell_type": "code",
   "execution_count": 37,
   "metadata": {
    "collapsed": false
   },
   "outputs": [
    {
     "data": {
      "text/plain": [
       "'always gonna give you up, always gonna let you down'"
      ]
     },
     "execution_count": 37,
     "metadata": {},
     "output_type": "execute_result"
    }
   ],
   "source": [
    "# Instead of \n",
    "s_1_lower_case = s_1.lower()\n",
    "s_1_lower_case.replace('never', 'always')"
   ]
  },
  {
   "cell_type": "code",
   "execution_count": 36,
   "metadata": {
    "collapsed": false
   },
   "outputs": [
    {
     "data": {
      "text/plain": [
       "'always gonna give you up, always gonna let you down'"
      ]
     },
     "execution_count": 36,
     "metadata": {},
     "output_type": "execute_result"
    }
   ],
   "source": [
    "# Try\n",
    "s_1.lower().replace('never', 'always')"
   ]
  },
  {
   "cell_type": "markdown",
   "metadata": {},
   "source": [
    "# Looking forward\n",
    "\n",
    "There's a lot more methods on strings than the ones that we've explored here. Some of them I've held off on talking about, because they produce Python data types that we haven't discussed yet. If you want to try them out, try typing the name of a string (or a string inside quotes), typing a dot . , and then hitting tab. The iPython shell should automatically pop up a box showing every method defined on strings. Can you figure out what some of the other ones do?\n",
    "\n",
    "# Documentation\n",
    "\n",
    "If you ever want to know what a method does, or what arguments it accepts, you can type \n",
    "\n",
    "?s_1.method \n",
    "\n",
    "into a cell and a box will pop up at the bottom showing the arguments, what it returns, and a short description of what the method does. Give it a try below!"
   ]
  },
  {
   "cell_type": "code",
   "execution_count": null,
   "metadata": {
    "collapsed": true
   },
   "outputs": [],
   "source": []
  },
  {
   "cell_type": "code",
   "execution_count": null,
   "metadata": {
    "collapsed": true
   },
   "outputs": [],
   "source": []
  },
  {
   "cell_type": "markdown",
   "metadata": {},
   "source": [
    "# Excercises"
   ]
  },
  {
   "cell_type": "markdown",
   "metadata": {},
   "source": [
    "## EcoRI fragments\n",
    "\n",
    "EcoRI is a restriction enzyme with the recognition site GAATTC. Given a linear DNA sequence (i.e. not a circular plasmid), find how many fragments EcoRI would cut it into (HINT: This is not the same as the number of times that EcoRI cuts the fragment) (HINT 2: Remember that not all sequences will have the same case)"
   ]
  },
  {
   "cell_type": "code",
   "execution_count": 49,
   "metadata": {
    "collapsed": true
   },
   "outputs": [],
   "source": [
    "def number_ecori_cuts(seq):\n",
    "    return 0 "
   ]
  },
  {
   "cell_type": "code",
   "execution_count": 48,
   "metadata": {
    "collapsed": false
   },
   "outputs": [
    {
     "name": "stdout",
     "output_type": "stream",
     "text": [
      "Great Job!\n"
     ]
    }
   ],
   "source": [
    "def test_upper_case_string(test_fn):\n",
    "    if test_fn(\"ACCGAATTCGGTGTACCGTGAATTCAGGACAG\") != 3:\n",
    "        print(\"When a sequence with one cut site is cut, how many pieces are produced?\")\n",
    "        return False\n",
    "    return True\n",
    "\n",
    "def test_mixed_case_string(test_fn):\n",
    "    test_seq = \"ACCGaaTTCGGTGTACCgTGAATTCAGGACAG\"\n",
    "    if test_fn(test_seq.lower()) != test_fn(test_seq):\n",
    "        print(\"Did you remember that not all sequences are fully upper/lower case?\")\n",
    "        return False\n",
    "    return True\n",
    "    \n",
    "try:\n",
    "    for f in [test_upper_case_string, test_mixed_case_string]:\n",
    "        if not f(number_ecori_cuts):\n",
    "            raise AssertionError\n",
    "except NameError as e:\n",
    "    print(\"Are you sure that you named the function correctly? It should be called number_ecori_cuts\")\n",
    "except AssertionError:\n",
    "    print(\"Try again!\")\n",
    "else:\n",
    "    print(\"Great Job!\")\n"
   ]
  },
  {
   "cell_type": "markdown",
   "metadata": {},
   "source": [
    "## Percent GC \n",
    "\n",
    "In DNA sequences, the GC-content of the sequence can strongly effect its properties (melting temperature, hybrid stability, etc.) Write a function that takes a DNA sequence as a string, and returns the percent GC content (where 0 is no GC, and 100 is all GC.) (HINT: Rememeber that you can get the length of a full sequence using the len() function)"
   ]
  },
  {
   "cell_type": "code",
   "execution_count": 70,
   "metadata": {
    "collapsed": false
   },
   "outputs": [],
   "source": [
    "def percent_gc(seq):\n",
    "    return 0"
   ]
  },
  {
   "cell_type": "code",
   "execution_count": 75,
   "metadata": {
    "collapsed": false
   },
   "outputs": [
    {
     "name": "stdout",
     "output_type": "stream",
     "text": [
      "Great Job!\n"
     ]
    }
   ],
   "source": [
    "def test_mixed_case_string(test_fn):\n",
    "    test_seq = \"ACCGaaTTCGGTGTACCgTGTTCAGGACAG\"\n",
    "    if test_fn(test_seq.lower()) != test_fn(test_seq):\n",
    "        print(\"Did you remember that not all sequences are fully upper/lower case?\")\n",
    "        return False\n",
    "    return True\n",
    "\n",
    "def test_gc_function(test_fn):\n",
    "    test_seq = \"ACCGaaTTCGGTGTACCgTGTTCAGGACAG\"\n",
    "    if test_fn(test_seq) == 0.5333333333333333:\n",
    "        print(\"Did you make sure that you expressed your answer as a percent?\")\n",
    "        return False\n",
    "    elif test_fn(test_seq) < 0 or test_fn(test_seq) > 100:\n",
    "        print(\"Oops! Looks like your answer was not a fraction\")\n",
    "        return False\n",
    "    elif int(test_fn(test_seq)) != 53:\n",
    "        print(\"Are you sure you counted both G and C correctly?\")\n",
    "        return False\n",
    "    return True\n",
    "    \n",
    "try:\n",
    "    for f in [test_mixed_case_string, test_gc_function]:\n",
    "        if not f(percent_gc):\n",
    "            raise AssertionError\n",
    "except NameError as e:\n",
    "    print(\"Are you sure that you named the function correctly? It should be called percent_gc\")\n",
    "except AssertionError:\n",
    "    print(\"Try again!\")\n",
    "else:\n",
    "    print(\"Great Job!\")\n"
   ]
  },
  {
   "cell_type": "code",
   "execution_count": null,
   "metadata": {
    "collapsed": true
   },
   "outputs": [],
   "source": []
  }
 ],
 "metadata": {
  "anaconda-cloud": {},
  "kernelspec": {
   "display_name": "Python [conda root]",
   "language": "python",
   "name": "conda-root-py"
  },
  "language_info": {
   "codemirror_mode": {
    "name": "ipython",
    "version": 3
   },
   "file_extension": ".py",
   "mimetype": "text/x-python",
   "name": "python",
   "nbconvert_exporter": "python",
   "pygments_lexer": "ipython3",
   "version": "3.5.2"
  }
 },
 "nbformat": 4,
 "nbformat_minor": 1
}

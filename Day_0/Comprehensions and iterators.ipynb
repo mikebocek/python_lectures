{
 "cells": [
  {
   "cell_type": "markdown",
   "metadata": {},
   "source": [
    "# List comprehensions\n",
    "\n",
    "Very often in Python, we find ourselves in the need to go through a list, and do something to each item. For example, we might want to take the square of each number in a list of numbers. This usually results in writing code that looks something like this:\n",
    "\n"
   ]
  },
  {
   "cell_type": "code",
   "execution_count": 6,
   "metadata": {
    "collapsed": false
   },
   "outputs": [
    {
     "data": {
      "text/plain": [
       "[9, 16, 25, 42.25]"
      ]
     },
     "execution_count": 6,
     "metadata": {},
     "output_type": "execute_result"
    }
   ],
   "source": [
    "numbers = [3, 4, 5, 6.5]\n",
    "\n",
    "def square(x):\n",
    "    return x * x\n",
    "\n",
    "#Old way\n",
    "squared_numbers = []\n",
    "for number in numbers:\n",
    "    squared_numbers.append(square(number))\n",
    "    \n",
    "squared_numbers"
   ]
  },
  {
   "cell_type": "markdown",
   "metadata": {},
   "source": [
    "Where we create an output variable, iterate through a list with a for loop, and \"build\" the new list from the old one using the .append() method. This sort of code is common, and there's nothing incorrect about it, but this is such a common thing to do that it quickly becomes tedious to write.\n",
    "\n",
    "Thankfully, Python has a feature called *list comprehensions* that allows us to quickly build new lists from old ones. Let's take the code above and re-write it as a list comprehension:"
   ]
  },
  {
   "cell_type": "code",
   "execution_count": 7,
   "metadata": {
    "collapsed": false
   },
   "outputs": [
    {
     "data": {
      "text/plain": [
       "[9, 16, 25, 42.25]"
      ]
     },
     "execution_count": 7,
     "metadata": {},
     "output_type": "execute_result"
    }
   ],
   "source": [
    "squared_numbers = [square(num) for num in numbers]\n",
    "squared_numbers"
   ]
  },
  {
   "cell_type": "markdown",
   "metadata": {},
   "source": [
    "Basically, a list comprehension is a way to re-write simple *for* loops to be more clear and concise. The general form of the expression is\n",
    "\n",
    "```python\n",
    "[function(element) for element in collection]\n",
    "```\n",
    "\n",
    "Though the function(element) part can be replaced with any expression. For example, element * element also would have been acceptable. \n",
    "\n",
    "List comprehensions can also be used to trim a list down to only those elements that meet some criteria. For example, we could filter a list of numbers so that we only have positive numbers using the following statement:"
   ]
  },
  {
   "cell_type": "code",
   "execution_count": 10,
   "metadata": {
    "collapsed": false
   },
   "outputs": [
    {
     "data": {
      "text/plain": [
       "[5, 4, 7, 8, 4]"
      ]
     },
     "execution_count": 10,
     "metadata": {},
     "output_type": "execute_result"
    }
   ],
   "source": [
    "original_list = [-4, 5, -2, -1, 4, 7, 8, -2, 4]\n",
    "[i for i in original_list if i > 0]"
   ]
  },
  {
   "cell_type": "markdown",
   "metadata": {},
   "source": [
    "Note that here, we use the expression \n",
    "```python\n",
    "i for i in original_list\n",
    "```\n",
    "because we don't need to apply a function to the original list - we just want the elements as they are. We can also combine the ability to apply a function with the ability to filter elements and write an expression like the following:"
   ]
  },
  {
   "cell_type": "code",
   "execution_count": 12,
   "metadata": {
    "collapsed": false
   },
   "outputs": [
    {
     "data": {
      "text/plain": [
       "[25, 16, 49, 64, 16]"
      ]
     },
     "execution_count": 12,
     "metadata": {},
     "output_type": "execute_result"
    }
   ],
   "source": [
    "[square(i) for i in original_list if i > 0]"
   ]
  },
  {
   "cell_type": "markdown",
   "metadata": {},
   "source": [
    "# Dictionary comprehensions\n",
    "\n",
    "We can use a similar "
   ]
  },
  {
   "cell_type": "code",
   "execution_count": null,
   "metadata": {
    "collapsed": true
   },
   "outputs": [],
   "source": []
  }
 ],
 "metadata": {
  "kernelspec": {
   "display_name": "Python [default]",
   "language": "python",
   "name": "python3"
  },
  "language_info": {
   "codemirror_mode": {
    "name": "ipython",
    "version": 3
   },
   "file_extension": ".py",
   "mimetype": "text/x-python",
   "name": "python",
   "nbconvert_exporter": "python",
   "pygments_lexer": "ipython3",
   "version": "3.5.2"
  }
 },
 "nbformat": 4,
 "nbformat_minor": 1
}

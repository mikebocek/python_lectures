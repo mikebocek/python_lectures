{
 "cells": [
  {
   "cell_type": "code",
   "execution_count": null,
   "metadata": {
    "collapsed": true
   },
   "outputs": [],
   "source": [
    "from __future__ import division, print_function\n",
    "import unittest"
   ]
  },
  {
   "cell_type": "markdown",
   "metadata": {},
   "source": [
    "# Welcome!\n",
    "\n",
    "This is the first iPython notebook for the 2015 cbio lecture series. If you've gotten far enough that you can see this message, and the code beneath, take a moment to relax! You've already cleared one of the more challenging parts of learning to program - getting your environment working.\n",
    "\n",
    "The first program that almost everyone learns to write in a new language, whether they're total beginners or code ninjas is a short program to output the words \"Hello world!\" onto the screen. We're going to write this now! In the grey box below, type the following exactly:\n",
    "\n",
    "```python\n",
    "print(\"Hello world\")\n",
    "```\n",
    "\n",
    "And press the \"play\" button on the toolbar above."
   ]
  },
  {
   "cell_type": "code",
   "execution_count": null,
   "metadata": {
    "collapsed": false
   },
   "outputs": [],
   "source": []
  },
  {
   "cell_type": "markdown",
   "metadata": {},
   "source": [
    "Congrats! You've already written your first python program. You'll notice that iPython automatically puts the result of your program as text below the code box.\n",
    "\n",
    "As part of this class, we'll fill in some regions of code, and leave others empty or incomplete for you to finish. That way you'll be able to interactively follow along with the concepts as you learn them."
   ]
  },
  {
   "cell_type": "markdown",
   "metadata": {},
   "source": [
    "# Arithmetic\n",
    "\n",
    "At their core, all computers are essentially really fast calculators. Everything a computer does, whether it's connecting to Facebook, processing your vacation photos is fundementally just math performed in the CPU that's hidden under many layers of abstraction.\n",
    "\n",
    "Almost all programming languages have the facility to do basic arithmetic, and Python is no exception. If you write a simple expression you'll find that python will spit back out an answer.\n",
    "\n",
    "The basic arithmetic functions python can do are\n",
    " - Addition (+) \n",
    " - Subtraction (-)\n",
    " - Multiplication (*)\n",
    " - Division (/)\n",
    " - Exponentiation (**)\n",
    " \n",
    "These can be combined with parantheses () to indicate the order of operations, as you're used to. So if you want to take 2 to the 5th all divided by 7, that can be expressed as \n",
    "\n",
    "```python\n",
    "(2 ** (3 + 2))/7\n",
    "```\n",
    "\n",
    "If we try to evaluate this below, we'll get\n"
   ]
  },
  {
   "cell_type": "code",
   "execution_count": null,
   "metadata": {
    "collapsed": false
   },
   "outputs": [],
   "source": [
    "(2 ** (3 + 2))/7"
   ]
  },
  {
   "cell_type": "markdown",
   "metadata": {},
   "source": [
    "Which, if you check, is the same thing as 32/7. Try out your own expressions in the cells below to get the hang of things!"
   ]
  },
  {
   "cell_type": "code",
   "execution_count": null,
   "metadata": {
    "collapsed": false
   },
   "outputs": [],
   "source": []
  },
  {
   "cell_type": "code",
   "execution_count": null,
   "metadata": {
    "collapsed": false
   },
   "outputs": [],
   "source": []
  },
  {
   "cell_type": "markdown",
   "metadata": {},
   "source": [
    "# Variables and assignment"
   ]
  },
  {
   "cell_type": "markdown",
   "metadata": {},
   "source": [
    "If all programs were just lists of arithmetic operations, reading code would be next to impossible! That's why almost every programming language also provides *variables*, which are names that you as the programmer give to results that you want to save. Let's see an example first:"
   ]
  },
  {
   "cell_type": "code",
   "execution_count": null,
   "metadata": {
    "collapsed": true
   },
   "outputs": [],
   "source": [
    "x = 1"
   ]
  },
  {
   "cell_type": "markdown",
   "metadata": {},
   "source": [
    "This assigns the value 1 to the variable \"x\". We use the \"=\" sign to do this, but it's important to remember that this sign means \"Take the value on the right side, and store it on the left side\".\n",
    "\n",
    "Now at any future point in the program, we can use x as a standin for 1. Try modifying the expressions below, or creating your own variables!"
   ]
  },
  {
   "cell_type": "code",
   "execution_count": null,
   "metadata": {
    "collapsed": false
   },
   "outputs": [],
   "source": [
    "(x*2)**9"
   ]
  },
  {
   "cell_type": "code",
   "execution_count": null,
   "metadata": {
    "collapsed": false
   },
   "outputs": [],
   "source": [
    "x / 2"
   ]
  },
  {
   "cell_type": "markdown",
   "metadata": {},
   "source": [
    "## Variable naming\n",
    "\n",
    "To make sure that programs can be run without any isssues, Python puts certain restrictions on variables. They must not start with a number, and must contain only letters, numbers, and the underscore (\\_). In Python, the convention is to use underscores to represent spaces in variable names. Here's some examples:\n",
    "\n",
    "### Allowed variable names\n",
    "    - word_count\n",
    "    - hello_message\n",
    "    - HTTP_address_1\n",
    "    - chromosome_22_coordinates\n",
    "    - __secret (Python sometimes treats variables with underscore as the first character as special)\n",
    "    - résumé (In python 3)\n",
    "\n",
    "### Dissallowed variable names\n",
    "    - 57 (This is just a number)\n",
    "    - 12_angry_men (starts with a number)\n",
    "    - 🍺 (only letter like characters allowed)\n",
    "    - this.other (cannot contain any punctuation)\n",
    "\n",
    "It's good to get in the habit of naming your variables well - when your code gets long enough, names that are too short or unclear can really hurt your understanding. Remember that you're always programming for yourself in six months, when you're under a deadline!\n",
    "\n",
    "## Reserved words\n",
    "\n",
    "Certain words like \"for\" and \"and\" cannot be used as Python variable names, and will create an error if you try. There are also some words that will not create an error, but still refer to built in functions of python and are best left alone. Of these, probably the most easy to mess up are \"file\" and \"id\", but there are others. Don't worry too much about this for now, but it's good to keep in mind."
   ]
  },
  {
   "cell_type": "markdown",
   "metadata": {},
   "source": [
    "# Comments\n",
    "\n",
    "Code is meant to be read by humans, not computers. All good programmers strive to make their programs easy to understand by a wide variety of people. Often, this person will be you - you want to make sure that when you re-read your code, you can easily understand it, even if you're re-reading it months later.\n",
    "\n",
    "Writing readable code is a little bit of an art form, but one great way to help the reader of your code out is with *comments*. You should thing of comments as annotations to the code: it's not necessary to have comments on every line, but on difficult to understand lines, or on long, complicated blocks of code, comments can really help the reader understand what you're trying to do.\n",
    "\n",
    "In Python, we start a comment with a hash symbol (#.) Anything on a line after the comment is then ignored by python."
   ]
  },
  {
   "cell_type": "code",
   "execution_count": null,
   "metadata": {
    "collapsed": true
   },
   "outputs": [],
   "source": [
    "# This is a comment\n",
    "x = 4 + 2 # This is also a comment\n",
    "\n",
    "# The next line will not be run\n",
    "# x = 5"
   ]
  },
  {
   "cell_type": "markdown",
   "metadata": {},
   "source": [
    "Verify for yourself that the value of x is 6, rather than 5 as would be the case if that last line weren't commented.\n",
    "\n",
    "### Multi-line comments\n",
    "\n",
    "It's sometimes necessary to make a comment that spans multiple lines. You can do this by starting a line with three quotation marks \"\"\" and then ending with the same symbol on another line \"\"\" \n",
    "\n",
    "Here's an example"
   ]
  },
  {
   "cell_type": "code",
   "execution_count": null,
   "metadata": {
    "collapsed": true
   },
   "outputs": [],
   "source": [
    "before_the_comment = 0\n",
    "\n",
    "\"\"\"\n",
    "This is a multi-line comment. We use these for places where \n",
    "single line annotations are not enough. Often times people try \n",
    "to keep their lines of code less than 80 characters for readability\n",
    "so you'll see multi-line comments for anything that requires a lot \n",
    "of space to explain\n",
    "\"\"\"\n",
    "\n",
    "no_longer_a_comment = 0"
   ]
  },
  {
   "cell_type": "markdown",
   "metadata": {},
   "source": [
    "# Functions\n",
    "\n",
    "Very often in programming, you will have some sort of task that you need to perform repetatively. For example, let's say that you had some code where you were constantly needing to find the hyponuse of a bunch of triangles, where you knew the width of the base, and the height. This is a simple formula:\n",
    "\n",
    "$area=(width*height)/2$\n",
    "\n",
    "But it would get pretty tedious to have to constantly type:\n",
    "\n",
    "```python\n",
    "width = 2\n",
    "height = 7\n",
    "area = (width * height)/2\n",
    "```\n",
    "\n",
    "into the python interpreter."
   ]
  },
  {
   "cell_type": "markdown",
   "metadata": {},
   "source": [
    "# There has to be a better way!!!!\n",
    "<img src=\"assets/better_way.gif\">\n",
    "\n",
    "The way that programmers solve this problem is to define *functions*. Functions in programming are a lot like the functions that you learned about in school. They take inputs (in f(x), x would be an input) and produce outputs. In Python, we use the \"def\" keyword to create a function. Let's see an example below:"
   ]
  },
  {
   "cell_type": "code",
   "execution_count": null,
   "metadata": {
    "collapsed": true
   },
   "outputs": [],
   "source": [
    "def triangle_area(width, height):\n",
    "    return (width * height)/2"
   ]
  },
  {
   "cell_type": "code",
   "execution_count": null,
   "metadata": {
    "collapsed": false
   },
   "outputs": [],
   "source": [
    "triangle_area(10, 5)"
   ]
  },
  {
   "cell_type": "markdown",
   "metadata": {},
   "source": [
    "The parts of a function are:\n",
    "\n",
    "1. The name: which here is \"triangle_area\"\n",
    "2. The input variables. These go between the paratheses. \n",
    "3. The output or \"return\" statement. This tells the function to exit, and \"returns\" whatever expression comes after\n",
    "\n",
    "You always call a function using the name of the function, followed by paranthesis. If the function takes any input variables, these have to be specified \n",
    "\n",
    "Not all functions have all three of these parts. Some functions don't take any inputs"
   ]
  },
  {
   "cell_type": "code",
   "execution_count": null,
   "metadata": {
    "collapsed": true
   },
   "outputs": [],
   "source": [
    "def returns_3():\n",
    "    return 3"
   ]
  },
  {
   "cell_type": "code",
   "execution_count": null,
   "metadata": {
    "collapsed": false
   },
   "outputs": [],
   "source": [
    "returns_3()"
   ]
  },
  {
   "cell_type": "markdown",
   "metadata": {},
   "source": [
    "Some functions don't return anything. These functions might do things like print a message to the screen"
   ]
  },
  {
   "cell_type": "code",
   "execution_count": null,
   "metadata": {
    "collapsed": true
   },
   "outputs": [],
   "source": [
    "def print_message(message):\n",
    "    print(message)"
   ]
  },
  {
   "cell_type": "code",
   "execution_count": null,
   "metadata": {
    "collapsed": false
   },
   "outputs": [],
   "source": [
    "print_message(\"Hello world\")"
   ]
  },
  {
   "cell_type": "markdown",
   "metadata": {},
   "source": [
    "Some functions don't even have a name! Those are a little advanced though, so we'll cover them later. \n",
    "\n",
    "## Excercise: Functions\n",
    "\n",
    "Below, try creating a function called circle_area that returns the area of a circle with a given radius. If you did it correctly, the line of code two below should print a congragualtions message! Use the triangle_area function as a model. If you need a refresher, the area of a circle is $\\pi*radius^{2}$. Take 3.14 as the value for pi."
   ]
  },
  {
   "cell_type": "code",
   "execution_count": null,
   "metadata": {
    "collapsed": false
   },
   "outputs": [],
   "source": [
    "# Place your function here"
   ]
  },
  {
   "cell_type": "markdown",
   "metadata": {
    "collapsed": true
   },
   "source": [
    "The cell below will run a quick test to make sure your code is working!"
   ]
  },
  {
   "cell_type": "code",
   "execution_count": null,
   "metadata": {
    "collapsed": false
   },
   "outputs": [],
   "source": [
    "class CircleFunctionTest(unittest.TestCase):\n",
    "    def test_small_circle(self):\n",
    "        self.assertAlmostEqual(circle_area(4), 50.24, msg='Double check your calculation!')\n",
    "\n",
    "suite = unittest.TestLoader().loadTestsFromTestCase(CircleFunctionTest)\n",
    "unittest.TextTestRunner(verbosity = 2).run(suite)"
   ]
  },
  {
   "cell_type": "markdown",
   "metadata": {},
   "source": [
    "## Excercise: Create a sine function\n",
    "\n",
    "Without getting too deep in the math, it's possible to approximate some more complex functions using combinations of addition, subtraction, multiplication and division. For example, the sine function $sin(x)$ can be approximated quite well by the formula:\n",
    "\n",
    "$sin(x) = x - \\frac{x^{3}}{6} + \\frac{x^{5}}{120}$\n",
    "\n",
    "Complete the sin function skeleton below by translating this formula into python arithmetic. Be sure to use parentheses when necessary!"
   ]
  },
  {
   "cell_type": "code",
   "execution_count": null,
   "metadata": {
    "collapsed": true
   },
   "outputs": [],
   "source": [
    "def sin(x):\n",
    "    return 0 "
   ]
  },
  {
   "cell_type": "code",
   "execution_count": null,
   "metadata": {
    "collapsed": false
   },
   "outputs": [],
   "source": [
    "sin(-3.14/2)"
   ]
  },
  {
   "cell_type": "code",
   "execution_count": null,
   "metadata": {
    "collapsed": false
   },
   "outputs": [],
   "source": [
    "class SinFunctionTest(unittest.TestCase):\n",
    "    def test_pi_over_2(self):\n",
    "        self.assertAlmostEqual(sin(3.14/2), 1.0045086604641666, 'Check your math!')\n",
    "    def test_negative_values(self):\n",
    "        self.assertAlmostEqual(sin(-3.14/2), -1.0045086604641666, \n",
    "                               \"Check your math! Doesn't seem to handle negative values correctly\" )\n",
    "        \n",
    "\n",
    "suite = unittest.TestLoader().loadTestsFromTestCase(SinFunctionTest)\n",
    "unittest.TextTestRunner(verbosity = 2).run(suite)"
   ]
  },
  {
   "cell_type": "markdown",
   "metadata": {},
   "source": [
    "# The absolute value function "
   ]
  },
  {
   "cell_type": "markdown",
   "metadata": {},
   "source": [
    "Python has one built in function that operates on numbers. This is the absolute value function or abs(), which returns the distance of a number from zero on the number line."
   ]
  },
  {
   "cell_type": "code",
   "execution_count": null,
   "metadata": {
    "collapsed": false
   },
   "outputs": [],
   "source": [
    "abs(3)"
   ]
  },
  {
   "cell_type": "code",
   "execution_count": null,
   "metadata": {
    "collapsed": false
   },
   "outputs": [],
   "source": [
    "abs(-3)"
   ]
  },
  {
   "cell_type": "code",
   "execution_count": null,
   "metadata": {
    "collapsed": false
   },
   "outputs": [],
   "source": [
    "abs(-0.0004)"
   ]
  },
  {
   "cell_type": "markdown",
   "metadata": {},
   "source": [
    "# Types of numbers in Python\n",
    "\n",
    "Python allows for two kinds of numbers. The first are integers, like 0, 2, 3, 500, or -50000. These must be whole numbers, but can be as large or as small as you like. The second are floating point numbers, which allow you to represent decimals. While these numbers are useful, they are only models for real decimal numbers. Because of this they:\n",
    "\n",
    "1. Have a limited range they can represent (between 1e-308 and 1e308 in magnitude)\n",
    "2. Lose precision in certain operations\n",
    "\n",
    "For example, you would expect 0.1 + 0.2 to equal 0.3, and in floating point math this is *almost* true. Looking at the real answer though, we've lost some precision due to the way that these numbers are stored."
   ]
  },
  {
   "cell_type": "code",
   "execution_count": null,
   "metadata": {
    "collapsed": false
   },
   "outputs": [],
   "source": [
    "answer_0_3 = 0.1 + 0.2\n",
    "print(answer_0_3)"
   ]
  },
  {
   "cell_type": "markdown",
   "metadata": {},
   "source": [
    "To convert an int into a float, you can use the float() function. To convert a float into an int, you use the int() function. If your number has a decimal point, anything after the decimal is lost forever when you do this, effectively \"truncating\" the number. This has the effect of always rounding down above zero, and always rouding up below zero."
   ]
  },
  {
   "cell_type": "code",
   "execution_count": null,
   "metadata": {
    "collapsed": false
   },
   "outputs": [],
   "source": [
    "int(-1.6)"
   ]
  },
  {
   "cell_type": "code",
   "execution_count": null,
   "metadata": {
    "collapsed": false
   },
   "outputs": [],
   "source": [
    "int(5.9)"
   ]
  },
  {
   "cell_type": "code",
   "execution_count": null,
   "metadata": {
    "collapsed": false
   },
   "outputs": [],
   "source": [
    "float(500)"
   ]
  },
  {
   "cell_type": "markdown",
   "metadata": {},
   "source": [
    "# Some more advanced arithmetic"
   ]
  },
  {
   "cell_type": "markdown",
   "metadata": {},
   "source": [
    "## Floor division //\n",
    "\n",
    "By default, in recent versions of Python, dividing two integer values that don't cleanly divide (like 3/2) produces a floating point number. This is usually the behavior that you will be interested in, but not always. We sometimes want to instead know the number of times that something divides cleanly, and the remainder seperately.\n",
    "\n",
    "There's two operations for this. The first is called *floor division*: it's essentially division that leaves the remainder out entirely, instead of putting it after the decimal place. When you apply floor division to two integers, you always get an integer back. The symbol for floor division is a double slash //\n",
    "\n",
    "Here's a few examples of it in action!"
   ]
  },
  {
   "cell_type": "code",
   "execution_count": null,
   "metadata": {
    "collapsed": false,
    "scrolled": true
   },
   "outputs": [],
   "source": [
    "print(67 // 10)\n",
    "\n",
    "print(23 // 3)\n",
    "\n",
    "print(2 // 3)"
   ]
  },
  {
   "cell_type": "markdown",
   "metadata": {},
   "source": [
    "## Modulo % \n",
    "\n",
    "Modulo is a complementary operation to floor division. It returns *only* the remainder that you would get by dividing two numbers. Let's see it in action on the same examples:"
   ]
  },
  {
   "cell_type": "code",
   "execution_count": null,
   "metadata": {
    "collapsed": false,
    "scrolled": true
   },
   "outputs": [],
   "source": [
    "print(67 % 10)\n",
    "\n",
    "print(23 % 3)\n",
    "\n",
    "print(2 % 3)"
   ]
  },
  {
   "cell_type": "markdown",
   "metadata": {},
   "source": [
    "This operation has some surprising uses in fields like Number Theory and Cryptography. In everyday programming though, it is often used as a pattern to alternate some behavior. \n",
    "\n",
    "As an example, you might want to make an excel-like spreadsheet look prettier by alternating the row colors to be light gray on even rows, or white on odd rows. You might do this with a function that takes the row number, uses the modulo operator to tell if it is even or not, and then outputs the color based on whether the row number is even.\n",
    "\n",
    "We'll learn how to write a function like this in chapter 3! For now though, it's just good to remember that modulo exists."
   ]
  },
  {
   "cell_type": "markdown",
   "metadata": {},
   "source": [
    "## Excercise: floor division and modulo\n",
    "\n",
    "Create a function that takes as input a year (such as 1963) and returns a decade (such as 60.) The answer should be independent of the century (so 1867 would also return 60.)\n",
    "\n",
    "HINT: This can be done with a single modulo (%), a single floor divide (//) and a single normal multiplication (\\*). There may be other answers!"
   ]
  },
  {
   "cell_type": "code",
   "execution_count": null,
   "metadata": {
    "collapsed": true
   },
   "outputs": [],
   "source": [
    "def decade(year):\n",
    "    return 0"
   ]
  },
  {
   "cell_type": "code",
   "execution_count": null,
   "metadata": {
    "collapsed": false
   },
   "outputs": [],
   "source": [
    "class DecadeTest(unittest.TestCase):\n",
    "    def test_20th_century(self):\n",
    "        self.assertEqual(decade(1963), 60)\n",
    "    def test_14th_century(self):\n",
    "        self.assertEqual(decade(1492), 90, 'Make sure that your program works for dates outside the 1900-2000 range')\n",
    "\n",
    "suite = unittest.TestLoader().loadTestsFromTestCase(DecadeTest)\n",
    "unittest.TextTestRunner(verbosity = 2).run(suite)"
   ]
  },
  {
   "cell_type": "code",
   "execution_count": null,
   "metadata": {
    "collapsed": true
   },
   "outputs": [],
   "source": []
  },
  {
   "cell_type": "markdown",
   "metadata": {},
   "source": [
    "### Complex numbers (if you're intersted)\n",
    "Python also (surprisingly) has builtin support for complex numbers. These are a little esoteric, so I'll just show some examples below. Chances are if you need complex numbers, you'll use a library to deal with them anyway"
   ]
  },
  {
   "cell_type": "code",
   "execution_count": null,
   "metadata": {
    "collapsed": true
   },
   "outputs": [],
   "source": [
    "complex_1 = 0+1j\n",
    "complex_2 = 0.5+0.5j"
   ]
  },
  {
   "cell_type": "code",
   "execution_count": null,
   "metadata": {
    "collapsed": false
   },
   "outputs": [],
   "source": [
    "complex_1 + complex_2"
   ]
  },
  {
   "cell_type": "code",
   "execution_count": null,
   "metadata": {
    "collapsed": false
   },
   "outputs": [],
   "source": [
    "complex_1 * complex_2"
   ]
  },
  {
   "cell_type": "markdown",
   "metadata": {},
   "source": [
    "As it should in math, the absolute value function works correctly for complex numbers (i.e. it returns the distance from the (0,0) origin of the complex plane)"
   ]
  },
  {
   "cell_type": "code",
   "execution_count": null,
   "metadata": {
    "collapsed": false
   },
   "outputs": [],
   "source": [
    "abs(complex_2)"
   ]
  },
  {
   "cell_type": "markdown",
   "metadata": {},
   "source": [
    "As you might know $e^{i\\pi} + 1 = 0$. Even using bad approximations to both $e$ and $\\pi$ we get remarkably close to zero"
   ]
  },
  {
   "cell_type": "code",
   "execution_count": null,
   "metadata": {
    "collapsed": false
   },
   "outputs": [],
   "source": [
    "(2.718281828 ** (0-3.14159265638j)) + 1"
   ]
  }
 ],
 "metadata": {
  "anaconda-cloud": {},
  "kernelspec": {
   "display_name": "Python [default]",
   "language": "python",
   "name": "python3"
  },
  "language_info": {
   "codemirror_mode": {
    "name": "ipython",
    "version": 3
   },
   "file_extension": ".py",
   "mimetype": "text/x-python",
   "name": "python",
   "nbconvert_exporter": "python",
   "pygments_lexer": "ipython3",
   "version": "3.5.2"
  }
 },
 "nbformat": 4,
 "nbformat_minor": 0
}

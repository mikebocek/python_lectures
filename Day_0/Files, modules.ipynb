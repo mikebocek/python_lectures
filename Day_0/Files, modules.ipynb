{
 "cells": [
  {
   "cell_type": "code",
   "execution_count": 1,
   "metadata": {
    "collapsed": true
   },
   "outputs": [],
   "source": [
    "from __future__ import division, print_function, unicode_literals\n",
    "import unittest"
   ]
  },
  {
   "cell_type": "markdown",
   "metadata": {},
   "source": [
    "# Files\n",
    "\n",
    "## Reading files\n",
    "\n",
    "Until now, all of the data that we've worked on has had to be typed directly into the Python program we're using. While this is possible for small datasets, it would quickly become painful for anything that we actually would need the power of Python to analyze.\n",
    "\n",
    "Thankfully, it's easy to open files and read their contents into a string in Python. There's an example file in the directory \"assets\" called \"small_text.txt\". Let's open it and read its contents to a variable"
   ]
  },
  {
   "cell_type": "code",
   "execution_count": 2,
   "metadata": {
    "collapsed": false
   },
   "outputs": [
    {
     "name": "stdout",
     "output_type": "stream",
     "text": [
      "Hey there! This is the first file you've opened in python\n",
      "Files generally consist of lines of text\n",
      "Each line can be as long as you want! This one is 64 characters!\n",
      "\n"
     ]
    }
   ],
   "source": [
    "with open('assets/small.txt', 'r') as small_file:\n",
    "    small_data = small_file.read() # small_file is a file object\n",
    "\n",
    "print(small_data)"
   ]
  },
  {
   "cell_type": "markdown",
   "metadata": {},
   "source": [
    "Let's discuss all the parts of the first line, because this is the boilerplate you will follow to open files in Python pretty much every time.\n",
    "\n",
    "The open() function opens a \"connection\" to a file on your hard drive in memory. \n",
    "\n",
    "It takes two arguments: the first is a path to the file, and the second is a string that specifies a \"mode\" in which the file is opened. You can find a full list of modes at https://docs.python.org/3/library/functions.html#open, but for our purposes, we'll worry about 'r', which means read, and 'w', which means write. \n",
    "\n",
    "The simplest way to call open would be to do the following:\n",
    "\n",
    "```python\n",
    "small_file = open('assets/small.txt', 'r')\n",
    "# Do stuff with the file, read contents, etc\n",
    "small_file.close()\n",
    "```\n",
    "\n",
    "The reason why we don't write the file opening code this way is because this forces us to remember to explicitly close the file when we're done with it. This is absolutely necessary to do. If we forget to close the file, it could potentially corrupt the data in the file. \n",
    "\n",
    "This seems easy enough - but it's better not to risk forgetting this close command. Maybe more importantly, if the program crashes while you're handling the contents of the file, then it will never reach the close command and never close the connection.\n",
    "\n",
    "When you call \n",
    "\n",
    "```python\n",
    "with open() as variable:\n",
    "    # Do stuff\n",
    "```\n",
    "\n",
    "This is equivalent to running the open command and assigning it to the variable after \"as.\" The big advantage of this method of opening a file is that the file is automatically closed when we leave the indented block after the with statement. This happens even if a statement in the with block causes the program to crash."
   ]
  },
  {
   "cell_type": "markdown",
   "metadata": {},
   "source": [
    "## File methods\n",
    "\n",
    "Like lists, strings, dictionaries, and other objects, files in Python also have a set of associated methods. The two most useful methods that you will encounter are \n",
    "\n",
    "1. .read() - which reads the entire contents of the file into a string (including the \\n newline characters)\n",
    "2. .readlines() - which reads each line of the file into a seperate string, and returns a list of the strings\n",
    "\n",
    "Let's see readlines in action on the same file"
   ]
  },
  {
   "cell_type": "code",
   "execution_count": 12,
   "metadata": {
    "collapsed": false
   },
   "outputs": [
    {
     "name": "stdout",
     "output_type": "stream",
     "text": [
      "[\"Hey there! This is the first file you've opened in python\\n\", 'Files generally consist of lines of text\\n', 'Each line can be as long as you want! This one is 64 characters!\\n']\n"
     ]
    }
   ],
   "source": [
    "with open('assets/small.txt', 'r') as small_file:\n",
    "    small_data_lines = small_file.readlines() # small_file is a file object\n",
    "\n",
    "print(small_data_lines)"
   ]
  },
  {
   "cell_type": "markdown",
   "metadata": {},
   "source": [
    "As you may have noticed, each of these lines ends with a newline character (represented by python as \"\\n\".) If you want to get rid of these newlines from each file, there's a useful string method, .strip(), which gets rid of newlines from the end of strings. Let's re-copy these lines into a new list, stripping each one of the newline character:"
   ]
  },
  {
   "cell_type": "code",
   "execution_count": 13,
   "metadata": {
    "collapsed": false
   },
   "outputs": [
    {
     "data": {
      "text/plain": [
       "[\"Hey there! This is the first file you've opened in python\",\n",
       " 'Files generally consist of lines of text',\n",
       " 'Each line can be as long as you want! This one is 64 characters!']"
      ]
     },
     "execution_count": 13,
     "metadata": {},
     "output_type": "execute_result"
    }
   ],
   "source": [
    "stripped_lines = []\n",
    "for line in small_data_lines:\n",
    "    stripped_lines.append(line.strip())\n",
    "stripped_lines"
   ]
  },
  {
   "cell_type": "markdown",
   "metadata": {},
   "source": [
    "## Iterating over files\n",
    "\n",
    ".read() and .readlines() are useful functions, but they have a major disadvantage. These functions require us to load the whole file into memory at once as a string. Often you might be working with datasets that take up multiple gigabytes on the hard drive, so trying to load the entire file at once would be significant strain on your computer.\n",
    "\n",
    "Thankfully, like lists, dictionaries, and many other objects in Python, you can use a *for* loop to visit each individual line of a file. If whatever you want to do with the file does not require the full dataset at once, this will make your program run much, much faster on large datasets.\n",
    "\n",
    "To see an example of iterating over a file, let's write a program to print only lines from our file that contain an exclamation mark:"
   ]
  },
  {
   "cell_type": "code",
   "execution_count": 14,
   "metadata": {
    "collapsed": false
   },
   "outputs": [
    {
     "name": "stdout",
     "output_type": "stream",
     "text": [
      "Hey there! This is the first file you've opened in python\n",
      "Each line can be as long as you want! This one is 64 characters!\n"
     ]
    }
   ],
   "source": [
    "with open('assets/small.txt', 'r') as small_file:\n",
    "    for line in small_file:\n",
    "        if '!' in line:\n",
    "            print(line.strip())"
   ]
  },
  {
   "cell_type": "markdown",
   "metadata": {},
   "source": [
    "## Writing to files\n",
    "\n",
    "In addition to reading from files, we can also write text to new files. We do this in a similar method to reading, but instead of using 'r' as the second argument to open(), we use 'w'. Let's see a quick example of writing to a file, and then reading it's contents back"
   ]
  },
  {
   "cell_type": "code",
   "execution_count": 15,
   "metadata": {
    "collapsed": false
   },
   "outputs": [
    {
     "name": "stdout",
     "output_type": "stream",
     "text": [
      "Here's a lineHere's another line\n"
     ]
    }
   ],
   "source": [
    "with open('assets/no_new_lines.txt', 'w') as file_1:\n",
    "    file_1.write(\"Here's a line\")\n",
    "    file_1.write(\"Here's another line\")\n",
    "\n",
    "with open('assets/no_new_lines.txt', 'r') as file_1:\n",
    "    print(file_1.read())"
   ]
  },
  {
   "cell_type": "markdown",
   "metadata": {},
   "source": [
    "Notice anything wrong? Although we wrote to the file twice, we only have one line in the file. This is because we did not append newline \"\\n\" characters to the end of the strings that we wrote to the file. Thus, Python just added our second set of characters directly after the first.\n",
    "\n",
    "Here's the same example with newlines"
   ]
  },
  {
   "cell_type": "code",
   "execution_count": 16,
   "metadata": {
    "collapsed": false
   },
   "outputs": [
    {
     "name": "stdout",
     "output_type": "stream",
     "text": [
      "Here's a line\n",
      "Here's another line\n",
      "\n"
     ]
    }
   ],
   "source": [
    "with open('assets/no_new_lines.txt', 'w') as file_1:\n",
    "    file_1.write(\"Here's a line\\n\")\n",
    "    file_1.write(\"Here's another line\\n\")\n",
    "\n",
    "with open('assets/no_new_lines.txt', 'r') as file_1:\n",
    "    print(file_1.read())"
   ]
  },
  {
   "cell_type": "markdown",
   "metadata": {},
   "source": [
    "Much better!"
   ]
  },
  {
   "cell_type": "markdown",
   "metadata": {},
   "source": [
    "## More complex example: parsing a FASTA file\n",
    "\n",
    "FASTA is a file format for storing nucleotide or peptide sequences. The format is quite simple: each line is either a descriptor line (name of a sequence) or the sequence. All lines that start with descriptors begin with a > character. Any lines between descriptors are considered to be part of the sequence. Blank lines are skipped. An example is given below: \n",
    "```\n",
    ">dna_sequence_one_line\n",
    "ACTGGTTGGTGTAGGTGCCGTGTGCACACGTGGTGCACGTCACGGGCGTGACCA\n",
    "\n",
    ">dna_sequence_two_lines\n",
    "ACTGGTTGGTGTAGGTGCCGTGTGCGAATTCGGTGCACGTCACGGGCGTGACCA\n",
    "TGGTGCACGTCACGGGCGTGACCAACTGGTTGGTGTAGGTGCCGTGTGCACAGT\n",
    "```\n",
    "\n",
    "So in this case, we have two sequences stored in the file. Note that the line breaks in the second DNA sequence do not count as meaningful for the sequence."
   ]
  },
  {
   "cell_type": "code",
   "execution_count": 16,
   "metadata": {
    "collapsed": true
   },
   "outputs": [],
   "source": [
    "def parse_fasta(filename):\n",
    "    output = {}\n",
    "    current_seq_name = '' # Initialize a variable for the current sequence name that we'll update when we see a >\n",
    "    with open(filename, 'r') as f:\n",
    "        for line in f:\n",
    "            if line.startswith('>'): # Start of a new sequence\n",
    "                current_seq_name = line[1:].strip() \n",
    "                output[current_seq_name] = ''\n",
    "            else: # Sequence after a name\n",
    "                output[current_seq_name] += line.strip() # Append the current line to the current sequence\n",
    "    return output"
   ]
  },
  {
   "cell_type": "code",
   "execution_count": 15,
   "metadata": {
    "collapsed": false
   },
   "outputs": [
    {
     "data": {
      "text/plain": [
       "{'dna_sequence_one_line': 'ACTGGTTGGTGTAGGTGCCGTGTGCACACGTGGTGCACGTCACGGGCGTGACCA',\n",
       " 'dna_sequence_two_lines': 'ACTGGTTGGTGTAGGTGCCGTGTGCGAATTCGGTGCACGTCACGGGCGTGACCATGGTGCACGTCACGGGCGTGACCAACTGGTTGGTGTAGGTGCCGTGTGCACAGT'}"
      ]
     },
     "execution_count": 15,
     "metadata": {},
     "output_type": "execute_result"
    }
   ],
   "source": [
    "parse_fasta('assets/simple.fasta')"
   ]
  },
  {
   "cell_type": "markdown",
   "metadata": {},
   "source": [
    "As you can see, this simple function is quite powerful for dealing with a format that we often see in biology!"
   ]
  },
  {
   "cell_type": "markdown",
   "metadata": {
    "collapsed": true
   },
   "source": [
    "# Exercises!\n",
    "\n",
    "This has been a simpler chapter than most, so I'll just give a few short excercises.\n",
    "\n",
    "## 1. Calculate the sum of the numbers in a file\n",
    "\n",
    "The file 'assets/numbers.txt' contains a list of numbers, one per line. Read this file and calculate the sum of all of the numbers in it. Save the answer in a variable called full_sum"
   ]
  },
  {
   "cell_type": "code",
   "execution_count": null,
   "metadata": {
    "collapsed": false
   },
   "outputs": [],
   "source": [
    "class TestSum(unittest.TestCase):\n",
    "    def test_correct_sum(self):\n",
    "        self.assertEqual(full_sum, 10021.42, 'Looks like something went wrong!')\n",
    "    def test_not_string(self):\n",
    "        self.assertFalse(isinstance(full_sum, str), 'Did you remember to convert each line to a number?')\n",
    "    \n",
    "suite = unittest.TestLoader().loadTestsFromTestCase(TestSum)\n",
    "unittest.TextTestRunner(verbosity=2).run(suite)"
   ]
  },
  {
   "cell_type": "markdown",
   "metadata": {},
   "source": [
    "## 2. Write lines with an EcoRI cut site from a FASTA file\n",
    "\n",
    "As we saw in a previous chapter, EcoRI is an enzyme that recognizes the sequence \"GAATTC.\" Here, write a function to iterate through a dictionary with sequence names as the keys, and sequences as the values, like the one generated by parse_fasta(). For every sequence that contains an EcoRI cut site, write it to an opened file in FASTA format (one line starting with > with the name, then another line containing the sequence.) \n",
    "\n",
    "Your function should take a file as an input, not a filename. So, to call it you would write\n",
    "\n",
    "```python\n",
    "with open('assets/output.fasta', 'w') as f:\n",
    "    write_ecori_only(fasta_data, f)\n",
    "```\n",
    "\n",
    "and within the function body you would not use a with/as statement."
   ]
  },
  {
   "cell_type": "code",
   "execution_count": 32,
   "metadata": {
    "collapsed": true
   },
   "outputs": [],
   "source": [
    "def write_ecori_only(input_sequences, output_file):\n",
    "    EcoRI_cut_site = 'GAATTC'\n",
    "    for name, sequence in input_sequences.items():\n",
    "        if EcoRI_cut_site in sequence:\n",
    "            f.write('>' + name + '\\n')\n",
    "            f.write(sequence + '\\n')"
   ]
  },
  {
   "cell_type": "code",
   "execution_count": 40,
   "metadata": {
    "collapsed": false
   },
   "outputs": [
    {
     "name": "stderr",
     "output_type": "stream",
     "text": [
      "test_simple_fasta (__main__.TestEcoRIWriter) ... ERROR\n",
      "\n",
      "======================================================================\n",
      "ERROR: test_simple_fasta (__main__.TestEcoRIWriter)\n",
      "----------------------------------------------------------------------\n",
      "Traceback (most recent call last):\n",
      "  File \"<ipython-input-40-93fc5140e769>\", line 12, in test_simple_fasta\n",
      "    write_ecori_only(fasta_data, f)\n",
      "  File \"<ipython-input-32-432caecddf4f>\", line 5, in write_ecori_only\n",
      "    f.write('>' + name + '\\n')\n",
      "ValueError: I/O operation on closed file\n",
      "\n",
      "----------------------------------------------------------------------\n",
      "Ran 1 test in 0.003s\n",
      "\n",
      "FAILED (errors=1)\n"
     ]
    },
    {
     "data": {
      "text/plain": [
       "<unittest.runner.TextTestResult run=1 errors=1 failures=0>"
      ]
     },
     "execution_count": 40,
     "metadata": {},
     "output_type": "execute_result"
    }
   ],
   "source": [
    "import io\n",
    "\n",
    "sample_output=\"\"\"\n",
    ">dna_sequence_two_lines\n",
    "ACTGGTTGGTGTAGGTGCCGTGTGCGAATTCGGTGCACGTCACGGGCGTGACCATGGTGCACGTCACGGGCGTGACCAACTGGTTGGTGTAGGTGCCGTGTGCACAGT\n",
    "\"\"\"\n",
    "\n",
    "class TestEcoRIWriter(unittest.TestCase):\n",
    "    def test_simple_fasta(self):\n",
    "        fasta_data = parse_fasta('assets/simple.fasta') \n",
    "        with io.StringIO() as f:\n",
    "            write_ecori_only(fasta_data, f)\n",
    "            self.assertEqual(f.getvalue(), sample_output)\n",
    "\n",
    "suite = unittest.TestLoader().loadTestsFromTestCase(TestEcoRIWriter)\n",
    "unittest.TextTestRunner(verbosity=2).run(suite)"
   ]
  },
  {
   "cell_type": "code",
   "execution_count": 41,
   "metadata": {
    "collapsed": false,
    "scrolled": true
   },
   "outputs": [
    {
     "name": "stdout",
     "output_type": "stream",
     "text": [
      ">dna_sequence_two_lines\n",
      "ACTGGTTGGTGTAGGTGCCGTGTGCGAATTCGGTGCACGTCACGGGCGTGACCATGGTGCACGTCACGGGCGTGACCAACTGGTTGGTGTAGGTGCCGTGTGCACAGT\n",
      "\n"
     ]
    }
   ],
   "source": [
    "fasta_data = parse_fasta('assets/simple.fasta') \n",
    "with io.StringIO() as f:\n",
    "    write_ecori_only(fasta_data, f)\n",
    "    print(f.getvalue())\n",
    " "
   ]
  },
  {
   "cell_type": "code",
   "execution_count": 34,
   "metadata": {
    "collapsed": false
   },
   "outputs": [
    {
     "data": {
      "text/plain": [
       "{'dna_sequence_one_line': 'ACTGGTTGGTGTAGGTGCCGTGTGCACACGTGGTGCACGTCACGGGCGTGACCA',\n",
       " 'dna_sequence_two_lines': 'ACTGGTTGGTGTAGGTGCCGTGTGCGAATTCGGTGCACGTCACGGGCGTGACCATGGTGCACGTCACGGGCGTGACCAACTGGTTGGTGTAGGTGCCGTGTGCACAGT'}"
      ]
     },
     "execution_count": 34,
     "metadata": {},
     "output_type": "execute_result"
    }
   ],
   "source": [
    "fasta_data"
   ]
  },
  {
   "cell_type": "code",
   "execution_count": null,
   "metadata": {
    "collapsed": true
   },
   "outputs": [],
   "source": []
  }
 ],
 "metadata": {
  "anaconda-cloud": {},
  "kernelspec": {
   "display_name": "Python [default]",
   "language": "python",
   "name": "python3"
  },
  "language_info": {
   "codemirror_mode": {
    "name": "ipython",
    "version": 3
   },
   "file_extension": ".py",
   "mimetype": "text/x-python",
   "name": "python",
   "nbconvert_exporter": "python",
   "pygments_lexer": "ipython3",
   "version": "3.5.2"
  }
 },
 "nbformat": 4,
 "nbformat_minor": 1
}

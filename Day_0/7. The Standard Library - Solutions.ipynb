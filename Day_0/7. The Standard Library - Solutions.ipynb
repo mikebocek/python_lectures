{
 "cells": [
  {
   "cell_type": "code",
   "execution_count": 1,
   "metadata": {
    "collapsed": true
   },
   "outputs": [],
   "source": [
    "from __future__ import division, print_function, unicode_literals"
   ]
  },
  {
   "cell_type": "markdown",
   "metadata": {},
   "source": [
    "# Modules \n",
    "\n",
    "## Python, the Standard Library and Beyond\n",
    "\n",
    "Python is a relatively small and tight language. Though it offers many useful building blocks as we've seen (strings, lists, dictionaries, etc), these are just that: building blocks.  \n",
    "\n",
    "In addition to these fundemental, basic types, Python has a huge galaxy of additional modules and plugins that you can make use of in your code. These extend the language and make it possible to do almost anything that's possible with a computer. With Python, you you can create bots that look for cheap cars on Craiglist (I've done this.) You can run web servers. You can even use artificial intelligence and neural networks to recognize features in images, or even transfer the artistic style of a Picasso painting onto a picture (https://github.com/lengstrom/fast-style-transfer, if you don't believe me!) \n",
    "\n",
    "In this set of notes, we'll quickly blaze through how to import packages, how to install new packages, and a few of the standard packages that ship with every installation of Python (known as the Python standard library.) You can find a full list of packages in the standard library, and extensive documentation for them at https://docs.python.org/3.5/py-modindex.html. Needless to say, there's too much stuff even in just the Standard Library to describe every package, so we'll focus on a handful that you might find useful.\n",
    "\n",
    "In the later lectures, we'll turn our full attention to a particular set of these packages, using what's known as the scipy stack (numpy, matplotlib, pandas, seaborn and scipy) to analyze and vizualize data.\n",
    "\n",
    "Let's start by importing the *math* package, which provides some helper functions that calculate square roots, cosines, and other things that Python cannot do with the built in functions. To do this, we just type"
   ]
  },
  {
   "cell_type": "code",
   "execution_count": 5,
   "metadata": {
    "collapsed": true
   },
   "outputs": [],
   "source": [
    "import math"
   ]
  },
  {
   "cell_type": "markdown",
   "metadata": {},
   "source": [
    "When you load a module into Python, all of the associated elements of that module are \"confined\" to the module. What I mean by this is that the math module supplies a cosine function called *cos*, and a constant called *pi*, but you cannot these items just by typing \n",
    "\n",
    "```python\n",
    "cos(PI/2)\n",
    "```\n",
    "\n",
    "into the interpreter. Instead, we call functions from the math module the same way that we call methods, with a dot (.)"
   ]
  },
  {
   "cell_type": "code",
   "execution_count": 6,
   "metadata": {
    "collapsed": false
   },
   "outputs": [
    {
     "data": {
      "text/plain": [
       "6.123233995736766e-17"
      ]
     },
     "execution_count": 6,
     "metadata": {},
     "output_type": "execute_result"
    }
   ],
   "source": [
    "math.cos(math.pi/2)"
   ]
  },
  {
   "cell_type": "markdown",
   "metadata": {},
   "source": [
    "Python programmers would say that these functions and modules are stored in the math module's *namespace*. Python programmers use *namespaces* because they keep the number of names in your program to a miniumum, which minimizes the chances of accidentally overwritting something important if you mis-name a variable. \n",
    "\n",
    "Namespaces also help to group related functions together: if you're looking for a particular mathematical function, you can easily type math, followed by a dot and a tab at the interpreter, and it will tell you a full list of the available functions within the math module. Try it below!"
   ]
  },
  {
   "cell_type": "code",
   "execution_count": 7,
   "metadata": {
    "collapsed": false
   },
   "outputs": [
    {
     "ename": "SyntaxError",
     "evalue": "invalid syntax (<ipython-input-7-186ff497df9b>, line 1)",
     "output_type": "error",
     "traceback": [
      "\u001b[0;36m  File \u001b[0;32m\"<ipython-input-7-186ff497df9b>\"\u001b[0;36m, line \u001b[0;32m1\u001b[0m\n\u001b[0;31m    math.\u001b[0m\n\u001b[0m         ^\u001b[0m\n\u001b[0;31mSyntaxError\u001b[0m\u001b[0;31m:\u001b[0m invalid syntax\n"
     ]
    }
   ],
   "source": [
    "math."
   ]
  },
  {
   "cell_type": "markdown",
   "metadata": {},
   "source": [
    "## Saving non-text data to a file\n",
    "\n",
    "We saw in the \"Files\" chapter how we can save text to a file. This is obviously useful if the data you are dealing with is a string. It's a little less useful, however, if your data is a list of dictionaries, or has some other sort of complex structure.\n",
    "\n",
    "If you're working with a complex object in Python and you want to save it to a file, there are two major file types (each with their own Python module) that may be useful to you. Let's see them both in action\n",
    "\n",
    "### JSON \n",
    "\n",
    "JSON stands for JavaScript Object Notation. It's a file type that is stored in plain text, but that's designed to represent nested structures of lists and dictionaries, containing text and numeric data. Basically every type of data that we've talked about so far can be stored in a JSON file, with the exception of File objects.\n",
    "\n",
    "JSON has two major advantages:\n",
    "1. It is human readable. You can open a JSON file and clearly see the structure of the data\n",
    "2. It is supported by a variety of other programming languages, and is the major way of sending raw data around on the internet\n",
    "\n",
    "There are two major drawbacks to using JSON:\n",
    "1. Since the files are stored as text, they can be quite large\n",
    "2. The format can only store lists, dictionaries, strings, numbers and booleans. It cannot functions or any of the custom objects we will encounter later\n",
    "\n",
    "Let's create a complicated dictionary structure, and store it in a JSON file. First, let's import the package Python provides for dealing with JSON files, called *json*"
   ]
  },
  {
   "cell_type": "code",
   "execution_count": 8,
   "metadata": {
    "collapsed": true
   },
   "outputs": [],
   "source": [
    "import json"
   ]
  },
  {
   "cell_type": "code",
   "execution_count": 9,
   "metadata": {
    "collapsed": true
   },
   "outputs": [],
   "source": [
    "complicated_structure = { \n",
    "    'letters to numbers': {'2': 2, '3': 3},\n",
    "    'random_list_of_data': [1,5,2,6,'a',7,{'a': 2}]\n",
    "}"
   ]
  },
  {
   "cell_type": "markdown",
   "metadata": {},
   "source": [
    "Now let's use the JSON library to save this to a file. We'll open a file for writing like normal, and use the .dump() function in the json module to write this data to the file we've opened. \n",
    "\n",
    "The .dump() function takes two inputs: the first is the Python object that we want to save, and the second is the file object that we want to save it to:"
   ]
  },
  {
   "cell_type": "code",
   "execution_count": 10,
   "metadata": {
    "collapsed": true
   },
   "outputs": [],
   "source": [
    "with open('assets/complicated_structure.json', 'w') as json_output:\n",
    "    json.dump(complicated_structure, json_output)"
   ]
  },
  {
   "cell_type": "markdown",
   "metadata": {},
   "source": [
    "We can now read this data in again, using the json.load() function, which reads a file object's data into a Python data structure. We'll also read the string data from the file as the variable raw_data"
   ]
  },
  {
   "cell_type": "code",
   "execution_count": 11,
   "metadata": {
    "collapsed": false
   },
   "outputs": [],
   "source": [
    "with open('assets/complicated_structure.json') as json_input:\n",
    "    reloaded_structure = json.load(json_input)\n",
    "    json_input.seek(0) # \"Rewinds the file\", necessary since we're reading the file twice\n",
    "    raw_data = json_input.read()"
   ]
  },
  {
   "cell_type": "markdown",
   "metadata": {},
   "source": [
    "Looking at the raw data, you can see that it strongly resembles the way that python data structures are laid out"
   ]
  },
  {
   "cell_type": "code",
   "execution_count": 12,
   "metadata": {
    "collapsed": false
   },
   "outputs": [
    {
     "data": {
      "text/plain": [
       "'{\"letters to numbers\": {\"3\": 3, \"2\": 2}, \"random_list_of_data\": [1, 5, 2, 6, \"a\", 7, {\"a\": 2}]}'"
      ]
     },
     "execution_count": 12,
     "metadata": {},
     "output_type": "execute_result"
    }
   ],
   "source": [
    "raw_data"
   ]
  },
  {
   "cell_type": "markdown",
   "metadata": {},
   "source": [
    "And you can see that the JSON library identically recaptures our original dictionary structure"
   ]
  },
  {
   "cell_type": "code",
   "execution_count": 13,
   "metadata": {
    "collapsed": false
   },
   "outputs": [
    {
     "data": {
      "text/plain": [
       "{'letters to numbers': {'2': 2, '3': 3},\n",
       " 'random_list_of_data': [1, 5, 2, 6, 'a', 7, {'a': 2}]}"
      ]
     },
     "execution_count": 13,
     "metadata": {},
     "output_type": "execute_result"
    }
   ],
   "source": [
    "reloaded_structure"
   ]
  },
  {
   "cell_type": "markdown",
   "metadata": {},
   "source": [
    "To illustrate some of the limitations of JSON, let's try to store a function. Instead of using the .dump() function which would require us to open a file, we'll instead use it's close variant .dumps(), which outputs a string"
   ]
  },
  {
   "cell_type": "code",
   "execution_count": 14,
   "metadata": {
    "collapsed": true
   },
   "outputs": [],
   "source": [
    "def function_to_store(number_1, number_2):\n",
    "    return (number_1 - number_2)/(number_1 + number_2)"
   ]
  },
  {
   "cell_type": "code",
   "execution_count": 15,
   "metadata": {
    "collapsed": false
   },
   "outputs": [
    {
     "ename": "TypeError",
     "evalue": "<function function_to_store at 0x107436730> is not JSON serializable",
     "output_type": "error",
     "traceback": [
      "\u001b[0;31m---------------------------------------------------------------------------\u001b[0m",
      "\u001b[0;31mTypeError\u001b[0m                                 Traceback (most recent call last)",
      "\u001b[0;32m<ipython-input-15-e96c37be40c4>\u001b[0m in \u001b[0;36m<module>\u001b[0;34m()\u001b[0m\n\u001b[0;32m----> 1\u001b[0;31m \u001b[0mjson\u001b[0m\u001b[0;34m.\u001b[0m\u001b[0mdumps\u001b[0m\u001b[0;34m(\u001b[0m\u001b[0mfunction_to_store\u001b[0m\u001b[0;34m)\u001b[0m\u001b[0;34m\u001b[0m\u001b[0m\n\u001b[0m",
      "\u001b[0;32m/Users/michaelbocek/anaconda3/lib/python3.5/json/__init__.py\u001b[0m in \u001b[0;36mdumps\u001b[0;34m(obj, skipkeys, ensure_ascii, check_circular, allow_nan, cls, indent, separators, default, sort_keys, **kw)\u001b[0m\n\u001b[1;32m    228\u001b[0m         \u001b[0mcls\u001b[0m \u001b[0;32mis\u001b[0m \u001b[0;32mNone\u001b[0m \u001b[0;32mand\u001b[0m \u001b[0mindent\u001b[0m \u001b[0;32mis\u001b[0m \u001b[0;32mNone\u001b[0m \u001b[0;32mand\u001b[0m \u001b[0mseparators\u001b[0m \u001b[0;32mis\u001b[0m \u001b[0;32mNone\u001b[0m \u001b[0;32mand\u001b[0m\u001b[0;34m\u001b[0m\u001b[0m\n\u001b[1;32m    229\u001b[0m         default is None and not sort_keys and not kw):\n\u001b[0;32m--> 230\u001b[0;31m         \u001b[0;32mreturn\u001b[0m \u001b[0m_default_encoder\u001b[0m\u001b[0;34m.\u001b[0m\u001b[0mencode\u001b[0m\u001b[0;34m(\u001b[0m\u001b[0mobj\u001b[0m\u001b[0;34m)\u001b[0m\u001b[0;34m\u001b[0m\u001b[0m\n\u001b[0m\u001b[1;32m    231\u001b[0m     \u001b[0;32mif\u001b[0m \u001b[0mcls\u001b[0m \u001b[0;32mis\u001b[0m \u001b[0;32mNone\u001b[0m\u001b[0;34m:\u001b[0m\u001b[0;34m\u001b[0m\u001b[0m\n\u001b[1;32m    232\u001b[0m         \u001b[0mcls\u001b[0m \u001b[0;34m=\u001b[0m \u001b[0mJSONEncoder\u001b[0m\u001b[0;34m\u001b[0m\u001b[0m\n",
      "\u001b[0;32m/Users/michaelbocek/anaconda3/lib/python3.5/json/encoder.py\u001b[0m in \u001b[0;36mencode\u001b[0;34m(self, o)\u001b[0m\n\u001b[1;32m    196\u001b[0m         \u001b[0;31m# exceptions aren't as detailed.  The list call should be roughly\u001b[0m\u001b[0;34m\u001b[0m\u001b[0;34m\u001b[0m\u001b[0m\n\u001b[1;32m    197\u001b[0m         \u001b[0;31m# equivalent to the PySequence_Fast that ''.join() would do.\u001b[0m\u001b[0;34m\u001b[0m\u001b[0;34m\u001b[0m\u001b[0m\n\u001b[0;32m--> 198\u001b[0;31m         \u001b[0mchunks\u001b[0m \u001b[0;34m=\u001b[0m \u001b[0mself\u001b[0m\u001b[0;34m.\u001b[0m\u001b[0miterencode\u001b[0m\u001b[0;34m(\u001b[0m\u001b[0mo\u001b[0m\u001b[0;34m,\u001b[0m \u001b[0m_one_shot\u001b[0m\u001b[0;34m=\u001b[0m\u001b[0;32mTrue\u001b[0m\u001b[0;34m)\u001b[0m\u001b[0;34m\u001b[0m\u001b[0m\n\u001b[0m\u001b[1;32m    199\u001b[0m         \u001b[0;32mif\u001b[0m \u001b[0;32mnot\u001b[0m \u001b[0misinstance\u001b[0m\u001b[0;34m(\u001b[0m\u001b[0mchunks\u001b[0m\u001b[0;34m,\u001b[0m \u001b[0;34m(\u001b[0m\u001b[0mlist\u001b[0m\u001b[0;34m,\u001b[0m \u001b[0mtuple\u001b[0m\u001b[0;34m)\u001b[0m\u001b[0;34m)\u001b[0m\u001b[0;34m:\u001b[0m\u001b[0;34m\u001b[0m\u001b[0m\n\u001b[1;32m    200\u001b[0m             \u001b[0mchunks\u001b[0m \u001b[0;34m=\u001b[0m \u001b[0mlist\u001b[0m\u001b[0;34m(\u001b[0m\u001b[0mchunks\u001b[0m\u001b[0;34m)\u001b[0m\u001b[0;34m\u001b[0m\u001b[0m\n",
      "\u001b[0;32m/Users/michaelbocek/anaconda3/lib/python3.5/json/encoder.py\u001b[0m in \u001b[0;36miterencode\u001b[0;34m(self, o, _one_shot)\u001b[0m\n\u001b[1;32m    254\u001b[0m                 \u001b[0mself\u001b[0m\u001b[0;34m.\u001b[0m\u001b[0mkey_separator\u001b[0m\u001b[0;34m,\u001b[0m \u001b[0mself\u001b[0m\u001b[0;34m.\u001b[0m\u001b[0mitem_separator\u001b[0m\u001b[0;34m,\u001b[0m \u001b[0mself\u001b[0m\u001b[0;34m.\u001b[0m\u001b[0msort_keys\u001b[0m\u001b[0;34m,\u001b[0m\u001b[0;34m\u001b[0m\u001b[0m\n\u001b[1;32m    255\u001b[0m                 self.skipkeys, _one_shot)\n\u001b[0;32m--> 256\u001b[0;31m         \u001b[0;32mreturn\u001b[0m \u001b[0m_iterencode\u001b[0m\u001b[0;34m(\u001b[0m\u001b[0mo\u001b[0m\u001b[0;34m,\u001b[0m \u001b[0;36m0\u001b[0m\u001b[0;34m)\u001b[0m\u001b[0;34m\u001b[0m\u001b[0m\n\u001b[0m\u001b[1;32m    257\u001b[0m \u001b[0;34m\u001b[0m\u001b[0m\n\u001b[1;32m    258\u001b[0m def _make_iterencode(markers, _default, _encoder, _indent, _floatstr,\n",
      "\u001b[0;32m/Users/michaelbocek/anaconda3/lib/python3.5/json/encoder.py\u001b[0m in \u001b[0;36mdefault\u001b[0;34m(self, o)\u001b[0m\n\u001b[1;32m    177\u001b[0m \u001b[0;34m\u001b[0m\u001b[0m\n\u001b[1;32m    178\u001b[0m         \"\"\"\n\u001b[0;32m--> 179\u001b[0;31m         \u001b[0;32mraise\u001b[0m \u001b[0mTypeError\u001b[0m\u001b[0;34m(\u001b[0m\u001b[0mrepr\u001b[0m\u001b[0;34m(\u001b[0m\u001b[0mo\u001b[0m\u001b[0;34m)\u001b[0m \u001b[0;34m+\u001b[0m \u001b[0;34m\" is not JSON serializable\"\u001b[0m\u001b[0;34m)\u001b[0m\u001b[0;34m\u001b[0m\u001b[0m\n\u001b[0m\u001b[1;32m    180\u001b[0m \u001b[0;34m\u001b[0m\u001b[0m\n\u001b[1;32m    181\u001b[0m     \u001b[0;32mdef\u001b[0m \u001b[0mencode\u001b[0m\u001b[0;34m(\u001b[0m\u001b[0mself\u001b[0m\u001b[0;34m,\u001b[0m \u001b[0mo\u001b[0m\u001b[0;34m)\u001b[0m\u001b[0;34m:\u001b[0m\u001b[0;34m\u001b[0m\u001b[0m\n",
      "\u001b[0;31mTypeError\u001b[0m: <function function_to_store at 0x107436730> is not JSON serializable"
     ]
    }
   ],
   "source": [
    "json.dumps(function_to_store)"
   ]
  },
  {
   "cell_type": "markdown",
   "metadata": {},
   "source": [
    "As you can see, Python refuses to store a function as JSON, because the file format is extremely strictly defined."
   ]
  },
  {
   "cell_type": "markdown",
   "metadata": {},
   "source": [
    "### Pickle\n",
    "\n",
    "Pickle is a Python library that behaves very similarly to JSON. It produces \".pickle\" files, which are only used by Python, but can represent any Python type. These files are not necessarily backwards compatible, so they are best used for short-term storage.\n",
    "\n",
    "Unlike JSON, .pickle files are stored as \"binary data,\" which is a highly compressed, non-human-readible type of file. This means that when we open the file to write the data, we have to open it in \"binary mode.\" This is done by using 'wb' instead of 'w' in the mode argument of open(), as you can see below. When we read the file back in, we'll use 'rb' as the mode instead of 'r'\n",
    "\n",
    "Let's try out pickle by using it to store the function above, and then re-loading the function:"
   ]
  },
  {
   "cell_type": "code",
   "execution_count": 16,
   "metadata": {
    "collapsed": false
   },
   "outputs": [],
   "source": [
    "import pickle \n",
    "\n",
    "with open('assets/function.pickle', 'wb') as pickle_output:\n",
    "    pickle.dump(function_to_store, pickle_output)"
   ]
  },
  {
   "cell_type": "code",
   "execution_count": 17,
   "metadata": {
    "collapsed": true
   },
   "outputs": [],
   "source": [
    "with open('assets/function.pickle', 'rb') as pickle_input:\n",
    "    reloaded_function = pickle.load(pickle_input)"
   ]
  },
  {
   "cell_type": "code",
   "execution_count": 18,
   "metadata": {
    "collapsed": false
   },
   "outputs": [
    {
     "data": {
      "text/plain": [
       "-0.14285714285714285"
      ]
     },
     "execution_count": 18,
     "metadata": {},
     "output_type": "execute_result"
    }
   ],
   "source": [
    "reloaded_function(3,4)"
   ]
  },
  {
   "cell_type": "markdown",
   "metadata": {
    "collapsed": true
   },
   "source": [
    "# Excercises\n",
    "\n",
    "## Find today's playlist on BBC Radio 1\n",
    "\n",
    "As we saw before, JSON is a great way to store data that can be represented as lists, strings, numbers or dictionaries. Because of this, JSON is one of the main ways that raw data is passed between computers on the internet. \n",
    "\n",
    "For example, a weather website might offer a service to find the weather in a particular city. What you would do is access the website http://sampleweatherwebsite.com/weather?city=[name_of_city], and it would return plain text that contains a dictionary in JSON format that would look something like this\"\n",
    "\n",
    "```python\n",
    "{'city': {'name': 'Seattle',\n",
    "          'latitude': '47.6062N',\n",
    "          'longitude': '122.3321W'}\n",
    " 'weather': { 'temperature': 54,\n",
    "              'humidity': 76,\n",
    "              'conditions': 'cloudy',\n",
    "              'chance of precipitation': 100\n",
    "            }\n",
    "}\n",
    "```\n",
    "We call these sorts of services APIs (application public interfaces). They are similar to web pages, but instead of rendering a document with fonts, images, and other human readable elements, they provide data that is meant to be processed by computers. There's a variety of APIs on the web that return data on all sorts of interesting things. Many of these require you to sign up for the website and obtain a \"password\" called an *API key* which you keep secret. This is used to identify you as a user, and make sure that you're not abusing the service by making too many requests.\n",
    "\n",
    "The BBC offers an API for finding the current playlist on Radio 1 that does not require a login or an API key. In this excercise, you'll use the *requests* module to access the Radio 1 API, use the *json* module to parse the data that you obtain from it, and then process the resulting data structure to get a dictionary of Artist -> Song Title pairs for all of the playlists together.\n",
    "\n",
    "First, import the *requests* module."
   ]
  },
  {
   "cell_type": "code",
   "execution_count": 23,
   "metadata": {
    "collapsed": true
   },
   "outputs": [],
   "source": [
    "import requests"
   ]
  },
  {
   "cell_type": "markdown",
   "metadata": {},
   "source": [
    "Now, we're going to use the get() function in the requests module to make an HTTP request to the BBC website. The website in question is http://www.bbc.co.uk/radio1/playlist.json. If you visit it in your browser, you'll notice that it returns a string in JSON format. \n",
    "\n",
    "Pass this web address to the get() function in requests as a string. Save the answer in a variable called response. Also call the method raise_for_status() on the response, to alert Python of any errors in getting the data."
   ]
  },
  {
   "cell_type": "code",
   "execution_count": 24,
   "metadata": {
    "collapsed": true
   },
   "outputs": [],
   "source": [
    "response = requests.get('http://www.bbc.co.uk/radio1/playlist.json')\n",
    "response.raise_for_status()"
   ]
  },
  {
   "cell_type": "markdown",
   "metadata": {},
   "source": [
    "```python\n",
    "response.text\n",
    "``` \n",
    "\n",
    "is a variable that stores the text of the response. This will always be a string, but because we accessed a website that produces JSON, it's a string that we can parse using the *json* module into a Python object. The function loads() in the json module is similar to the load() function but it takes a string instead of a file as its argument. Use this function to convert the text of the response into a Python dictionary."
   ]
  },
  {
   "cell_type": "code",
   "execution_count": 25,
   "metadata": {
    "collapsed": true
   },
   "outputs": [],
   "source": [
    "song_data = json.loads(response.text)"
   ]
  },
  {
   "cell_type": "markdown",
   "metadata": {},
   "source": [
    "The song data consists of several nested dictionaries. Try priting out the whole song_data variable. Since there is a lot of information contained in this varible, you might find it helpful to use the .keys() dictionary method to unravel the structure. You should see five different playlists, called *a*, *b*, *c*, and *introducing* and *totw*. What kind of data structure is contained in each playlist?"
   ]
  },
  {
   "cell_type": "code",
   "execution_count": 30,
   "metadata": {
    "collapsed": false
   },
   "outputs": [
    {
     "data": {
      "text/plain": [
       "dict_keys(['playlist'])"
      ]
     },
     "execution_count": 30,
     "metadata": {},
     "output_type": "execute_result"
    }
   ],
   "source": [
    "song_data.keys()"
   ]
  },
  {
   "cell_type": "code",
   "execution_count": 31,
   "metadata": {
    "collapsed": false
   },
   "outputs": [
    {
     "data": {
      "text/plain": [
       "dict_keys(['a', 'b', 'introducing', 'c', 'totw'])"
      ]
     },
     "execution_count": 31,
     "metadata": {},
     "output_type": "execute_result"
    }
   ],
   "source": [
    "song_data['playlist'].keys()"
   ]
  },
  {
   "cell_type": "code",
   "execution_count": 34,
   "metadata": {
    "collapsed": false
   },
   "outputs": [
    {
     "data": {
      "text/plain": [
       "[{'artist': 'All Time Low',\n",
       "  'artist_id': '62162215-b023-4f0e-84bd-1e9412d5b32c',\n",
       "  'image': 'https://ichef.bbci.co.uk/images/ic/512x512/p052216s.jpg',\n",
       "  'label': None,\n",
       "  'playlist': None,\n",
       "  'status': None,\n",
       "  'title': 'Life Of The Party'},\n",
       " {'artist': 'Blaenavon',\n",
       "  'artist_id': '6fcabcfc-e595-4de5-b3df-ab4ff5aa587b',\n",
       "  'image': 'https://ichef.bbci.co.uk/images/ic/512x512/p0540xhm.jpg',\n",
       "  'label': None,\n",
       "  'playlist': None,\n",
       "  'status': None,\n",
       "  'title': 'Lonely Side'},\n",
       " {'artist': 'Camila Cabello',\n",
       "  'artist_id': '01b8b5bf-06cb-45da-85fb-61ada72fcd69',\n",
       "  'image': 'https://ichef.bbci.co.uk/images/ic/512x512/p054nhv7.jpg',\n",
       "  'label': None,\n",
       "  'playlist': None,\n",
       "  'status': None,\n",
       "  'title': 'Crying In The Club'},\n",
       " {'artist': 'Halsey',\n",
       "  'artist_id': '3377f3bb-60fc-4403-aea9-7e800612e060',\n",
       "  'image': 'https://ichef.bbci.co.uk/images/ic/512x512/p052nf9v.jpg',\n",
       "  'label': None,\n",
       "  'playlist': None,\n",
       "  'status': None,\n",
       "  'title': 'Now Or Never'},\n",
       " {'artist': 'The Hunna',\n",
       "  'artist_id': '39c6625e-8312-41f6-8cd0-2648e95f8db1',\n",
       "  'image': 'https://ichef.bbci.co.uk/images/ic/512x512/p051qg0q.jpg',\n",
       "  'label': None,\n",
       "  'playlist': None,\n",
       "  'status': None,\n",
       "  'title': 'Never Enough'},\n",
       " {'artist': 'Lethal Bizzle',\n",
       "  'artist_id': '1155431a-d35e-4863-9ae0-e3c24eb61aa9',\n",
       "  'image': 'https://ichef.bbci.co.uk/images/ic/512x512/p0540xrp.jpg',\n",
       "  'label': None,\n",
       "  'playlist': None,\n",
       "  'status': None,\n",
       "  'title': 'I Win (feat. Skepta)'},\n",
       " {'artist': 'Little Mix',\n",
       "  'artist_id': '38f59974-2f4d-4bfa-b2e3-d2696de1b675',\n",
       "  'image': 'https://ichef.bbci.co.uk/images/ic/512x512/p054nhwc.jpg',\n",
       "  'label': None,\n",
       "  'playlist': None,\n",
       "  'status': None,\n",
       "  'title': 'Power (feat. Stormzy)'},\n",
       " {'artist': 'Major Lazer',\n",
       "  'artist_id': '75be165a-ad83-4d12-bd28-f589a15c479f',\n",
       "  'image': 'https://ichef.bbci.co.uk/images/ic/512x512/p054phpr.jpg',\n",
       "  'label': None,\n",
       "  'playlist': None,\n",
       "  'status': None,\n",
       "  'title': 'Know No Better (feat. Travis Scott, Camila Cabello & Quavo)'},\n",
       " {'artist': 'RAT BOY',\n",
       "  'artist_id': '5f6554f6-2d20-4676-8fb0-57e8f694a532',\n",
       "  'image': 'https://ichef.bbci.co.uk/images/ic/512x512/p053c7h6.jpg',\n",
       "  'label': None,\n",
       "  'playlist': None,\n",
       "  'status': None,\n",
       "  'title': 'Revolution'},\n",
       " {'artist': 'Selena Gomez',\n",
       "  'artist_id': 'e4bc69e2-a064-4f93-ada1-f7f209cc1cc3',\n",
       "  'image': 'https://ichef.bbci.co.uk/images/ic/512x512/p0540xl0.jpg',\n",
       "  'label': None,\n",
       "  'playlist': None,\n",
       "  'status': None,\n",
       "  'title': 'Bad Liar'},\n",
       " {'artist': 'WizKid',\n",
       "  'artist_id': 'efc5d365-a448-4e2f-9b5f-4a7c84be725c',\n",
       "  'image': 'https://ichef.bbci.co.uk/images/ic/512x512/p04zc14p.jpg',\n",
       "  'label': None,\n",
       "  'playlist': None,\n",
       "  'status': None,\n",
       "  'title': 'Come Closer (feat. Drake)'},\n",
       " {'artist': 'Zara Larsson',\n",
       "  'artist_id': '134e6410-6954-45d1-bd4a-0f2d2ad5471d',\n",
       "  'image': 'https://ichef.bbci.co.uk/images/ic/512x512/p054phfs.jpg',\n",
       "  'label': None,\n",
       "  'playlist': None,\n",
       "  'status': None,\n",
       "  'title': \"Don't Let Me Be Yours\"}]"
      ]
     },
     "execution_count": 34,
     "metadata": {},
     "output_type": "execute_result"
    }
   ],
   "source": [
    "song_data['playlist']['c']"
   ]
  },
  {
   "cell_type": "markdown",
   "metadata": {},
   "source": [
    "Now, write a function that iterates over these different playlists, and combines them all into a single Python list, keeping only the \"artist\" and \"title\" attributes of each entry."
   ]
  },
  {
   "cell_type": "code",
   "execution_count": 47,
   "metadata": {
    "collapsed": false
   },
   "outputs": [],
   "source": [
    "def combine_playlists(playlist_data):\n",
    "    playlist_data = playlist_data['playlist']\n",
    "    output = []\n",
    "    for name, playlist in playlist_data.items():\n",
    "        for song in playlist:\n",
    "            output.append({'title': song['title'], \n",
    "                           'artist': song['artist'], \n",
    "                          })\n",
    "    return output\n",
    "\n",
    "output = combine_playlists(song_data)"
   ]
  },
  {
   "cell_type": "markdown",
   "metadata": {},
   "source": [
    "## 2. Select a random song\n",
    "\n",
    "Now that we have a playlist of songs collected from the BBC, let's write a function called print_random_song that picks a random song from the playlist and prints the string \"Now playing - {song} by {artist}\" using the print function. Since it prints the information out, there's no need to return anything!\n",
    "\n",
    "To do this, we will need some way of picking elements randomly. Python provides a *random* module that provides lots of useful functions for getting random behavior. Rather than giving you the name of the function, in this excercise you should visit https://docs.python.org/3/library/random.html and read the documentation for the module. Do you see a function in the library that works for picking a random element from a list?\n",
    "\n",
    "If you didn't complete the first part of the excercise and don't have a list of songs, there's a sample one (from June 2017) stored in 'assets/playlist.json'. Load this file using the json module (maybe do this anyway for practice!) and use it to complete the excercise. "
   ]
  },
  {
   "cell_type": "code",
   "execution_count": 49,
   "metadata": {
    "collapsed": false
   },
   "outputs": [],
   "source": [
    "import random \n",
    "\n",
    "def print_random_song(song_data):\n",
    "    song = random.choice(song_data)\n",
    "    print(\"Now playing\", song['title'], \"by\", song['artist'])"
   ]
  },
  {
   "cell_type": "code",
   "execution_count": 55,
   "metadata": {
    "collapsed": false
   },
   "outputs": [
    {
     "name": "stdout",
     "output_type": "stream",
     "text": [
      "Now playing WALLS by Kings of Leon\n"
     ]
    }
   ],
   "source": [
    "print_random_song(output)"
   ]
  },
  {
   "cell_type": "code",
   "execution_count": null,
   "metadata": {
    "collapsed": true
   },
   "outputs": [],
   "source": []
  }
 ],
 "metadata": {
  "anaconda-cloud": {},
  "kernelspec": {
   "display_name": "Python [default]",
   "language": "python",
   "name": "python3"
  },
  "language_info": {
   "codemirror_mode": {
    "name": "ipython",
    "version": 3
   },
   "file_extension": ".py",
   "mimetype": "text/x-python",
   "name": "python",
   "nbconvert_exporter": "python",
   "pygments_lexer": "ipython3",
   "version": "3.5.2"
  }
 },
 "nbformat": 4,
 "nbformat_minor": 1
}
